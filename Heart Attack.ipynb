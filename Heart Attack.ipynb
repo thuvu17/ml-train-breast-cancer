{
 "cells": [
  {
   "cell_type": "markdown",
   "id": "c113eaee-456e-4816-a8e2-c3c0be7e3ddd",
   "metadata": {},
   "source": [
    "# **Heart Attack**"
   ]
  },
  {
   "cell_type": "markdown",
   "id": "585b1d09-f9ea-48f9-bb2a-9ea445d62a8a",
   "metadata": {},
   "source": [
    "## **1. Import**"
   ]
  },
  {
   "cell_type": "markdown",
   "id": "7437ed78-abf6-41d6-b290-995fc776d6b3",
   "metadata": {},
   "source": [
    "### 1.1. General Library"
   ]
  },
  {
   "cell_type": "code",
   "execution_count": 2,
   "id": "75a035b7-a8cf-4504-8140-c6258665f36e",
   "metadata": {},
   "outputs": [],
   "source": [
    "import numpy as np\n",
    "import pandas as pd\n",
    "import matplotlib.pyplot as plt\n",
    "from sklearn import metrics as metrics\n",
    "from sklearn.model_selection import train_test_split "
   ]
  },
  {
   "cell_type": "code",
   "execution_count": 3,
   "id": "e2959e98-99f6-4f91-916e-9a1db0df2b65",
   "metadata": {},
   "outputs": [],
   "source": [
    "from sklearn.metrics import roc_curve, auc\n",
    "import seaborn as sns"
   ]
  },
  {
   "cell_type": "code",
   "execution_count": 153,
   "id": "e0683e83-d1b7-415b-aaee-ea76dc2817d2",
   "metadata": {},
   "outputs": [],
   "source": [
    "import numpy.random as r # We will randomly initialize our weights\n",
    "from sklearn.metrics import accuracy_score # "
   ]
  },
  {
   "cell_type": "markdown",
   "id": "721d9d1c-02cd-4aff-9b5a-29121ab0cf93",
   "metadata": {},
   "source": [
    "## **2. Preparing Data**"
   ]
  },
  {
   "cell_type": "markdown",
   "id": "c83193b8-8e83-4a86-b77d-780dc135ed17",
   "metadata": {},
   "source": [
    "### 2.1. Importing Data"
   ]
  },
  {
   "cell_type": "code",
   "execution_count": 60,
   "id": "36808efc-6ace-495e-83b6-49433c65b951",
   "metadata": {
    "scrolled": true
   },
   "outputs": [],
   "source": [
    "df = pd.read_csv('heart.csv')\n",
    "data = df.to_numpy()"
   ]
  },
  {
   "cell_type": "code",
   "execution_count": 61,
   "id": "2ffd4fe1-8bde-4be9-a825-d091293f8694",
   "metadata": {},
   "outputs": [
    {
     "data": {
      "text/plain": [
       "(303, 14)"
      ]
     },
     "execution_count": 61,
     "metadata": {},
     "output_type": "execute_result"
    }
   ],
   "source": [
    "df.shape"
   ]
  },
  {
   "cell_type": "code",
   "execution_count": 62,
   "id": "0e1fda04-ccb5-44d2-bbc7-40cd8c07c9c6",
   "metadata": {
    "scrolled": true
   },
   "outputs": [
    {
     "data": {
      "text/html": [
       "<div>\n",
       "<style scoped>\n",
       "    .dataframe tbody tr th:only-of-type {\n",
       "        vertical-align: middle;\n",
       "    }\n",
       "\n",
       "    .dataframe tbody tr th {\n",
       "        vertical-align: top;\n",
       "    }\n",
       "\n",
       "    .dataframe thead th {\n",
       "        text-align: right;\n",
       "    }\n",
       "</style>\n",
       "<table border=\"1\" class=\"dataframe\">\n",
       "  <thead>\n",
       "    <tr style=\"text-align: right;\">\n",
       "      <th></th>\n",
       "      <th>age</th>\n",
       "      <th>sex</th>\n",
       "      <th>cp</th>\n",
       "      <th>trestbps</th>\n",
       "      <th>chol</th>\n",
       "      <th>fbs</th>\n",
       "      <th>restecg</th>\n",
       "      <th>thalach</th>\n",
       "      <th>exang</th>\n",
       "      <th>oldpeak</th>\n",
       "      <th>slope</th>\n",
       "      <th>ca</th>\n",
       "      <th>thal</th>\n",
       "      <th>target</th>\n",
       "    </tr>\n",
       "  </thead>\n",
       "  <tbody>\n",
       "    <tr>\n",
       "      <th>0</th>\n",
       "      <td>63</td>\n",
       "      <td>1</td>\n",
       "      <td>3</td>\n",
       "      <td>145</td>\n",
       "      <td>233</td>\n",
       "      <td>1</td>\n",
       "      <td>0</td>\n",
       "      <td>150</td>\n",
       "      <td>0</td>\n",
       "      <td>2.3</td>\n",
       "      <td>0</td>\n",
       "      <td>0</td>\n",
       "      <td>1</td>\n",
       "      <td>1</td>\n",
       "    </tr>\n",
       "    <tr>\n",
       "      <th>1</th>\n",
       "      <td>37</td>\n",
       "      <td>1</td>\n",
       "      <td>2</td>\n",
       "      <td>130</td>\n",
       "      <td>250</td>\n",
       "      <td>0</td>\n",
       "      <td>1</td>\n",
       "      <td>187</td>\n",
       "      <td>0</td>\n",
       "      <td>3.5</td>\n",
       "      <td>0</td>\n",
       "      <td>0</td>\n",
       "      <td>2</td>\n",
       "      <td>1</td>\n",
       "    </tr>\n",
       "    <tr>\n",
       "      <th>2</th>\n",
       "      <td>41</td>\n",
       "      <td>0</td>\n",
       "      <td>1</td>\n",
       "      <td>130</td>\n",
       "      <td>204</td>\n",
       "      <td>0</td>\n",
       "      <td>0</td>\n",
       "      <td>172</td>\n",
       "      <td>0</td>\n",
       "      <td>1.4</td>\n",
       "      <td>2</td>\n",
       "      <td>0</td>\n",
       "      <td>2</td>\n",
       "      <td>1</td>\n",
       "    </tr>\n",
       "    <tr>\n",
       "      <th>3</th>\n",
       "      <td>56</td>\n",
       "      <td>1</td>\n",
       "      <td>1</td>\n",
       "      <td>120</td>\n",
       "      <td>236</td>\n",
       "      <td>0</td>\n",
       "      <td>1</td>\n",
       "      <td>178</td>\n",
       "      <td>0</td>\n",
       "      <td>0.8</td>\n",
       "      <td>2</td>\n",
       "      <td>0</td>\n",
       "      <td>2</td>\n",
       "      <td>1</td>\n",
       "    </tr>\n",
       "    <tr>\n",
       "      <th>4</th>\n",
       "      <td>57</td>\n",
       "      <td>0</td>\n",
       "      <td>0</td>\n",
       "      <td>120</td>\n",
       "      <td>354</td>\n",
       "      <td>0</td>\n",
       "      <td>1</td>\n",
       "      <td>163</td>\n",
       "      <td>1</td>\n",
       "      <td>0.6</td>\n",
       "      <td>2</td>\n",
       "      <td>0</td>\n",
       "      <td>2</td>\n",
       "      <td>1</td>\n",
       "    </tr>\n",
       "  </tbody>\n",
       "</table>\n",
       "</div>"
      ],
      "text/plain": [
       "   age  sex  cp  trestbps  chol  fbs  restecg  thalach  exang  oldpeak  slope  \\\n",
       "0   63    1   3       145   233    1        0      150      0      2.3      0   \n",
       "1   37    1   2       130   250    0        1      187      0      3.5      0   \n",
       "2   41    0   1       130   204    0        0      172      0      1.4      2   \n",
       "3   56    1   1       120   236    0        1      178      0      0.8      2   \n",
       "4   57    0   0       120   354    0        1      163      1      0.6      2   \n",
       "\n",
       "   ca  thal  target  \n",
       "0   0     1       1  \n",
       "1   0     2       1  \n",
       "2   0     2       1  \n",
       "3   0     2       1  \n",
       "4   0     2       1  "
      ]
     },
     "execution_count": 62,
     "metadata": {},
     "output_type": "execute_result"
    }
   ],
   "source": [
    "df.head()"
   ]
  },
  {
   "cell_type": "code",
   "execution_count": 63,
   "id": "0e34cae0-488b-4138-9c40-b15c059cec40",
   "metadata": {
    "scrolled": true
   },
   "outputs": [],
   "source": [
    "X = data[:, :-1]\n",
    "y = data[:, -1]"
   ]
  },
  {
   "cell_type": "code",
   "execution_count": 64,
   "id": "b21191ff-2e63-4472-aaba-6450cd13d0b7",
   "metadata": {},
   "outputs": [
    {
     "data": {
      "text/plain": [
       "(303, 13)"
      ]
     },
     "execution_count": 64,
     "metadata": {},
     "output_type": "execute_result"
    }
   ],
   "source": [
    "X.shape"
   ]
  },
  {
   "cell_type": "markdown",
   "id": "b6b91344-10c1-4777-b848-6bac7315f1ba",
   "metadata": {},
   "source": [
    "## **3. Model 1: Logistic Regression**"
   ]
  },
  {
   "cell_type": "markdown",
   "id": "bf78842b-3858-4392-a360-bfb9ac4e96b4",
   "metadata": {},
   "source": [
    "### **3.1. Without Regularization**"
   ]
  },
  {
   "cell_type": "markdown",
   "id": "244a58ab-730d-4c1d-b53b-856636a19a5a",
   "metadata": {},
   "source": [
    "#### 3.1.1 Splitting Data"
   ]
  },
  {
   "cell_type": "code",
   "execution_count": 65,
   "id": "fef40450-a9a1-4882-a44e-52f2a4473262",
   "metadata": {},
   "outputs": [],
   "source": [
    "X_train, X_test, y_train, y_test = train_test_split(X, y,random_state=42)"
   ]
  },
  {
   "cell_type": "markdown",
   "id": "66eaa05d-9f9a-418a-bf37-cb91f7edbf97",
   "metadata": {},
   "source": [
    "#### 3.1.2. Processing Data"
   ]
  },
  {
   "cell_type": "markdown",
   "id": "51d3c6a1-a695-4476-a175-bd2dd6351b66",
   "metadata": {},
   "source": [
    "##### 3.1.2.1. Reshape"
   ]
  },
  {
   "cell_type": "code",
   "execution_count": 66,
   "id": "931d232a-c4ac-44d0-a6ba-3a57a368ddb3",
   "metadata": {},
   "outputs": [],
   "source": [
    "y_2d_train = y_train.reshape(-1,1)\n",
    "y_2d_test = y_test.reshape(-1,1)"
   ]
  },
  {
   "cell_type": "code",
   "execution_count": 67,
   "id": "c157558a-d393-43c3-bd88-4f5e61a3335e",
   "metadata": {},
   "outputs": [
    {
     "data": {
      "text/plain": [
       "((227, 13), (227, 1))"
      ]
     },
     "execution_count": 67,
     "metadata": {},
     "output_type": "execute_result"
    }
   ],
   "source": [
    "X_train.shape, y_2d_train.shape"
   ]
  },
  {
   "cell_type": "markdown",
   "id": "22cc689d-8a81-4e09-b292-23ac67f09bdd",
   "metadata": {},
   "source": [
    "##### 3.1.2.2. Design Matrix"
   ]
  },
  {
   "cell_type": "code",
   "execution_count": 68,
   "id": "15202d11-c8ee-4ccd-a25f-e1187fc08e33",
   "metadata": {
    "scrolled": true
   },
   "outputs": [
    {
     "data": {
      "text/plain": [
       "array([[ 1., 57.,  1., ...,  2.,  1.,  2.],\n",
       "       [ 1., 59.,  1., ...,  1.,  1.,  1.],\n",
       "       [ 1., 67.,  1., ...,  1.,  2.,  3.],\n",
       "       ...,\n",
       "       [ 1., 69.,  1., ...,  1.,  1.,  2.],\n",
       "       [ 1., 46.,  1., ...,  2.,  0.,  3.],\n",
       "       [ 1., 63.,  0., ...,  2.,  2.,  2.]])"
      ]
     },
     "execution_count": 68,
     "metadata": {},
     "output_type": "execute_result"
    }
   ],
   "source": [
    "ones = np.ones((X_train.shape[0], 1))\n",
    "X_train_1 = np.hstack((ones,X_train))\n",
    "X_train_1"
   ]
  },
  {
   "cell_type": "code",
   "execution_count": 69,
   "id": "80f1b592-03b8-4944-a406-1d83ed27081a",
   "metadata": {},
   "outputs": [
    {
     "data": {
      "text/plain": [
       "(227, 14)"
      ]
     },
     "execution_count": 69,
     "metadata": {},
     "output_type": "execute_result"
    }
   ],
   "source": [
    "X_train_1.shape"
   ]
  },
  {
   "cell_type": "markdown",
   "id": "4cc9d997-9407-47ae-a434-cf7481c61f56",
   "metadata": {},
   "source": [
    "##### 3.1.2.3. Initialize w"
   ]
  },
  {
   "cell_type": "code",
   "execution_count": 70,
   "id": "ee9ec417-d7d9-490b-a312-c1602437f266",
   "metadata": {},
   "outputs": [],
   "source": [
    "w_init = np.zeros((X_train_1.shape[1], 1))"
   ]
  },
  {
   "cell_type": "code",
   "execution_count": 71,
   "id": "3ef1f8af-7bf0-49c2-94c4-d0141b40977e",
   "metadata": {
    "scrolled": true
   },
   "outputs": [
    {
     "data": {
      "text/plain": [
       "(14, 1)"
      ]
     },
     "execution_count": 71,
     "metadata": {},
     "output_type": "execute_result"
    }
   ],
   "source": [
    "w_init.shape"
   ]
  },
  {
   "cell_type": "markdown",
   "id": "b5544c4e-e3ce-4a11-9b54-0c241b7da330",
   "metadata": {},
   "source": [
    "#### 3.1.3. Sigmoid(z)"
   ]
  },
  {
   "cell_type": "markdown",
   "id": "f34d1af0-5075-4261-bb61-6b441392079f",
   "metadata": {},
   "source": [
    "$$\\sigma (z) = \\frac{1}{1 + e^{-z}}$$"
   ]
  },
  {
   "cell_type": "code",
   "execution_count": 72,
   "id": "402bd2cb-194a-48de-9334-9b8beecc97cc",
   "metadata": {},
   "outputs": [],
   "source": [
    "def sigmoid(z):\n",
    "    return 1 / (1 + np.exp(-z))"
   ]
  },
  {
   "cell_type": "markdown",
   "id": "36935ebd-016c-45ec-9b82-586fd9540b78",
   "metadata": {},
   "source": [
    "#### 3.1.4. Prediction Function"
   ]
  },
  {
   "cell_type": "markdown",
   "id": "5e6d8874-50c4-4396-b7de-d0ba035bca7b",
   "metadata": {},
   "source": [
    "$$ h(x) = \\frac{1}{1 + e^{-(w_0+w_1x_1+w_2x_2+...+w_dx_d)}} $$"
   ]
  },
  {
   "cell_type": "markdown",
   "id": "4ad2733a-7b30-4730-86a0-7d999651928e",
   "metadata": {},
   "source": [
    "$$ h(x) = \\frac{1}{1 + e^{-Xw}} $$"
   ]
  },
  {
   "cell_type": "code",
   "execution_count": 73,
   "id": "5dfd935c-2046-49d9-a055-2f13af82702c",
   "metadata": {},
   "outputs": [],
   "source": [
    "def hypothesis(X, w):\n",
    "    return sigmoid(np.dot(X, w))"
   ]
  },
  {
   "cell_type": "code",
   "execution_count": 74,
   "id": "d86fcb5f-b8ba-4c4b-ac99-019ae4e6ef04",
   "metadata": {},
   "outputs": [
    {
     "data": {
      "text/plain": [
       "(227, 1)"
      ]
     },
     "execution_count": 74,
     "metadata": {},
     "output_type": "execute_result"
    }
   ],
   "source": [
    "y_hat_init = hypothesis(X_train_1, w_init)\n",
    "y_hat_init.shape"
   ]
  },
  {
   "cell_type": "markdown",
   "id": "aca3a60e-5fc9-4ca1-a747-d235b78bd510",
   "metadata": {},
   "source": [
    "#### 3.1.5. Log_likelihood Function"
   ]
  },
  {
   "cell_type": "markdown",
   "id": "d82f51e9-4128-4560-91fb-928aece8f334",
   "metadata": {},
   "source": [
    "$$ l(w) = \\sum_{i=1}^{N} y^{(i)}ln(h(x^{(i)})) + (1 - y^{(i)})ln(1 - h(x^{(i)})) $$"
   ]
  },
  {
   "cell_type": "code",
   "execution_count": 75,
   "id": "1002962f-f401-48d5-a54c-dd002c0e78f0",
   "metadata": {},
   "outputs": [
    {
     "data": {
      "text/plain": [
       "((227, 1), (227, 1))"
      ]
     },
     "execution_count": 75,
     "metadata": {},
     "output_type": "execute_result"
    }
   ],
   "source": [
    "def log_likelihood(X, y, w):\n",
    "    y_hat = sigmoid(np.dot(X, w))\n",
    "    return np.dot(y.T, np.log(1-y_hat)) + np.dot((1-y).T, np.log(y_hat))\n",
    "\n",
    "y_2d_train.shape, hypothesis(X_train_1, w_init).shape"
   ]
  },
  {
   "cell_type": "code",
   "execution_count": 76,
   "id": "6dd05bbd-afc6-49aa-a841-5539d87c758e",
   "metadata": {},
   "outputs": [
    {
     "data": {
      "text/plain": [
       "array([[-157.34440999]])"
      ]
     },
     "execution_count": 76,
     "metadata": {},
     "output_type": "execute_result"
    }
   ],
   "source": [
    "log_likelihood(X_train_1, y_2d_train, w_init)"
   ]
  },
  {
   "cell_type": "markdown",
   "id": "0a5c1c1a-2a37-4daa-b30d-0a3968ed1a37",
   "metadata": {},
   "source": [
    "#### 3.1.6. Gradient Ascent"
   ]
  },
  {
   "cell_type": "code",
   "execution_count": 77,
   "id": "6b9d2c55-f672-463b-bf86-a975832b9045",
   "metadata": {},
   "outputs": [],
   "source": [
    "def gradient_ascent(X, y, alpha, num_iters):\n",
    "    N = X.shape[0]\n",
    "    w = np.zeros((X.shape[1], 1))\n",
    "\n",
    "    for _ in range(num_iters):\n",
    "        y_hat = hypothesis(X, w)\n",
    "        w += alpha / N * np.dot(X.T, (y - y_hat))\n",
    "\n",
    "    return w"
   ]
  },
  {
   "cell_type": "code",
   "execution_count": 78,
   "id": "ee89e4e4-c7a8-47bc-866c-d783a5e59826",
   "metadata": {
    "scrolled": true
   },
   "outputs": [
    {
     "data": {
      "text/plain": [
       "array([[-5.00914040e-05],\n",
       "       [-7.98775123e-03],\n",
       "       [-7.83859626e-04],\n",
       "       [ 1.91000670e-03],\n",
       "       [-8.89328914e-03],\n",
       "       [-4.49283853e-03],\n",
       "       [ 2.61810824e-05],\n",
       "       [ 1.98628259e-04],\n",
       "       [ 1.95544716e-02],\n",
       "       [-8.97480944e-04],\n",
       "       [-2.09286422e-03],\n",
       "       [ 8.28181376e-04],\n",
       "       [-1.73114451e-03],\n",
       "       [-1.08836361e-03]])"
      ]
     },
     "execution_count": 78,
     "metadata": {},
     "output_type": "execute_result"
    }
   ],
   "source": [
    "alpha = 0.0000001\n",
    "num_iters = 100000\n",
    "w = gradient_ascent(X_train_1, y_2d_train, alpha, num_iters)\n",
    "w"
   ]
  },
  {
   "cell_type": "markdown",
   "id": "11f9e690-255b-4a45-b452-eb04da8ff0dc",
   "metadata": {},
   "source": [
    "#### 3.1.7. Predict the Class Label"
   ]
  },
  {
   "cell_type": "code",
   "execution_count": 79,
   "id": "871b08c6-5c6a-4098-8138-19d849ef4a71",
   "metadata": {},
   "outputs": [],
   "source": [
    "def predict_class(X, w, t = 0.5):\n",
    "    p = sigmoid(np.dot(X, w))\n",
    "    \n",
    "    p_class = np.zeros(p.shape)\n",
    "    \n",
    "    p_class[p >= t] = 1\n",
    "    return p_class"
   ]
  },
  {
   "cell_type": "markdown",
   "id": "8fed4aff-b9b7-4c0d-a4d6-f3683b33250b",
   "metadata": {},
   "source": [
    "#### 3.1.8. Test"
   ]
  },
  {
   "cell_type": "code",
   "execution_count": 80,
   "id": "f3aa033c-1f66-4162-a224-786273d3dd5e",
   "metadata": {
    "scrolled": true
   },
   "outputs": [],
   "source": [
    "ones = np.ones((X_test.shape[0], 1))\n",
    "X_test_1 = np.hstack((ones, X_test))"
   ]
  },
  {
   "cell_type": "code",
   "execution_count": 81,
   "id": "81556f37-b628-403a-9eef-d8ff7fb7d730",
   "metadata": {
    "scrolled": true
   },
   "outputs": [],
   "source": [
    "y_hat = predict_class(X_test_1, w, 0.5)"
   ]
  },
  {
   "cell_type": "code",
   "execution_count": 82,
   "id": "5491cf69-6202-4e3a-9af3-08bb2bd92f67",
   "metadata": {},
   "outputs": [
    {
     "name": "stderr",
     "output_type": "stream",
     "text": [
      "/Library/Frameworks/Python.framework/Versions/3.9/lib/python3.9/site-packages/statsmodels/genmod/families/links.py:198: RuntimeWarning: overflow encountered in exp\n",
      "  t = np.exp(-z)\n"
     ]
    },
    {
     "data": {
      "text/plain": [
       "<Axes: >"
      ]
     },
     "execution_count": 82,
     "metadata": {},
     "output_type": "execute_result"
    },
    {
     "data": {
      "image/png": "[encoded data removed]",
      "text/plain": [
       "<Figure size 640x480 with 1 Axes>"
      ]
     },
     "metadata": {},
     "output_type": "display_data"
    }
   ],
   "source": [
    "sns.regplot(x=np.dot(X_test_1, w), y=y_hat, data=data, logistic=True, ci=None)"
   ]
  },
  {
   "cell_type": "markdown",
   "id": "23b7c708-2366-443e-bb88-dc9fed246522",
   "metadata": {},
   "source": [
    "#### 3.1.9. Scores"
   ]
  },
  {
   "cell_type": "markdown",
   "id": "33722cdc-0cf3-4984-8e65-186ed431bea6",
   "metadata": {},
   "source": [
    "##### 3.1.9.1. Precision"
   ]
  },
  {
   "cell_type": "code",
   "execution_count": 83,
   "id": "b47166ba-7d22-4676-8c80-9033149a5607",
   "metadata": {},
   "outputs": [],
   "source": [
    "def precision(y, y_hat):\n",
    "    true_positive = np.sum(np.logical_and((y == 1), (y_hat == 1)))\n",
    "    false_positive = np.sum(np.logical_and((y == 0), (y_hat == 1)))\n",
    "\n",
    "    if true_positive + false_positive > 0:\n",
    "        return true_positive / (true_positive + false_positive)\n",
    "    return 0"
   ]
  },
  {
   "cell_type": "code",
   "execution_count": 84,
   "id": "958c2237-8b0b-442b-9b0c-205a4990e76d",
   "metadata": {},
   "outputs": [
    {
     "data": {
      "text/plain": [
       "0.723404255319149"
      ]
     },
     "execution_count": 84,
     "metadata": {},
     "output_type": "execute_result"
    }
   ],
   "source": [
    "prec = precision(y_2d_test, y_hat)\n",
    "prec"
   ]
  },
  {
   "cell_type": "markdown",
   "id": "43053fac-395d-49ca-a530-af0fdb22779d",
   "metadata": {},
   "source": [
    "##### 3.1.9.2. Recall"
   ]
  },
  {
   "cell_type": "code",
   "execution_count": 85,
   "id": "c95fc3e2-67c5-4304-95da-633cc7bd5f81",
   "metadata": {},
   "outputs": [],
   "source": [
    "def recall(y, y_hat):\n",
    "    true_positive = np.sum(np.logical_and((y == 1), (y_hat == 1)))\n",
    "    false_negative = np.sum(np.logical_and((y == 1), (y_hat == 0)))\n",
    "\n",
    "    if true_positive + false_negative > 0:\n",
    "        return true_positive / (true_positive + false_negative)\n",
    "    return 0"
   ]
  },
  {
   "cell_type": "code",
   "execution_count": 86,
   "id": "d8f8e4f6-f71e-4965-89c0-7aaa88f73dcf",
   "metadata": {},
   "outputs": [
    {
     "data": {
      "text/plain": [
       "0.8292682926829268"
      ]
     },
     "execution_count": 86,
     "metadata": {},
     "output_type": "execute_result"
    }
   ],
   "source": [
    "rec  = recall(y_2d_test, y_hat)\n",
    "rec"
   ]
  },
  {
   "cell_type": "markdown",
   "id": "b5a6d5bc-42ea-443f-b71d-e4454b5708b2",
   "metadata": {},
   "source": [
    "##### 3.1.9.3. F1"
   ]
  },
  {
   "cell_type": "code",
   "execution_count": 87,
   "id": "445c4f0d-fd1a-4eef-8e4f-88ca6e8efdda",
   "metadata": {},
   "outputs": [],
   "source": [
    "def f1(precision, recall):\n",
    "    if precision + recall > 0:\n",
    "        return 2 * (precision * recall) / (precision + recall)\n",
    "    return 0"
   ]
  },
  {
   "cell_type": "code",
   "execution_count": 88,
   "id": "b3439b7e-0fd2-4795-beb0-fc139e2deacd",
   "metadata": {},
   "outputs": [
    {
     "data": {
      "text/plain": [
       "0.7727272727272727"
      ]
     },
     "execution_count": 88,
     "metadata": {},
     "output_type": "execute_result"
    }
   ],
   "source": [
    "f = f1(prec, rec)\n",
    "f"
   ]
  },
  {
   "cell_type": "markdown",
   "id": "3937e77b-4a25-4c03-96a6-f0e225488fab",
   "metadata": {},
   "source": [
    "##### 3.1.9.4. Confusion Matrix"
   ]
  },
  {
   "cell_type": "code",
   "execution_count": 89,
   "id": "ccaeeab0-941b-45a1-a820-18ccc185a4db",
   "metadata": {},
   "outputs": [
    {
     "data": {
      "image/png": "[encoded data removed]",
      "text/plain": [
       "<Figure size 640x480 with 2 Axes>"
      ]
     },
     "metadata": {},
     "output_type": "display_data"
    }
   ],
   "source": [
    "cm = metrics.confusion_matrix(y_2d_test, y_hat)\n",
    "cm_display = metrics.ConfusionMatrixDisplay(confusion_matrix = cm, display_labels = [False, True])\n",
    "cm_display.plot()\n",
    "plt.show()"
   ]
  },
  {
   "cell_type": "markdown",
   "id": "208b1c5c-3aeb-4b3e-a0cf-0ec7d055ea73",
   "metadata": {},
   "source": [
    "### **3.2. Adding L1 Regularization**"
   ]
  },
  {
   "cell_type": "code",
   "execution_count": null,
   "id": "8564b1ff-c9bc-4af9-88d4-2dca34535dea",
   "metadata": {},
   "outputs": [],
   "source": []
  },
  {
   "cell_type": "markdown",
   "id": "7428348d-0e7f-4508-ab4f-906444cc757c",
   "metadata": {},
   "source": [
    "### **3.3. Adding L2 Regularization**"
   ]
  },
  {
   "cell_type": "code",
   "execution_count": null,
   "id": "89a7fd1e-ebe5-4904-b1c2-d8251a538b79",
   "metadata": {},
   "outputs": [],
   "source": []
  },
  {
   "cell_type": "code",
   "execution_count": null,
   "id": "0fd45f54-fb97-4379-a528-da0dc39f03cc",
   "metadata": {},
   "outputs": [],
   "source": []
  },
  {
   "cell_type": "code",
   "execution_count": null,
   "id": "5f2db1f7-89b1-495f-8450-7e7b39845269",
   "metadata": {},
   "outputs": [],
   "source": []
  },
  {
   "cell_type": "markdown",
   "id": "cd49e332-862a-4bfb-ae49-802d6fc4291a",
   "metadata": {},
   "source": [
    "## **4. Model 2: Support Vector Machine**"
   ]
  },
  {
   "cell_type": "markdown",
   "id": "a24e90cb-c0f4-47da-b81f-1258824f81a4",
   "metadata": {},
   "source": [
    "### **4.1. Without Regularization (Wrong)**"
   ]
  },
  {
   "cell_type": "code",
   "execution_count": 90,
   "id": "b2b6aacc-8291-408c-85b9-46e5db915149",
   "metadata": {},
   "outputs": [],
   "source": [
    "# Split data"
   ]
  },
  {
   "cell_type": "code",
   "execution_count": 91,
   "id": "c21f738f-185d-4263-8ca8-2b965e605f2b",
   "metadata": {},
   "outputs": [],
   "source": [
    "X_train_val, X_test, y_train_val, y_test = train_test_split(X, y, test_size = 0.07, random_state=10, shuffle=True)\n",
    "X_train, X_val, y_train, y_val = train_test_split(\n",
    "    X_train_val, y_train_val, \n",
    "    test_size = 0.07, random_state=10, shuffle=True\n",
    ")"
   ]
  },
  {
   "cell_type": "code",
   "execution_count": 92,
   "id": "d551b776-7f5d-46d9-b8e6-7ea085e3768e",
   "metadata": {},
   "outputs": [
    {
     "name": "stdout",
     "output_type": "stream",
     "text": [
      "X_train:(261, 13)\n",
      "y_train:(261,)\n",
      "X_val: \t(20, 13)\n",
      "y_val: \t(20,)\n",
      "X_test: (22, 13)\n",
      "y_test: (22,)\n"
     ]
    }
   ],
   "source": [
    "print('X_train:' + str(X_train.shape))\n",
    "print('y_train:' + str(y_train.shape))\n",
    "print('X_val: \\t'  + str(X_val.shape))\n",
    "print('y_val: \\t'  + str(y_val.shape))\n",
    "print('X_test: '  + str(X_test.shape))\n",
    "print('y_test: '  + str(y_test.shape))"
   ]
  },
  {
   "cell_type": "code",
   "execution_count": 93,
   "id": "bea62246-3a17-47b4-a4e6-4e9cae41fcb0",
   "metadata": {},
   "outputs": [
    {
     "data": {
      "text/plain": [
       "array([[45.,  0.,  0., ...,  1.,  0.,  2.],\n",
       "       [43.,  1.,  0., ...,  1.,  4.,  3.],\n",
       "       [58.,  0.,  0., ...,  1.,  2.,  1.],\n",
       "       ...,\n",
       "       [46.,  1.,  0., ...,  2.,  0.,  3.],\n",
       "       [71.,  0.,  0., ...,  1.,  0.,  2.],\n",
       "       [54.,  1.,  2., ...,  0.,  1.,  2.]])"
      ]
     },
     "execution_count": 93,
     "metadata": {},
     "output_type": "execute_result"
    }
   ],
   "source": [
    "X_train"
   ]
  },
  {
   "cell_type": "code",
   "execution_count": 94,
   "id": "0f66266c-f162-48f8-98a3-d03b79d43fa4",
   "metadata": {},
   "outputs": [],
   "source": [
    "def score(X, w):\n",
    "    return np.dot(X, w)  "
   ]
  },
  {
   "cell_type": "code",
   "execution_count": null,
   "id": "58db0777-101c-49ba-bfa9-04705542f2f8",
   "metadata": {},
   "outputs": [],
   "source": []
  },
  {
   "cell_type": "code",
   "execution_count": 95,
   "id": "f1768972-d000-4289-8ea7-08e9881b3247",
   "metadata": {},
   "outputs": [],
   "source": [
    "def svm_objective(w, X, y, lambda1=.1):\n",
    "    # To do. This part may require several lines of code. \n",
    "    # Store your answer in result. \n",
    "    result = (lambda1 / 2) * np.dot(w, w) + np.maximum(0, 1 - np.dot(y , np.dot(X, w)).T) \n",
    "    return result"
   ]
  },
  {
   "cell_type": "code",
   "execution_count": null,
   "id": "a5c786ce-7f43-426b-89d6-4949f6e07967",
   "metadata": {},
   "outputs": [],
   "source": []
  },
  {
   "cell_type": "code",
   "execution_count": 96,
   "id": "89252696-e4dc-4d1b-b6f2-dd622eb79588",
   "metadata": {},
   "outputs": [],
   "source": [
    "def pegasos(X_train, y_train, lambda1 =.1, num_iters = 3):\n",
    "    \n",
    "    w = np.ones((X_train.shape[1],))\n",
    "\n",
    "    for i in range(num_iters):\n",
    "        for t in range(1, X_train.shape[0] + 1):\n",
    "        \n",
    "            alpha = 1/(lambda1*t)\n",
    "    \n",
    "            if y_train[t - 1] * score(X_train[t - 1], w) >= 1:\n",
    "                w -= alpha * lambda1 * w\n",
    "            else:\n",
    "                w -= alpha * (lambda1 * w - y_train[t - 1] * X_train[t - 1])\n",
    "\n",
    "    return w"
   ]
  },
  {
   "cell_type": "code",
   "execution_count": 97,
   "id": "d5db6f8b-c310-4998-9def-cbeb6b6c9700",
   "metadata": {},
   "outputs": [
    {
     "data": {
      "text/plain": [
       "array([ 2.2605364 ,  0.03831418,  0.        ,  5.28735632, 10.38314176,\n",
       "        0.        ,  0.        ,  6.97318008,  0.        ,  0.        ,\n",
       "        0.07662835,  0.        ,  0.07662835])"
      ]
     },
     "execution_count": 97,
     "metadata": {},
     "output_type": "execute_result"
    }
   ],
   "source": [
    "w = pegasos(X_train, y_train)\n",
    "w"
   ]
  },
  {
   "cell_type": "code",
   "execution_count": 98,
   "id": "a2f17301-0e1c-4f73-b150-1e940a940113",
   "metadata": {},
   "outputs": [
    {
     "data": {
      "text/plain": [
       "array([-1., -1., -1.,  1., -1.,  1.,  1., -1.,  1., -1.,  1., -1., -1.,\n",
       "        1., -1.,  1., -1., -1.,  1., -1.,  1.,  1.])"
      ]
     },
     "execution_count": 98,
     "metadata": {},
     "output_type": "execute_result"
    }
   ],
   "source": [
    "y_test = np.where(y_test == 1, y_test, -1)\n",
    "y_test"
   ]
  },
  {
   "cell_type": "code",
   "execution_count": 99,
   "id": "21cff7ac-5036-4d6e-8276-dde65774275d",
   "metadata": {},
   "outputs": [
    {
     "data": {
      "text/plain": [
       "array([-6128.08429119, -4262.33716475, -4927.81609195,  3814.09961686,\n",
       "       -4322.14559387,  4670.95785441,  5060.76628352, -3877.85440613,\n",
       "        4922.45210728, -3201.30268199,  3626.7816092 , -4071.49425287,\n",
       "       -3792.10727969,  3839.31034483, -4500.34482759,  4341.4559387 ,\n",
       "       -5393.63984674, -4237.62452107,  4138.5440613 , -4551.95402299,\n",
       "        4284.75095785,  4222.83524904])"
      ]
     },
     "execution_count": 99,
     "metadata": {},
     "output_type": "execute_result"
    }
   ],
   "source": [
    "scores = y_test * score(X_test, w)\n",
    "scores"
   ]
  },
  {
   "cell_type": "code",
   "execution_count": 100,
   "id": "1c141abb-f0bd-4b27-bccf-96d4aa865f56",
   "metadata": {},
   "outputs": [
    {
     "data": {
      "text/plain": [
       "array([-1., -1., -1.,  1., -1.,  1.,  1., -1.,  1., -1.,  1., -1., -1.,\n",
       "        1., -1.,  1., -1., -1.,  1., -1.,  1.,  1.])"
      ]
     },
     "execution_count": 100,
     "metadata": {},
     "output_type": "execute_result"
    }
   ],
   "source": [
    "prediction = np.sign(scores)\n",
    "prediction"
   ]
  },
  {
   "cell_type": "code",
   "execution_count": null,
   "id": "4b3b68bd-3d48-4c93-baa1-34f5e5b706a0",
   "metadata": {},
   "outputs": [],
   "source": []
  },
  {
   "cell_type": "markdown",
   "id": "ce1f161c-3905-42f1-a045-c3801cd5c13e",
   "metadata": {},
   "source": [
    "## **5. Model 3: Artificial Neural Network**"
   ]
  },
  {
   "cell_type": "markdown",
   "id": "ff00878e-1514-45e0-b2b6-4d91a0e22baf",
   "metadata": {},
   "source": [
    "### **4.1. Without Regularization (Wrong)**"
   ]
  },
  {
   "cell_type": "code",
   "execution_count": 101,
   "id": "1f38629f-628f-4b9c-9954-919fddbaf34c",
   "metadata": {},
   "outputs": [
    {
     "data": {
      "text/plain": [
       "array([[63.,  1.,  3., ...,  0.,  0.,  1.],\n",
       "       [37.,  1.,  2., ...,  0.,  0.,  2.],\n",
       "       [41.,  0.,  1., ...,  2.,  0.,  2.],\n",
       "       ...,\n",
       "       [68.,  1.,  0., ...,  1.,  2.,  3.],\n",
       "       [57.,  1.,  0., ...,  1.,  1.,  3.],\n",
       "       [57.,  0.,  1., ...,  1.,  1.,  2.]])"
      ]
     },
     "execution_count": 101,
     "metadata": {},
     "output_type": "execute_result"
    }
   ],
   "source": [
    "X"
   ]
  },
  {
   "cell_type": "code",
   "execution_count": 102,
   "id": "44c5f982-a85a-46bf-b0c0-e218160144e9",
   "metadata": {},
   "outputs": [
    {
     "data": {
      "text/plain": [
       "array([1., 1., 1., 1., 1., 1., 1., 1., 1., 1., 1., 1., 1., 1., 1., 1., 1.,\n",
       "       1., 1., 1., 1., 1., 1., 1., 1., 1., 1., 1., 1., 1., 1., 1., 1., 1.,\n",
       "       1., 1., 1., 1., 1., 1., 1., 1., 1., 1., 1., 1., 1., 1., 1., 1., 1.,\n",
       "       1., 1., 1., 1., 1., 1., 1., 1., 1., 1., 1., 1., 1., 1., 1., 1., 1.,\n",
       "       1., 1., 1., 1., 1., 1., 1., 1., 1., 1., 1., 1., 1., 1., 1., 1., 1.,\n",
       "       1., 1., 1., 1., 1., 1., 1., 1., 1., 1., 1., 1., 1., 1., 1., 1., 1.,\n",
       "       1., 1., 1., 1., 1., 1., 1., 1., 1., 1., 1., 1., 1., 1., 1., 1., 1.,\n",
       "       1., 1., 1., 1., 1., 1., 1., 1., 1., 1., 1., 1., 1., 1., 1., 1., 1.,\n",
       "       1., 1., 1., 1., 1., 1., 1., 1., 1., 1., 1., 1., 1., 1., 1., 1., 1.,\n",
       "       1., 1., 1., 1., 1., 1., 1., 1., 1., 1., 1., 1., 0., 0., 0., 0., 0.,\n",
       "       0., 0., 0., 0., 0., 0., 0., 0., 0., 0., 0., 0., 0., 0., 0., 0., 0.,\n",
       "       0., 0., 0., 0., 0., 0., 0., 0., 0., 0., 0., 0., 0., 0., 0., 0., 0.,\n",
       "       0., 0., 0., 0., 0., 0., 0., 0., 0., 0., 0., 0., 0., 0., 0., 0., 0.,\n",
       "       0., 0., 0., 0., 0., 0., 0., 0., 0., 0., 0., 0., 0., 0., 0., 0., 0.,\n",
       "       0., 0., 0., 0., 0., 0., 0., 0., 0., 0., 0., 0., 0., 0., 0., 0., 0.,\n",
       "       0., 0., 0., 0., 0., 0., 0., 0., 0., 0., 0., 0., 0., 0., 0., 0., 0.,\n",
       "       0., 0., 0., 0., 0., 0., 0., 0., 0., 0., 0., 0., 0., 0., 0., 0., 0.,\n",
       "       0., 0., 0., 0., 0., 0., 0., 0., 0., 0., 0., 0., 0., 0.])"
      ]
     },
     "execution_count": 102,
     "metadata": {},
     "output_type": "execute_result"
    }
   ],
   "source": [
    "y"
   ]
  },
  {
   "cell_type": "code",
   "execution_count": 103,
   "id": "d6f53eb1-d884-4860-bc71-b218a01e9f84",
   "metadata": {},
   "outputs": [],
   "source": [
    "X_train, X_test, y_train, y_test = train_test_split(X, y, test_size=0.4)"
   ]
  },
  {
   "cell_type": "code",
   "execution_count": 128,
   "id": "47f39dc9-edcc-4c78-ba12-47eac57607c2",
   "metadata": {},
   "outputs": [
    {
     "data": {
      "text/plain": [
       "(181, 13)"
      ]
     },
     "execution_count": 128,
     "metadata": {},
     "output_type": "execute_result"
    }
   ],
   "source": [
    "X_train.shape"
   ]
  },
  {
   "cell_type": "code",
   "execution_count": 135,
   "id": "ce4626a4-9f67-4a3d-872c-d5221a9007c6",
   "metadata": {},
   "outputs": [],
   "source": [
    "y_train = y_train.reshape((-1,1))"
   ]
  },
  {
   "cell_type": "code",
   "execution_count": 136,
   "id": "6dd1a0cb-75a2-4875-b8f7-1b3e3aa11f49",
   "metadata": {},
   "outputs": [
    {
     "data": {
      "text/plain": [
       "(181, 1)"
      ]
     },
     "execution_count": 136,
     "metadata": {},
     "output_type": "execute_result"
    }
   ],
   "source": [
    "y_train.shape"
   ]
  },
  {
   "cell_type": "code",
   "execution_count": 144,
   "id": "8f9a77f0-2fb0-4530-a898-4bad6dcdf621",
   "metadata": {},
   "outputs": [],
   "source": [
    "def f(z):\n",
    "    return 1 / (1 + np.exp(-z))\n",
    "\n",
    "def f_deriv(z):\n",
    "    return f(z) * (1 - f(z))"
   ]
  },
  {
   "cell_type": "code",
   "execution_count": 145,
   "id": "575ce511-3ac2-4fea-bf9b-28bd2d431604",
   "metadata": {},
   "outputs": [],
   "source": [
    "def setup_and_init_weights(nn_structure):\n",
    "    W = {} #creating a dictionary i.e. a set of key: value pairs\n",
    "    b = {}\n",
    "    for l in range(1, len(nn_structure)):\n",
    "        W[l] = r.random_sample((nn_structure[l], nn_structure[l-1])) #Return “continuous uniform” random floats in the half-open interval [0.0, 1.0). \n",
    "        b[l] = r.random_sample((nn_structure[l],))\n",
    "    return W, b"
   ]
  },
  {
   "cell_type": "code",
   "execution_count": 146,
   "id": "39f33b52-c685-42b1-85a9-b1d91704416e",
   "metadata": {},
   "outputs": [],
   "source": [
    "def init_tri_values(nn_structure):\n",
    "    tri_W = {}\n",
    "    tri_b = {}\n",
    "    for l in range(1, len(nn_structure)):\n",
    "        tri_W[l] = np.zeros((nn_structure[l], nn_structure[l-1]))\n",
    "        tri_b[l] = np.zeros((nn_structure[l],))\n",
    "    return tri_W, tri_b"
   ]
  },
  {
   "cell_type": "code",
   "execution_count": 147,
   "id": "180ebddc-d2da-46c5-a221-67b2ac474071",
   "metadata": {},
   "outputs": [],
   "source": [
    "def feed_forward(x, W, b):\n",
    "    a = {1: x} # create a dictionary for holding the a values for all levels\n",
    "    z = { } # create a dictionary for holding the z values for all the layers\n",
    "    for l in range(1, len(W) + 1): # for each layer\n",
    "        node_in = a[l]\n",
    "        z[l+1] = W[l].dot(node_in) + b[l]  # z^(l+1) = W^(l)*a^(l) + b^(l)\n",
    "        a[l+1] = f(z[l+1]) # a^(l+1) = f(z^(l+1))\n",
    "    return a, z"
   ]
  },
  {
   "cell_type": "code",
   "execution_count": 148,
   "id": "39833401-8ee5-486c-bb4d-ae68a5272941",
   "metadata": {},
   "outputs": [],
   "source": [
    "def calculate_out_layer_delta(y, a_out, z_out):\n",
    "    # delta^(nl) = -(y_i - a_i^(nl)) * f'(z_i^(nl))\n",
    "    return -(y-a_out) * f_deriv(z_out) \n",
    "\n",
    "\n",
    "def calculate_hidden_delta(delta_plus_1, w_l, z_l):\n",
    "    # delta^(l) = (transpose(W^(l)) * delta^(l+1)) * f'(z^(l))\n",
    "    return np.dot(np.transpose(w_l), delta_plus_1) * f_deriv(z_l)\n"
   ]
  },
  {
   "cell_type": "code",
   "execution_count": 149,
   "id": "8b62099d-5f75-495f-aa4e-67dc35c8f0f6",
   "metadata": {},
   "outputs": [],
   "source": [
    "def train_nn(nn_structure, X, y, iter_num=3000, alpha=0.25):\n",
    "    W, b = setup_and_init_weights(nn_structure)\n",
    "    cnt = 0\n",
    "    N = len(y)\n",
    "    avg_cost_func = []\n",
    "    print('Starting gradient descent for {} iterations'.format(iter_num))\n",
    "    while cnt < iter_num:\n",
    "        if cnt%1000 == 0:\n",
    "            print('Iteration {} of {}'.format(cnt, iter_num))\n",
    "        tri_W, tri_b = init_tri_values(nn_structure)\n",
    "        avg_cost = 0\n",
    "        for i in range(N):\n",
    "            delta = {}\n",
    "            # perform the feed forward pass and return the stored a and z values, to be used in the\n",
    "            # gradient descent step\n",
    "            a, z = feed_forward(X[i, :], W, b)\n",
    "            # loop from nl-1 to 1 backpropagating the errors\n",
    "            for l in range(len(nn_structure), 0, -1):\n",
    "                if l == len(nn_structure):\n",
    "                    delta[l] = calculate_out_layer_delta(y[i,:], a[l], z[l])\n",
    "                    avg_cost += np.linalg.norm((y[i,:]-a[l]))\n",
    "                else:\n",
    "                    if l > 1:\n",
    "                        delta[l] = calculate_hidden_delta(delta[l+1], W[l], z[l])\n",
    "                    # triW^(l) = triW^(l) + delta^(l+1) * transpose(a^(l))\n",
    "                    tri_W[l] += np.dot(delta[l+1][:,np.newaxis], np.transpose(a[l][:,np.newaxis]))# np.newaxis increase the number of dimensions\n",
    "                    # trib^(l) = trib^(l) + delta^(l+1)\n",
    "                    tri_b[l] += delta[l+1]\n",
    "        # perform the gradient descent step for the weights in each layer\n",
    "        for l in range(len(nn_structure) - 1, 0, -1):\n",
    "            W[l] += -alpha * (1.0/N * tri_W[l])\n",
    "            b[l] += -alpha * (1.0/N * tri_b[l])\n",
    "        # complete the average cost calculation\n",
    "        avg_cost = 1.0/N * avg_cost\n",
    "        avg_cost_func.append(avg_cost)\n",
    "        cnt += 1\n",
    "    return W, b, avg_cost_func\n",
    "\n",
    "\n",
    "def predict_y(W, b, X, n_layers):\n",
    "    N = X.shape[0]\n",
    "    y = np.zeros((N,))\n",
    "    for i in range(N):\n",
    "        a, z = feed_forward(X[i, :], W, b)\n",
    "        y[i] = np.argmax(a[n_layers])\n",
    "    return y"
   ]
  },
  {
   "cell_type": "code",
   "execution_count": 161,
   "id": "91bbb8c1-d0f0-4637-9469-573af0ad70fa",
   "metadata": {},
   "outputs": [
    {
     "name": "stdout",
     "output_type": "stream",
     "text": [
      "Starting gradient descent for 3000 iterations\n",
      "Iteration 0 of 3000\n",
      "Iteration 1000 of 3000\n",
      "Iteration 2000 of 3000\n"
     ]
    }
   ],
   "source": [
    "nn_structure = [13, 10, 10]\n",
    "    \n",
    "# train the NN\n",
    "W, b, avg_cost_func = train_nn(nn_structure, X_train, y_train, 3000, 0.75)"
   ]
  },
  {
   "cell_type": "code",
   "execution_count": 162,
   "id": "f09338ff-cbb1-45e4-8d3c-48dff671f5dc",
   "metadata": {},
   "outputs": [
    {
     "data": {
      "image/png": "[encoded data removed]",
      "text/plain": [
       "<Figure size 640x480 with 1 Axes>"
      ]
     },
     "metadata": {},
     "output_type": "display_data"
    }
   ],
   "source": [
    "# plot the avg_cost_func\n",
    "plt.plot(avg_cost_func)\n",
    "plt.ylabel('Average J')\n",
    "plt.xlabel('Iteration number')\n",
    "plt.show()"
   ]
  },
  {
   "cell_type": "code",
   "execution_count": 163,
   "id": "70e5c23b-8622-447e-a168-433fc65860ad",
   "metadata": {},
   "outputs": [
    {
     "name": "stdout",
     "output_type": "stream",
     "text": [
      "Prediction accuracy is 45.90163934426229%\n"
     ]
    }
   ],
   "source": [
    "# get the prediction accuracy and print\n",
    "y_pred = predict_y(W, b, X_test, 3)\n",
    "print('Prediction accuracy is {}%'.format(accuracy_score(y_test, y_pred) * 100))"
   ]
  },
  {
   "cell_type": "code",
   "execution_count": null,
   "id": "147909a1-8f7d-4af8-8fcc-9ce8f69b51a1",
   "metadata": {},
   "outputs": [],
   "source": []
  },
  {
   "cell_type": "code",
   "execution_count": null,
   "id": "3201ae08-f632-4c78-bcf7-ad6b27104b78",
   "metadata": {},
   "outputs": [],
   "source": []
  }
 ],
 "metadata": {
  "kernelspec": {
   "display_name": "Python 3 (ipykernel)",
   "language": "python",
   "name": "python3"
  },
  "language_info": {
   "codemirror_mode": {
    "name": "ipython",
    "version": 3
   },
   "file_extension": ".py",
   "mimetype": "text/x-python",
   "name": "python",
   "nbconvert_exporter": "python",
   "pygments_lexer": "ipython3",
   "version": "3.9.7"
  }
 },
 "nbformat": 4,
 "nbformat_minor": 5
}
