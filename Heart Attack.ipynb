{
 "cells": [
  {
   "cell_type": "markdown",
   "id": "c113eaee-456e-4816-a8e2-c3c0be7e3ddd",
   "metadata": {},
   "source": [
    "# **Heart Attack**"
   ]
  },
  {
   "cell_type": "markdown",
   "id": "585b1d09-f9ea-48f9-bb2a-9ea445d62a8a",
   "metadata": {
    "jp-MarkdownHeadingCollapsed": true
   },
   "source": [
    "## **1. Import**"
   ]
  },
  {
   "cell_type": "markdown",
   "id": "7437ed78-abf6-41d6-b290-995fc776d6b3",
   "metadata": {},
   "source": [
    "### 1.1. General Library"
   ]
  },
  {
   "cell_type": "code",
   "execution_count": 1,
   "id": "75a035b7-a8cf-4504-8140-c6258665f36e",
   "metadata": {},
   "outputs": [],
   "source": [
    "import numpy as np\n",
    "import pandas as pd\n",
    "import matplotlib.pyplot as plt\n",
    "from sklearn import metrics as metrics\n",
    "from sklearn.model_selection import train_test_split "
   ]
  },
  {
   "cell_type": "markdown",
   "id": "721d9d1c-02cd-4aff-9b5a-29121ab0cf93",
   "metadata": {
    "jp-MarkdownHeadingCollapsed": true
   },
   "source": [
    "## **2. Preparing Data**"
   ]
  },
  {
   "cell_type": "markdown",
   "id": "c83193b8-8e83-4a86-b77d-780dc135ed17",
   "metadata": {},
   "source": [
    "### 2.1. Importing Data"
   ]
  },
  {
   "cell_type": "code",
   "execution_count": 2,
   "id": "36808efc-6ace-495e-83b6-49433c65b951",
   "metadata": {
    "scrolled": true
   },
   "outputs": [],
   "source": [
    "df = pd.read_csv('heart.csv')\n",
    "data = df.to_numpy()"
   ]
  },
  {
   "cell_type": "code",
   "execution_count": 3,
   "id": "2ffd4fe1-8bde-4be9-a825-d091293f8694",
   "metadata": {},
   "outputs": [
    {
     "data": {
      "text/plain": [
       "(303, 14)"
      ]
     },
     "execution_count": 3,
     "metadata": {},
     "output_type": "execute_result"
    }
   ],
   "source": [
    "df.shape"
   ]
  },
  {
   "cell_type": "code",
   "execution_count": 4,
   "id": "0e1fda04-ccb5-44d2-bbc7-40cd8c07c9c6",
   "metadata": {
    "scrolled": true
   },
   "outputs": [
    {
     "data": {
      "text/html": [
       "<div>\n",
       "<style scoped>\n",
       "    .dataframe tbody tr th:only-of-type {\n",
       "        vertical-align: middle;\n",
       "    }\n",
       "\n",
       "    .dataframe tbody tr th {\n",
       "        vertical-align: top;\n",
       "    }\n",
       "\n",
       "    .dataframe thead th {\n",
       "        text-align: right;\n",
       "    }\n",
       "</style>\n",
       "<table border=\"1\" class=\"dataframe\">\n",
       "  <thead>\n",
       "    <tr style=\"text-align: right;\">\n",
       "      <th></th>\n",
       "      <th>age</th>\n",
       "      <th>sex</th>\n",
       "      <th>cp</th>\n",
       "      <th>trestbps</th>\n",
       "      <th>chol</th>\n",
       "      <th>fbs</th>\n",
       "      <th>restecg</th>\n",
       "      <th>thalach</th>\n",
       "      <th>exang</th>\n",
       "      <th>oldpeak</th>\n",
       "      <th>slope</th>\n",
       "      <th>ca</th>\n",
       "      <th>thal</th>\n",
       "      <th>target</th>\n",
       "    </tr>\n",
       "  </thead>\n",
       "  <tbody>\n",
       "    <tr>\n",
       "      <th>0</th>\n",
       "      <td>63</td>\n",
       "      <td>1</td>\n",
       "      <td>3</td>\n",
       "      <td>145</td>\n",
       "      <td>233</td>\n",
       "      <td>1</td>\n",
       "      <td>0</td>\n",
       "      <td>150</td>\n",
       "      <td>0</td>\n",
       "      <td>2.3</td>\n",
       "      <td>0</td>\n",
       "      <td>0</td>\n",
       "      <td>1</td>\n",
       "      <td>1</td>\n",
       "    </tr>\n",
       "    <tr>\n",
       "      <th>1</th>\n",
       "      <td>37</td>\n",
       "      <td>1</td>\n",
       "      <td>2</td>\n",
       "      <td>130</td>\n",
       "      <td>250</td>\n",
       "      <td>0</td>\n",
       "      <td>1</td>\n",
       "      <td>187</td>\n",
       "      <td>0</td>\n",
       "      <td>3.5</td>\n",
       "      <td>0</td>\n",
       "      <td>0</td>\n",
       "      <td>2</td>\n",
       "      <td>1</td>\n",
       "    </tr>\n",
       "    <tr>\n",
       "      <th>2</th>\n",
       "      <td>41</td>\n",
       "      <td>0</td>\n",
       "      <td>1</td>\n",
       "      <td>130</td>\n",
       "      <td>204</td>\n",
       "      <td>0</td>\n",
       "      <td>0</td>\n",
       "      <td>172</td>\n",
       "      <td>0</td>\n",
       "      <td>1.4</td>\n",
       "      <td>2</td>\n",
       "      <td>0</td>\n",
       "      <td>2</td>\n",
       "      <td>1</td>\n",
       "    </tr>\n",
       "    <tr>\n",
       "      <th>3</th>\n",
       "      <td>56</td>\n",
       "      <td>1</td>\n",
       "      <td>1</td>\n",
       "      <td>120</td>\n",
       "      <td>236</td>\n",
       "      <td>0</td>\n",
       "      <td>1</td>\n",
       "      <td>178</td>\n",
       "      <td>0</td>\n",
       "      <td>0.8</td>\n",
       "      <td>2</td>\n",
       "      <td>0</td>\n",
       "      <td>2</td>\n",
       "      <td>1</td>\n",
       "    </tr>\n",
       "    <tr>\n",
       "      <th>4</th>\n",
       "      <td>57</td>\n",
       "      <td>0</td>\n",
       "      <td>0</td>\n",
       "      <td>120</td>\n",
       "      <td>354</td>\n",
       "      <td>0</td>\n",
       "      <td>1</td>\n",
       "      <td>163</td>\n",
       "      <td>1</td>\n",
       "      <td>0.6</td>\n",
       "      <td>2</td>\n",
       "      <td>0</td>\n",
       "      <td>2</td>\n",
       "      <td>1</td>\n",
       "    </tr>\n",
       "  </tbody>\n",
       "</table>\n",
       "</div>"
      ],
      "text/plain": [
       "   age  sex  cp  trestbps  chol  fbs  restecg  thalach  exang  oldpeak  slope  \\\n",
       "0   63    1   3       145   233    1        0      150      0      2.3      0   \n",
       "1   37    1   2       130   250    0        1      187      0      3.5      0   \n",
       "2   41    0   1       130   204    0        0      172      0      1.4      2   \n",
       "3   56    1   1       120   236    0        1      178      0      0.8      2   \n",
       "4   57    0   0       120   354    0        1      163      1      0.6      2   \n",
       "\n",
       "   ca  thal  target  \n",
       "0   0     1       1  \n",
       "1   0     2       1  \n",
       "2   0     2       1  \n",
       "3   0     2       1  \n",
       "4   0     2       1  "
      ]
     },
     "execution_count": 4,
     "metadata": {},
     "output_type": "execute_result"
    }
   ],
   "source": [
    "df.head()"
   ]
  },
  {
   "cell_type": "code",
   "execution_count": 5,
   "id": "0e34cae0-488b-4138-9c40-b15c059cec40",
   "metadata": {
    "scrolled": true
   },
   "outputs": [],
   "source": [
    "X = data[:, :-1]\n",
    "y = data[:, -1]"
   ]
  },
  {
   "cell_type": "code",
   "execution_count": 6,
   "id": "b21191ff-2e63-4472-aaba-6450cd13d0b7",
   "metadata": {},
   "outputs": [
    {
     "data": {
      "text/plain": [
       "(303, 13)"
      ]
     },
     "execution_count": 6,
     "metadata": {},
     "output_type": "execute_result"
    }
   ],
   "source": [
    "X.shape"
   ]
  },
  {
   "cell_type": "markdown",
   "id": "b6b91344-10c1-4777-b848-6bac7315f1ba",
   "metadata": {},
   "source": [
    "## **3. Model 1: Logistic Regression**"
   ]
  },
  {
   "cell_type": "markdown",
   "id": "bf78842b-3858-4392-a360-bfb9ac4e96b4",
   "metadata": {
    "jp-MarkdownHeadingCollapsed": true
   },
   "source": [
    "### **3.1. Without Regularization**"
   ]
  },
  {
   "cell_type": "markdown",
   "id": "244a58ab-730d-4c1d-b53b-856636a19a5a",
   "metadata": {
    "jp-MarkdownHeadingCollapsed": true
   },
   "source": [
    "#### 3.1.1 Splitting Data"
   ]
  },
  {
   "cell_type": "code",
   "execution_count": 7,
   "id": "fef40450-a9a1-4882-a44e-52f2a4473262",
   "metadata": {},
   "outputs": [],
   "source": [
    "X_train, X_test, y_train, y_test = train_test_split(X, y,random_state=42)"
   ]
  },
  {
   "cell_type": "markdown",
   "id": "66eaa05d-9f9a-418a-bf37-cb91f7edbf97",
   "metadata": {
    "jp-MarkdownHeadingCollapsed": true
   },
   "source": [
    "#### 3.1.2. Processing Data"
   ]
  },
  {
   "cell_type": "markdown",
   "id": "51d3c6a1-a695-4476-a175-bd2dd6351b66",
   "metadata": {
    "jp-MarkdownHeadingCollapsed": true
   },
   "source": [
    "##### 3.1.2.1. Reshape"
   ]
  },
  {
   "cell_type": "code",
   "execution_count": 8,
   "id": "931d232a-c4ac-44d0-a6ba-3a57a368ddb3",
   "metadata": {},
   "outputs": [],
   "source": [
    "y_2d_train = y_train.reshape(-1,1)\n",
    "y_2d_test = y_test.reshape(-1,1)"
   ]
  },
  {
   "cell_type": "code",
   "execution_count": 9,
   "id": "c157558a-d393-43c3-bd88-4f5e61a3335e",
   "metadata": {},
   "outputs": [
    {
     "data": {
      "text/plain": [
       "((227, 13), (227, 1))"
      ]
     },
     "execution_count": 9,
     "metadata": {},
     "output_type": "execute_result"
    }
   ],
   "source": [
    "X_train.shape, y_2d_train.shape"
   ]
  },
  {
   "cell_type": "markdown",
   "id": "22cc689d-8a81-4e09-b292-23ac67f09bdd",
   "metadata": {
    "jp-MarkdownHeadingCollapsed": true
   },
   "source": [
    "##### 3.1.2.2. Design Matrix"
   ]
  },
  {
   "cell_type": "code",
   "execution_count": 12,
   "id": "15202d11-c8ee-4ccd-a25f-e1187fc08e33",
   "metadata": {
    "scrolled": true
   },
   "outputs": [
    {
     "data": {
      "text/plain": [
       "array([[ 1., 57.,  1., ...,  2.,  1.,  2.],\n",
       "       [ 1., 59.,  1., ...,  1.,  1.,  1.],\n",
       "       [ 1., 67.,  1., ...,  1.,  2.,  3.],\n",
       "       ...,\n",
       "       [ 1., 69.,  1., ...,  1.,  1.,  2.],\n",
       "       [ 1., 46.,  1., ...,  2.,  0.,  3.],\n",
       "       [ 1., 63.,  0., ...,  2.,  2.,  2.]])"
      ]
     },
     "execution_count": 12,
     "metadata": {},
     "output_type": "execute_result"
    }
   ],
   "source": [
    "ones = np.ones((X_train.shape[0], 1))\n",
    "X_train_1 = np.hstack((ones,X_train))\n",
    "X_train_1"
   ]
  },
  {
   "cell_type": "code",
   "execution_count": 13,
   "id": "80f1b592-03b8-4944-a406-1d83ed27081a",
   "metadata": {},
   "outputs": [
    {
     "data": {
      "text/plain": [
       "(227, 14)"
      ]
     },
     "execution_count": 13,
     "metadata": {},
     "output_type": "execute_result"
    }
   ],
   "source": [
    "X_train_1.shape"
   ]
  },
  {
   "cell_type": "markdown",
   "id": "4cc9d997-9407-47ae-a434-cf7481c61f56",
   "metadata": {
    "jp-MarkdownHeadingCollapsed": true
   },
   "source": [
    "##### 3.1.2.3. Initialize w"
   ]
  },
  {
   "cell_type": "code",
   "execution_count": 14,
   "id": "ee9ec417-d7d9-490b-a312-c1602437f266",
   "metadata": {},
   "outputs": [],
   "source": [
    "w_init = np.zeros((X_train_1.shape[1], 1))"
   ]
  },
  {
   "cell_type": "code",
   "execution_count": 15,
   "id": "3ef1f8af-7bf0-49c2-94c4-d0141b40977e",
   "metadata": {
    "scrolled": true
   },
   "outputs": [
    {
     "data": {
      "text/plain": [
       "(14, 1)"
      ]
     },
     "execution_count": 15,
     "metadata": {},
     "output_type": "execute_result"
    }
   ],
   "source": [
    "w_init.shape"
   ]
  },
  {
   "cell_type": "markdown",
   "id": "b5544c4e-e3ce-4a11-9b54-0c241b7da330",
   "metadata": {
    "jp-MarkdownHeadingCollapsed": true
   },
   "source": [
    "#### 3.1.3. Sigmoid(z)"
   ]
  },
  {
   "cell_type": "markdown",
   "id": "f34d1af0-5075-4261-bb61-6b441392079f",
   "metadata": {},
   "source": [
    "$$\\sigma (z) = \\frac{1}{1 + e^{-z}}$$"
   ]
  },
  {
   "cell_type": "code",
   "execution_count": 19,
   "id": "402bd2cb-194a-48de-9334-9b8beecc97cc",
   "metadata": {},
   "outputs": [],
   "source": [
    "def sigmoid(z):\n",
    "    return 1 / (1 + np.exp(-z))"
   ]
  },
  {
   "cell_type": "markdown",
   "id": "36935ebd-016c-45ec-9b82-586fd9540b78",
   "metadata": {
    "jp-MarkdownHeadingCollapsed": true
   },
   "source": [
    "#### 3.1.4. Prediction Function"
   ]
  },
  {
   "cell_type": "markdown",
   "id": "5e6d8874-50c4-4396-b7de-d0ba035bca7b",
   "metadata": {},
   "source": [
    "$$ h(x) = \\frac{1}{1 + e^{-(w_0+w_1x_1+w_2x_2+...+w_dx_d)}} $$"
   ]
  },
  {
   "cell_type": "markdown",
   "id": "4ad2733a-7b30-4730-86a0-7d999651928e",
   "metadata": {},
   "source": [
    "$$ h(x) = \\frac{1}{1 + e^{-Xw}} $$"
   ]
  },
  {
   "cell_type": "code",
   "execution_count": 21,
   "id": "5dfd935c-2046-49d9-a055-2f13af82702c",
   "metadata": {},
   "outputs": [],
   "source": [
    "def hypothesis(X, w):\n",
    "    return sigmoid(np.dot(X, w))"
   ]
  },
  {
   "cell_type": "code",
   "execution_count": 22,
   "id": "d86fcb5f-b8ba-4c4b-ac99-019ae4e6ef04",
   "metadata": {},
   "outputs": [
    {
     "data": {
      "text/plain": [
       "(227, 1)"
      ]
     },
     "execution_count": 22,
     "metadata": {},
     "output_type": "execute_result"
    }
   ],
   "source": [
    "y_hat_init = hypothesis(X_train_1, w_init)\n",
    "y_hat_init.shape"
   ]
  },
  {
   "cell_type": "markdown",
   "id": "aca3a60e-5fc9-4ca1-a747-d235b78bd510",
   "metadata": {
    "jp-MarkdownHeadingCollapsed": true
   },
   "source": [
    "#### 3.1.5. Log_likelihood Function"
   ]
  },
  {
   "cell_type": "markdown",
   "id": "d82f51e9-4128-4560-91fb-928aece8f334",
   "metadata": {},
   "source": [
    "$$ l(w) = \\sum_{i=1}^{N} y^{(i)}ln(h(x^{(i)})) + (1 - y^{(i)})ln(1 - h(x^{(i)})) $$"
   ]
  },
  {
   "cell_type": "code",
   "execution_count": 24,
   "id": "1002962f-f401-48d5-a54c-dd002c0e78f0",
   "metadata": {},
   "outputs": [
    {
     "data": {
      "text/plain": [
       "((227, 1), (227, 1))"
      ]
     },
     "execution_count": 24,
     "metadata": {},
     "output_type": "execute_result"
    }
   ],
   "source": [
    "def log_likelihood(X, y, w):\n",
    "    y_hat = sigmoid(np.dot(X, w))\n",
    "    return np.dot(y.T, np.log(1-y_hat)) + np.dot((1-y).T, np.log(y_hat))\n",
    "\n",
    "y_2d_train.shape, hypothesis(X_train_1, w_init).shape"
   ]
  },
  {
   "cell_type": "code",
   "execution_count": 25,
   "id": "6dd05bbd-afc6-49aa-a841-5539d87c758e",
   "metadata": {},
   "outputs": [
    {
     "data": {
      "text/plain": [
       "array([[-157.34440999]])"
      ]
     },
     "execution_count": 25,
     "metadata": {},
     "output_type": "execute_result"
    }
   ],
   "source": [
    "log_likelihood(X_train_1, y_2d_train, w_init)"
   ]
  },
  {
   "cell_type": "markdown",
   "id": "0a5c1c1a-2a37-4daa-b30d-0a3968ed1a37",
   "metadata": {
    "jp-MarkdownHeadingCollapsed": true
   },
   "source": [
    "#### 3.1.6. Gradient Ascent"
   ]
  },
  {
   "cell_type": "code",
   "execution_count": 26,
   "id": "6b9d2c55-f672-463b-bf86-a975832b9045",
   "metadata": {},
   "outputs": [],
   "source": [
    "def gradient_ascent(X, y, alpha, num_iters):\n",
    "    N = X.shape[0]\n",
    "    w = np.zeros((X.shape[1], 1))\n",
    "\n",
    "    for _ in range(num_iters):\n",
    "        y_hat = hypothesis(X, w)\n",
    "        w += alpha / N * np.dot(X.T, (y - y_hat))\n",
    "\n",
    "    return w"
   ]
  },
  {
   "cell_type": "code",
   "execution_count": 27,
   "id": "ee89e4e4-c7a8-47bc-866c-d783a5e59826",
   "metadata": {
    "scrolled": true
   },
   "outputs": [
    {
     "data": {
      "text/plain": [
       "array([[-5.00914040e-05],\n",
       "       [-7.98775123e-03],\n",
       "       [-7.83859626e-04],\n",
       "       [ 1.91000670e-03],\n",
       "       [-8.89328914e-03],\n",
       "       [-4.49283853e-03],\n",
       "       [ 2.61810824e-05],\n",
       "       [ 1.98628259e-04],\n",
       "       [ 1.95544716e-02],\n",
       "       [-8.97480944e-04],\n",
       "       [-2.09286422e-03],\n",
       "       [ 8.28181376e-04],\n",
       "       [-1.73114451e-03],\n",
       "       [-1.08836361e-03]])"
      ]
     },
     "execution_count": 27,
     "metadata": {},
     "output_type": "execute_result"
    }
   ],
   "source": [
    "alpha = 0.0000001\n",
    "num_iters = 100000\n",
    "w = gradient_ascent(X_train_1, y_2d_train, alpha, num_iters)\n",
    "w"
   ]
  },
  {
   "cell_type": "markdown",
   "id": "11f9e690-255b-4a45-b452-eb04da8ff0dc",
   "metadata": {
    "jp-MarkdownHeadingCollapsed": true
   },
   "source": [
    "#### 3.1.7. Predict the Class Label"
   ]
  },
  {
   "cell_type": "code",
   "execution_count": 29,
   "id": "871b08c6-5c6a-4098-8138-19d849ef4a71",
   "metadata": {},
   "outputs": [],
   "source": [
    "def predict_class(X, w, t = 0.5):\n",
    "    p = sigmoid(np.dot(X, w))\n",
    "    \n",
    "    p_class = np.zeros(p.shape)\n",
    "    \n",
    "    p_class[p >= t] = 1\n",
    "    return p_class"
   ]
  },
  {
   "cell_type": "markdown",
   "id": "8fed4aff-b9b7-4c0d-a4d6-f3683b33250b",
   "metadata": {
    "jp-MarkdownHeadingCollapsed": true
   },
   "source": [
    "#### 3.1.8. Test"
   ]
  },
  {
   "cell_type": "code",
   "execution_count": 32,
   "id": "f3aa033c-1f66-4162-a224-786273d3dd5e",
   "metadata": {
    "scrolled": true
   },
   "outputs": [],
   "source": [
    "ones = np.ones((X_test.shape[0], 1))\n",
    "X_test_1 = np.hstack((ones, X_test))"
   ]
  },
  {
   "cell_type": "code",
   "execution_count": 33,
   "id": "81556f37-b628-403a-9eef-d8ff7fb7d730",
   "metadata": {
    "scrolled": true
   },
   "outputs": [],
   "source": [
    "y_hat = predict_class(X_test_1, w, 0.5)"
   ]
  },
  {
   "cell_type": "markdown",
   "id": "23b7c708-2366-443e-bb88-dc9fed246522",
   "metadata": {
    "jp-MarkdownHeadingCollapsed": true
   },
   "source": [
    "#### 3.1.9. Scores"
   ]
  },
  {
   "cell_type": "markdown",
   "id": "33722cdc-0cf3-4984-8e65-186ed431bea6",
   "metadata": {
    "jp-MarkdownHeadingCollapsed": true
   },
   "source": [
    "##### 3.1.9.1. Precision"
   ]
  },
  {
   "cell_type": "code",
   "execution_count": 34,
   "id": "b47166ba-7d22-4676-8c80-9033149a5607",
   "metadata": {},
   "outputs": [],
   "source": [
    "def precision(y, y_hat):\n",
    "    true_positive = np.sum(np.logical_and((y == 1), (y_hat == 1)))\n",
    "    false_positive = np.sum(np.logical_and((y == 0), (y_hat == 1)))\n",
    "\n",
    "    if true_positive + false_positive > 0:\n",
    "        return true_positive / (true_positive + false_positive)\n",
    "    return 0"
   ]
  },
  {
   "cell_type": "code",
   "execution_count": 35,
   "id": "958c2237-8b0b-442b-9b0c-205a4990e76d",
   "metadata": {},
   "outputs": [
    {
     "data": {
      "text/plain": [
       "0.723404255319149"
      ]
     },
     "execution_count": 35,
     "metadata": {},
     "output_type": "execute_result"
    }
   ],
   "source": [
    "prec = precision(y_2d_test, y_hat)\n",
    "prec"
   ]
  },
  {
   "cell_type": "markdown",
   "id": "43053fac-395d-49ca-a530-af0fdb22779d",
   "metadata": {
    "jp-MarkdownHeadingCollapsed": true
   },
   "source": [
    "##### 3.1.9.2. Recall"
   ]
  },
  {
   "cell_type": "code",
   "execution_count": 37,
   "id": "c95fc3e2-67c5-4304-95da-633cc7bd5f81",
   "metadata": {},
   "outputs": [],
   "source": [
    "def recall(y, y_hat):\n",
    "    true_positive = np.sum(np.logical_and((y == 1), (y_hat == 1)))\n",
    "    false_negative = np.sum(np.logical_and((y == 1), (y_hat == 0)))\n",
    "\n",
    "    if true_positive + false_negative > 0:\n",
    "        return true_positive / (true_positive + false_negative)\n",
    "    return 0"
   ]
  },
  {
   "cell_type": "code",
   "execution_count": 38,
   "id": "d8f8e4f6-f71e-4965-89c0-7aaa88f73dcf",
   "metadata": {},
   "outputs": [
    {
     "data": {
      "text/plain": [
       "0.8292682926829268"
      ]
     },
     "execution_count": 38,
     "metadata": {},
     "output_type": "execute_result"
    }
   ],
   "source": [
    "rec  = recall(y_2d_test, y_hat)\n",
    "rec"
   ]
  },
  {
   "cell_type": "markdown",
   "id": "b5a6d5bc-42ea-443f-b71d-e4454b5708b2",
   "metadata": {
    "jp-MarkdownHeadingCollapsed": true
   },
   "source": [
    "##### 3.1.9.3. F1"
   ]
  },
  {
   "cell_type": "code",
   "execution_count": 39,
   "id": "445c4f0d-fd1a-4eef-8e4f-88ca6e8efdda",
   "metadata": {},
   "outputs": [],
   "source": [
    "def f1(precision, recall):\n",
    "    if precision + recall > 0:\n",
    "        return 2 * (precision * recall) / (precision + recall)\n",
    "    return 0"
   ]
  },
  {
   "cell_type": "code",
   "execution_count": 40,
   "id": "b3439b7e-0fd2-4795-beb0-fc139e2deacd",
   "metadata": {},
   "outputs": [
    {
     "data": {
      "text/plain": [
       "0.7727272727272727"
      ]
     },
     "execution_count": 40,
     "metadata": {},
     "output_type": "execute_result"
    }
   ],
   "source": [
    "f = f1(prec, rec)\n",
    "f"
   ]
  },
  {
   "cell_type": "markdown",
   "id": "3937e77b-4a25-4c03-96a6-f0e225488fab",
   "metadata": {
    "jp-MarkdownHeadingCollapsed": true
   },
   "source": [
    "##### 3.1.9.4. Confusion Matrix"
   ]
  },
  {
   "cell_type": "code",
   "execution_count": 41,
   "id": "ccaeeab0-941b-45a1-a820-18ccc185a4db",
   "metadata": {},
   "outputs": [
    {
     "data": {
      "image/png": "[encoded data removed]",
      "text/plain": [
       "<Figure size 640x480 with 2 Axes>"
      ]
     },
     "metadata": {},
     "output_type": "display_data"
    }
   ],
   "source": [
    "cm = metrics.confusion_matrix(y_2d_test, y_hat)\n",
    "cm_display = metrics.ConfusionMatrixDisplay(confusion_matrix = cm, display_labels = [False, True])\n",
    "cm_display.plot()\n",
    "plt.show()"
   ]
  },
  {
   "cell_type": "markdown",
   "id": "208b1c5c-3aeb-4b3e-a0cf-0ec7d055ea73",
   "metadata": {},
   "source": [
    "### **3.2. Adding L1 Regularization**"
   ]
  },
  {
   "cell_type": "code",
   "execution_count": null,
   "id": "8564b1ff-c9bc-4af9-88d4-2dca34535dea",
   "metadata": {},
   "outputs": [],
   "source": []
  },
  {
   "cell_type": "markdown",
   "id": "7428348d-0e7f-4508-ab4f-906444cc757c",
   "metadata": {},
   "source": [
    "### **3.3. Adding L2 Regularization**"
   ]
  },
  {
   "cell_type": "code",
   "execution_count": null,
   "id": "89a7fd1e-ebe5-4904-b1c2-d8251a538b79",
   "metadata": {},
   "outputs": [],
   "source": []
  }
 ],
 "metadata": {
  "kernelspec": {
   "display_name": "Python 3 (ipykernel)",
   "language": "python",
   "name": "python3"
  },
  "language_info": {
   "codemirror_mode": {
    "name": "ipython",
    "version": 3
   },
   "file_extension": ".py",
   "mimetype": "text/x-python",
   "name": "python",
   "nbconvert_exporter": "python",
   "pygments_lexer": "ipython3",
   "version": "3.9.7"
  }
 },
 "nbformat": 4,
 "nbformat_minor": 5
}
