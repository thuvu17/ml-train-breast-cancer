{
 "cells": [
  {
   "cell_type": "markdown",
   "id": "c113eaee-456e-4816-a8e2-c3c0be7e3ddd",
   "metadata": {},
   "source": [
    "# Neural Network"
   ]
  },
  {
   "cell_type": "markdown",
   "id": "585b1d09-f9ea-48f9-bb2a-9ea445d62a8a",
   "metadata": {},
   "source": [
    "## Importing Libraries"
   ]
  },
  {
   "cell_type": "code",
   "execution_count": 35,
   "id": "75a035b7-a8cf-4504-8140-c6258665f36e",
   "metadata": {},
   "outputs": [],
   "source": [
    "import numpy as np\n",
    "import pandas as pd\n",
    "import matplotlib.pyplot as plt\n",
    "from sklearn import metrics as metrics\n",
    "from sklearn.metrics import accuracy_score, precision_score, recall_score, f1_score\n",
    "\n",
    "from sklearn.model_selection import train_test_split \n",
    "\n",
    "from sklearn.preprocessing import StandardScaler"
   ]
  },
  {
   "cell_type": "code",
   "execution_count": 36,
   "id": "e2959e98-99f6-4f91-916e-9a1db0df2b65",
   "metadata": {},
   "outputs": [],
   "source": [
    "from sklearn.metrics import roc_curve, auc\n",
    "import seaborn as sns"
   ]
  },
  {
   "cell_type": "code",
   "execution_count": 37,
   "id": "7a86dfa4",
   "metadata": {},
   "outputs": [],
   "source": [
    "# import pandas as pd\n",
    "# from tensorflow.keras.models import Sequential\n",
    "# from tensorflow.keras.layers import Dense\n",
    "# from scikeras.wrappers import KerasClassifier\n",
    "# from sklearn.model_selection import cross_val_score\n",
    "# from sklearn.preprocessing import LabelEncoder\n",
    "# from sklearn.model_selection import StratifiedKFold\n",
    "# from sklearn.preprocessing import StandardScaler\n",
    "# from sklearn.pipeline import Pipeline\n",
    "# import keras\n",
    "# from keras.models import Sequential\n",
    "# from keras.layers import Dense\n",
    "# from keras.layers import LeakyReLU,PReLU,ELU\n",
    "# from keras.layers import Dropout"
   ]
  },
  {
   "cell_type": "markdown",
   "id": "721d9d1c-02cd-4aff-9b5a-29121ab0cf93",
   "metadata": {},
   "source": [
    "## Loading Dataset"
   ]
  },
  {
   "cell_type": "code",
   "execution_count": 38,
   "id": "36808efc-6ace-495e-83b6-49433c65b951",
   "metadata": {
    "scrolled": true
   },
   "outputs": [],
   "source": [
    "df = pd.read_csv('heart.csv')\n",
    "data = df.to_numpy()"
   ]
  },
  {
   "cell_type": "code",
   "execution_count": 39,
   "id": "0e1fda04-ccb5-44d2-bbc7-40cd8c07c9c6",
   "metadata": {},
   "outputs": [
    {
     "data": {
      "text/html": [
       "<div>\n",
       "<style scoped>\n",
       "    .dataframe tbody tr th:only-of-type {\n",
       "        vertical-align: middle;\n",
       "    }\n",
       "\n",
       "    .dataframe tbody tr th {\n",
       "        vertical-align: top;\n",
       "    }\n",
       "\n",
       "    .dataframe thead th {\n",
       "        text-align: right;\n",
       "    }\n",
       "</style>\n",
       "<table border=\"1\" class=\"dataframe\">\n",
       "  <thead>\n",
       "    <tr style=\"text-align: right;\">\n",
       "      <th></th>\n",
       "      <th>age</th>\n",
       "      <th>sex</th>\n",
       "      <th>cp</th>\n",
       "      <th>trestbps</th>\n",
       "      <th>chol</th>\n",
       "      <th>fbs</th>\n",
       "      <th>restecg</th>\n",
       "      <th>thalach</th>\n",
       "      <th>exang</th>\n",
       "      <th>oldpeak</th>\n",
       "      <th>slope</th>\n",
       "      <th>ca</th>\n",
       "      <th>thal</th>\n",
       "      <th>target</th>\n",
       "    </tr>\n",
       "  </thead>\n",
       "  <tbody>\n",
       "    <tr>\n",
       "      <th>0</th>\n",
       "      <td>63</td>\n",
       "      <td>1</td>\n",
       "      <td>3</td>\n",
       "      <td>145</td>\n",
       "      <td>233</td>\n",
       "      <td>1</td>\n",
       "      <td>0</td>\n",
       "      <td>150</td>\n",
       "      <td>0</td>\n",
       "      <td>2.3</td>\n",
       "      <td>0</td>\n",
       "      <td>0</td>\n",
       "      <td>1</td>\n",
       "      <td>1</td>\n",
       "    </tr>\n",
       "    <tr>\n",
       "      <th>1</th>\n",
       "      <td>37</td>\n",
       "      <td>1</td>\n",
       "      <td>2</td>\n",
       "      <td>130</td>\n",
       "      <td>250</td>\n",
       "      <td>0</td>\n",
       "      <td>1</td>\n",
       "      <td>187</td>\n",
       "      <td>0</td>\n",
       "      <td>3.5</td>\n",
       "      <td>0</td>\n",
       "      <td>0</td>\n",
       "      <td>2</td>\n",
       "      <td>1</td>\n",
       "    </tr>\n",
       "    <tr>\n",
       "      <th>2</th>\n",
       "      <td>41</td>\n",
       "      <td>0</td>\n",
       "      <td>1</td>\n",
       "      <td>130</td>\n",
       "      <td>204</td>\n",
       "      <td>0</td>\n",
       "      <td>0</td>\n",
       "      <td>172</td>\n",
       "      <td>0</td>\n",
       "      <td>1.4</td>\n",
       "      <td>2</td>\n",
       "      <td>0</td>\n",
       "      <td>2</td>\n",
       "      <td>1</td>\n",
       "    </tr>\n",
       "    <tr>\n",
       "      <th>3</th>\n",
       "      <td>56</td>\n",
       "      <td>1</td>\n",
       "      <td>1</td>\n",
       "      <td>120</td>\n",
       "      <td>236</td>\n",
       "      <td>0</td>\n",
       "      <td>1</td>\n",
       "      <td>178</td>\n",
       "      <td>0</td>\n",
       "      <td>0.8</td>\n",
       "      <td>2</td>\n",
       "      <td>0</td>\n",
       "      <td>2</td>\n",
       "      <td>1</td>\n",
       "    </tr>\n",
       "    <tr>\n",
       "      <th>4</th>\n",
       "      <td>57</td>\n",
       "      <td>0</td>\n",
       "      <td>0</td>\n",
       "      <td>120</td>\n",
       "      <td>354</td>\n",
       "      <td>0</td>\n",
       "      <td>1</td>\n",
       "      <td>163</td>\n",
       "      <td>1</td>\n",
       "      <td>0.6</td>\n",
       "      <td>2</td>\n",
       "      <td>0</td>\n",
       "      <td>2</td>\n",
       "      <td>1</td>\n",
       "    </tr>\n",
       "  </tbody>\n",
       "</table>\n",
       "</div>"
      ],
      "text/plain": [
       "   age  sex  cp  trestbps  chol  fbs  restecg  thalach  exang  oldpeak  slope  \\\n",
       "0   63    1   3       145   233    1        0      150      0      2.3      0   \n",
       "1   37    1   2       130   250    0        1      187      0      3.5      0   \n",
       "2   41    0   1       130   204    0        0      172      0      1.4      2   \n",
       "3   56    1   1       120   236    0        1      178      0      0.8      2   \n",
       "4   57    0   0       120   354    0        1      163      1      0.6      2   \n",
       "\n",
       "   ca  thal  target  \n",
       "0   0     1       1  \n",
       "1   0     2       1  \n",
       "2   0     2       1  \n",
       "3   0     2       1  \n",
       "4   0     2       1  "
      ]
     },
     "execution_count": 39,
     "metadata": {},
     "output_type": "execute_result"
    }
   ],
   "source": [
    "df.head()"
   ]
  },
  {
   "cell_type": "code",
   "execution_count": 40,
   "id": "0e34cae0-488b-4138-9c40-b15c059cec40",
   "metadata": {
    "scrolled": true
   },
   "outputs": [],
   "source": [
    "X = data[:, :-1]\n",
    "# y = data[:, -1]\n",
    "y = data[:, -1].reshape((-1,1))"
   ]
  },
  {
   "cell_type": "markdown",
   "id": "a6cd33e9",
   "metadata": {},
   "source": [
    "## **Data Preprocessing**\n",
    "### Spliting Dataset"
   ]
  },
  {
   "cell_type": "markdown",
   "id": "3e909e7d",
   "metadata": {},
   "source": [
    "We split our dataaset into 60% training set and 40% testing set. Then we further split the training set into 70% training and 30% validation set"
   ]
  },
  {
   "cell_type": "code",
   "execution_count": 41,
   "id": "d6f53eb1-d884-4860-bc71-b218a01e9f84",
   "metadata": {},
   "outputs": [],
   "source": [
    "# Split data into training and testing sets (60% training, 40% testing)\n",
    "X_train, X_test, y_train, y_test = train_test_split(X, y, test_size=0.4, random_state=42)\n",
    "\n",
    "# Further split training data into training and validation sets (70% training, 30% validation)\n",
    "X_train, X_val, y_train, y_val = train_test_split(X_train, y_train, test_size=0.3, random_state=42)\n"
   ]
  },
  {
   "cell_type": "code",
   "execution_count": 42,
   "id": "e05b6061-4bd8-481a-b4c6-12316440073b",
   "metadata": {},
   "outputs": [
    {
     "name": "stdout",
     "output_type": "stream",
     "text": [
      "X_train shape: (126, 13)\n",
      "X_val shape: (55, 13)\n",
      "X_test shape: (122, 13)\n",
      "y_train shape: (126, 1)\n",
      "y_val shape: (55, 1)\n",
      "y_test shape: (122, 1)\n"
     ]
    }
   ],
   "source": [
    "print(\"X_train shape:\", X_train.shape)\n",
    "print(\"X_val shape:\", X_val.shape)\n",
    "print(\"X_test shape:\", X_test.shape)\n",
    "print(\"y_train shape:\", y_train.shape)\n",
    "print(\"y_val shape:\", y_val.shape)\n",
    "print(\"y_test shape:\", y_test.shape)"
   ]
  },
  {
   "cell_type": "markdown",
   "id": "42e94e8c",
   "metadata": {},
   "source": [
    "### Scaling Data"
   ]
  },
  {
   "cell_type": "code",
   "execution_count": 43,
   "id": "1d969ffd-5d9c-40ab-b43a-958948c10795",
   "metadata": {},
   "outputs": [],
   "source": [
    "scaler = StandardScaler()\n",
    "X_train = scaler.fit_transform(X_train)\n",
    "\n",
    "# Transform validation and testing data using the scaler fitted on the training data\n",
    "X_val = scaler.transform(X_val)\n",
    "X_test = scaler.transform(X_test)"
   ]
  },
  {
   "cell_type": "markdown",
   "id": "452ffb37-9ec3-47bc-9ae4-a86ddd24ac31",
   "metadata": {},
   "source": [
    "## **Implementation Of Neural Network Using Pytorch**"
   ]
  },
  {
   "cell_type": "code",
   "execution_count": 44,
   "id": "13ceb100",
   "metadata": {},
   "outputs": [
    {
     "name": "stdout",
     "output_type": "stream",
     "text": [
      "Collecting package metadata (current_repodata.json): ...working... done\n",
      "Solving environment: ...working... done\n",
      "\n",
      "# All requested packages already installed.\n",
      "\n",
      "\n",
      "Note: you may need to restart the kernel to use updated packages.\n"
     ]
    },
    {
     "name": "stderr",
     "output_type": "stream",
     "text": [
      "\n",
      "\n",
      "==> WARNING: A newer version of conda exists. <==\n",
      "  current version: 23.7.4\n",
      "  latest version: 24.4.0\n",
      "\n",
      "Please update conda by running\n",
      "\n",
      "    $ conda update -n base -c defaults conda\n",
      "\n",
      "Or to minimize the number of packages updated during conda update use\n",
      "\n",
      "     conda install conda=24.4.0\n",
      "\n",
      "\n"
     ]
    }
   ],
   "source": [
    "%conda install -c pytorch pytorch torchvision"
   ]
  },
  {
   "cell_type": "code",
   "execution_count": 45,
   "id": "d64118f9-30ee-4b29-bfd4-4d94ec0993a0",
   "metadata": {},
   "outputs": [],
   "source": [
    "import numpy as np\n",
    "import torch\n",
    "from torch import nn\n",
    "import torch.nn.functional as F\n",
    "from torch.nn import Linear, BCELoss\n",
    "from torch.optim import SGD\n",
    "import matplotlib.pyplot as plt"
   ]
  },
  {
   "cell_type": "markdown",
   "id": "a0a7dbfb",
   "metadata": {},
   "source": [
    "### Convert numpy arrays to PyTorch tensors"
   ]
  },
  {
   "cell_type": "code",
   "execution_count": 46,
   "id": "3bd5bcc3-13bb-4e9d-b658-01b984a7b042",
   "metadata": {},
   "outputs": [],
   "source": [
    "X_train_tensor = torch.Tensor(X_train)\n",
    "y_train_tensor = torch.Tensor(y_train)\n",
    "X_test_tensor = torch.Tensor(X_test)\n",
    "y_test_tensor = torch.Tensor(y_test)\n",
    "X_val_tensor = torch.Tensor(X_val)\n",
    "y_val_tensor = torch.Tensor(y_val)"
   ]
  },
  {
   "cell_type": "markdown",
   "id": "ce3a656b",
   "metadata": {},
   "source": [
    "### Defining Neural Network Class"
   ]
  },
  {
   "cell_type": "code",
   "execution_count": 47,
   "id": "6a78fd9f-0bb4-4e10-b5f6-c180dbc30fcd",
   "metadata": {},
   "outputs": [],
   "source": [
    "def get_act_fn(act_fn):\n",
    "    if act_fn == 'relu':\n",
    "        return F.relu\n",
    "    elif act_fn == 'sigmoid':\n",
    "        return F.sigmoid\n",
    "    elif act_fn == 'tanh':\n",
    "        return F.tanh\n",
    "    raise ValueError\n",
    "\n",
    "\n",
    "class model(nn.Module):\n",
    "    def __init__(self, n_feature, n_hidden, n_output, activation='sigmoid', out_activation='sigmoid'):\n",
    "        super(model, self).__init__()\n",
    "        self.linear1 = Linear(n_feature, n_hidden, bias=True)\n",
    "        self.linear2 = Linear(n_hidden, n_output, bias=True)\n",
    "        # Activation functions\n",
    "        self.activation = get_act_fn(activation)\n",
    "        self.output_activation = get_act_fn(out_activation)\n",
    " \n",
    "    def forward(self, x):\n",
    "        x = self.activation(self.linear1(x))\n",
    "        x = self.output_activation(self.linear2(x))\n",
    "        return x"
   ]
  },
  {
   "cell_type": "markdown",
   "id": "620cae57",
   "metadata": {},
   "source": [
    "## **Training Our Neural Network Model**"
   ]
  },
  {
   "cell_type": "markdown",
   "id": "f1bef174",
   "metadata": {},
   "source": [
    "### Training with default Sigmoid activation function first"
   ]
  },
  {
   "cell_type": "code",
   "execution_count": 48,
   "id": "37effff5-d99f-496e-9e6d-3f918267c6d2",
   "metadata": {},
   "outputs": [],
   "source": [
    "train_model = model(X_train.shape[1], 8, 1)\n",
    "loss_cal = BCELoss(reduction='mean')"
   ]
  },
  {
   "cell_type": "markdown",
   "id": "1b8642ba",
   "metadata": {},
   "source": [
    "### Optimization with Stochastic Gradient Descent"
   ]
  },
  {
   "cell_type": "code",
   "execution_count": 49,
   "id": "923da345-4a72-43bd-8682-b8968ac8794d",
   "metadata": {},
   "outputs": [],
   "source": [
    "def optimize(num_epoch, optimizer, model, X_tensor, y_tensor):\n",
    "    epoch_loss_dict = {}\n",
    "    for epoch in range(num_epoch):                    \n",
    "        y_pred = model(X_tensor)                    # Forward propagation\n",
    "        loss = loss_cal(y_pred, y_tensor)           # Compute lost\n",
    "        epoch_loss_dict[epoch] = loss.item()\n",
    "        optimizer.zero_grad()                       # Zero the gradients\n",
    "        loss.backward()                             # Backward propagation\n",
    "        optimizer.step()                            # Update the parameters\n",
    "\n",
    "    return y_pred, epoch_loss_dict\n",
    "\n",
    "\n",
    "num_epoch = 10000\n",
    "optimizer = SGD(train_model.parameters(), lr=0.01)\n",
    "\n",
    "y_pred_train, epoch_loss_dict_train = optimize(num_epoch, optimizer, train_model, X_train_tensor, y_train_tensor)"
   ]
  },
  {
   "cell_type": "code",
   "execution_count": 50,
   "id": "dbc5519e",
   "metadata": {},
   "outputs": [],
   "source": [
    "y_pred_binary_train = (y_pred_train.detach().numpy() > 0.5).astype(int)"
   ]
  },
  {
   "cell_type": "markdown",
   "id": "7ec38557",
   "metadata": {},
   "source": [
    "### **Training Results**"
   ]
  },
  {
   "cell_type": "markdown",
   "id": "4bcd7c2d",
   "metadata": {},
   "source": [
    "#### Performance Metrics"
   ]
  },
  {
   "cell_type": "code",
   "execution_count": 51,
   "id": "8fbc7ee5",
   "metadata": {},
   "outputs": [
    {
     "name": "stdout",
     "output_type": "stream",
     "text": [
      "Accuracy on training set: 0.9047619047619048\n",
      "Precision on training set: 0.90625\n",
      "Recall on training set: 0.90625\n",
      "F1-score on training set: 0.90625\n"
     ]
    }
   ],
   "source": [
    "def perf_metrics(y, y_pred_binary):\n",
    "    accuracy = accuracy_score(y, y_pred_binary)\n",
    "    precision = precision_score(y, y_pred_binary)\n",
    "    recall = recall_score(y, y_pred_binary)\n",
    "    f1 = f1_score(y, y_pred_binary)\n",
    "    return accuracy, precision, recall, f1\n",
    "\n",
    "\n",
    "accuracy_train, precision_train, recall_train, f1_train = perf_metrics(y_train, y_pred_binary_train)\n",
    "print(\"Accuracy on training set:\", accuracy_train)\n",
    "print(\"Precision on training set:\", precision_train)\n",
    "print(\"Recall on training set:\", recall_train)\n",
    "print(\"F1-score on training set:\", f1_train)"
   ]
  },
  {
   "cell_type": "markdown",
   "id": "a333dd08",
   "metadata": {},
   "source": [
    "#### Plotting Loss Curve"
   ]
  },
  {
   "cell_type": "code",
   "execution_count": 52,
   "id": "963d311b-4fcb-4af5-a750-272b0a1b7310",
   "metadata": {},
   "outputs": [
    {
     "data": {
      "image/png": "[encoded data removed]",
      "text/plain": [
       "<Figure size 640x480 with 1 Axes>"
      ]
     },
     "metadata": {},
     "output_type": "display_data"
    }
   ],
   "source": [
    "plt.figure()\n",
    "plt.plot(epoch_loss_dict_train.keys(), epoch_loss_dict_train.values())\n",
    "plt.xlabel(\"epoch\")\n",
    "plt.ylabel(\"loss\")\n",
    "plt.show()"
   ]
  },
  {
   "cell_type": "markdown",
   "id": "c2e3b7b8",
   "metadata": {},
   "source": [
    "#### Confusion Matrix"
   ]
  },
  {
   "cell_type": "code",
   "execution_count": 53,
   "id": "534e5af9",
   "metadata": {},
   "outputs": [
    {
     "data": {
      "image/png": "[encoded data removed]",
      "text/plain": [
       "<Figure size 640x480 with 2 Axes>"
      ]
     },
     "metadata": {},
     "output_type": "display_data"
    }
   ],
   "source": [
    "def confusion_matrix(y, y_pred_binary):\n",
    "    cm = metrics.confusion_matrix(y, y_pred_binary)\n",
    "    cm_display = metrics.ConfusionMatrixDisplay(confusion_matrix = cm, display_labels = [False, True])\n",
    "    cm_display.plot()\n",
    "    plt.show()\n",
    "\n",
    "\n",
    "confusion_matrix(y_train, y_pred_binary_train)"
   ]
  },
  {
   "cell_type": "markdown",
   "id": "1cdc5a1c",
   "metadata": {},
   "source": [
    "## **Trying Our Model on Validation Set**"
   ]
  },
  {
   "cell_type": "code",
   "execution_count": 54,
   "id": "909eb750-0b96-4e51-9900-c00e791f2515",
   "metadata": {},
   "outputs": [],
   "source": [
    "y_pred_val = train_model(X_val_tensor)\n",
    "y_pred_binary_val = (y_pred_val.detach().numpy() > 0.5).astype(int)"
   ]
  },
  {
   "cell_type": "markdown",
   "id": "7b927961",
   "metadata": {},
   "source": [
    "### Performance Metrics"
   ]
  },
  {
   "cell_type": "code",
   "execution_count": 55,
   "id": "085dfd2e",
   "metadata": {},
   "outputs": [
    {
     "name": "stdout",
     "output_type": "stream",
     "text": [
      "Accuracy on validation set: 0.7818181818181819\n",
      "Precision on validation set: 0.8275862068965517\n",
      "Recall on validation set: 0.7741935483870968\n",
      "F1-score on validation set: 0.7999999999999999\n"
     ]
    }
   ],
   "source": [
    "accuracy_val, precision_val, recall_val, f1_val = perf_metrics(y_val, y_pred_binary_val)\n",
    "\n",
    "print(\"Accuracy on validation set:\", accuracy_val)\n",
    "print(\"Precision on validation set:\", precision_val)\n",
    "print(\"Recall on validation set:\", recall_val)\n",
    "print(\"F1-score on validation set:\", f1_val)"
   ]
  },
  {
   "cell_type": "markdown",
   "id": "f684a4a6",
   "metadata": {},
   "source": [
    "### Confusion Matrix"
   ]
  },
  {
   "cell_type": "code",
   "execution_count": 56,
   "id": "38b995f9-6778-4ae7-bd78-909c19032e66",
   "metadata": {},
   "outputs": [
    {
     "data": {
      "image/png": "[encoded data removed]",
      "text/plain": [
       "<Figure size 640x480 with 2 Axes>"
      ]
     },
     "metadata": {},
     "output_type": "display_data"
    }
   ],
   "source": [
    "confusion_matrix(y_val, y_pred_binary_val)"
   ]
  },
  {
   "cell_type": "markdown",
   "id": "09cc8c26-ff0d-4672-9e1a-e325a48bf6fb",
   "metadata": {},
   "source": [
    "### Adding Regularization"
   ]
  },
  {
   "cell_type": "code",
   "execution_count": 57,
   "id": "f7f44f1a-19af-40a3-8caf-6fecdc62179f",
   "metadata": {},
   "outputs": [],
   "source": [
    "optimizer_reg = SGD(train_model.parameters(), lr=0.01, weight_decay = 1e-2)"
   ]
  },
  {
   "cell_type": "code",
   "execution_count": 58,
   "id": "dccb3c1a-6001-4710-a27b-edc2a85d312f",
   "metadata": {},
   "outputs": [
    {
     "ename": "NameError",
     "evalue": "name 'my_model' is not defined",
     "output_type": "error",
     "traceback": [
      "\u001b[1;31m---------------------------------------------------------------------------\u001b[0m",
      "\u001b[1;31mNameError\u001b[0m                                 Traceback (most recent call last)",
      "Cell \u001b[1;32mIn[58], line 6\u001b[0m\n\u001b[0;32m      4\u001b[0m \u001b[38;5;28;01mfor\u001b[39;00m epoch \u001b[38;5;129;01min\u001b[39;00m \u001b[38;5;28mrange\u001b[39m(\u001b[38;5;241m10000\u001b[39m):\n\u001b[0;32m      5\u001b[0m     epoch_list\u001b[38;5;241m.\u001b[39mappend(epoch)\n\u001b[1;32m----> 6\u001b[0m     y_pred \u001b[38;5;241m=\u001b[39m my_model(X_train_tensor)\n\u001b[0;32m      7\u001b[0m     loss \u001b[38;5;241m=\u001b[39m loss_cal(y_pred, y_train_tensor)\n\u001b[0;32m      8\u001b[0m     loss_list\u001b[38;5;241m.\u001b[39mappend(loss\u001b[38;5;241m.\u001b[39mitem())\n",
      "\u001b[1;31mNameError\u001b[0m: name 'my_model' is not defined"
     ]
    }
   ],
   "source": [
    "epoch_list = []\n",
    "loss_list = []\n",
    " \n",
    "for epoch in range(10000):\n",
    "    epoch_list.append(epoch)\n",
    "    y_pred = my_model(X_train_tensor)\n",
    "    loss = loss_cal(y_pred, y_train_tensor)\n",
    "    loss_list.append(loss.item())\n",
    "    optimizer_reg.zero_grad()\n",
    "    loss.backward()\n",
    "    optimizer_reg.step()\n"
   ]
  },
  {
   "cell_type": "code",
   "execution_count": null,
   "id": "c795e158-4a48-4b1c-ad01-a2a522de74d7",
   "metadata": {},
   "outputs": [],
   "source": [
    "plt.figure()\n",
    "plt.plot(epoch_list, loss_list)\n",
    "plt.xlabel(\"epoch\")\n",
    "plt.ylabel(\"loss\")\n",
    "plt.show()"
   ]
  },
  {
   "cell_type": "code",
   "execution_count": null,
   "id": "d7d42b9a-0b5f-42f5-8532-51a0c12cfdf7",
   "metadata": {},
   "outputs": [],
   "source": [
    "X_test_tensor = torch.Tensor(X_test)\n",
    "y_test_tensor = torch.Tensor(y_test)"
   ]
  },
  {
   "cell_type": "code",
   "execution_count": null,
   "id": "7d4a36b3-9216-4e7f-95fc-17136d5e88b4",
   "metadata": {},
   "outputs": [],
   "source": [
    "y_pred_test = my_model(X_test_tensor)\n",
    "y_pred_test_hard = torch.where(y_pred_test > 0.5, 1, 0)\n",
    "correct = torch.where(y_pred_test_hard == y_test_tensor, 1, 0)\n",
    "accuracy = float(torch.sum(correct) / y_test.shape[0])\n",
    "print(\"accuracy:\", accuracy)"
   ]
  },
  {
   "cell_type": "code",
   "execution_count": null,
   "id": "74f05f1d-ee6b-41c5-81cb-9bf15a61458f",
   "metadata": {},
   "outputs": [],
   "source": [
    "cm = metrics.confusion_matrix(y_test_tensor, y_pred_test_hard)\n",
    "cm_display = metrics.ConfusionMatrixDisplay(confusion_matrix = cm, display_labels = [False, True])\n",
    "cm_display.plot()\n",
    "plt.show()"
   ]
  },
  {
   "cell_type": "code",
   "execution_count": null,
   "id": "52c8eec0-8242-4e39-9475-0121ae805f92",
   "metadata": {},
   "outputs": [],
   "source": []
  }
 ],
 "metadata": {
  "kernelspec": {
   "display_name": "Python 3 (ipykernel)",
   "language": "python",
   "name": "python3"
  },
  "language_info": {
   "codemirror_mode": {
    "name": "ipython",
    "version": 3
   },
   "file_extension": ".py",
   "mimetype": "text/x-python",
   "name": "python",
   "nbconvert_exporter": "python",
   "pygments_lexer": "ipython3",
   "version": "3.11.5"
  }
 },
 "nbformat": 4,
 "nbformat_minor": 5
}
