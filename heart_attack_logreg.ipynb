{
 "cells": [
  {
   "cell_type": "markdown",
   "id": "c113eaee-456e-4816-a8e2-c3c0be7e3ddd",
   "metadata": {},
   "source": [
    "# **Logistic Regression**"
   ]
  },
  {
   "cell_type": "markdown",
   "id": "585b1d09-f9ea-48f9-bb2a-9ea445d62a8a",
   "metadata": {},
   "source": [
    "## Importing Libraries"
   ]
  },
  {
   "cell_type": "code",
   "execution_count": 1,
   "id": "75a035b7-a8cf-4504-8140-c6258665f36e",
   "metadata": {},
   "outputs": [],
   "source": [
    "import numpy as np\n",
    "import pandas as pd\n",
    "import matplotlib.pyplot as plt\n",
    "from sklearn import metrics as metrics\n",
    "from sklearn.model_selection import train_test_split "
   ]
  },
  {
   "cell_type": "code",
   "execution_count": 2,
   "id": "e2959e98-99f6-4f91-916e-9a1db0df2b65",
   "metadata": {},
   "outputs": [],
   "source": [
    "from sklearn.metrics import roc_curve, auc\n",
    "import seaborn as sns"
   ]
  },
  {
   "cell_type": "code",
   "execution_count": 3,
   "id": "e0683e83-d1b7-415b-aaee-ea76dc2817d2",
   "metadata": {},
   "outputs": [],
   "source": [
    "import numpy.random as r # We will randomly initialize our weights\n",
    "from sklearn.metrics import accuracy_score # "
   ]
  },
  {
   "cell_type": "markdown",
   "id": "721d9d1c-02cd-4aff-9b5a-29121ab0cf93",
   "metadata": {},
   "source": [
    "## Loading Dataset"
   ]
  },
  {
   "cell_type": "code",
   "execution_count": 4,
   "id": "36808efc-6ace-495e-83b6-49433c65b951",
   "metadata": {
    "scrolled": true
   },
   "outputs": [],
   "source": [
    "df = pd.read_csv('heart.csv')\n",
    "data = df.to_numpy()"
   ]
  },
  {
   "cell_type": "code",
   "execution_count": 5,
   "id": "2ffd4fe1-8bde-4be9-a825-d091293f8694",
   "metadata": {},
   "outputs": [
    {
     "data": {
      "text/plain": [
       "(303, 14)"
      ]
     },
     "execution_count": 5,
     "metadata": {},
     "output_type": "execute_result"
    }
   ],
   "source": [
    "df.shape"
   ]
  },
  {
   "cell_type": "code",
   "execution_count": 6,
   "id": "0e1fda04-ccb5-44d2-bbc7-40cd8c07c9c6",
   "metadata": {},
   "outputs": [
    {
     "data": {
      "text/html": [
       "<div>\n",
       "<style scoped>\n",
       "    .dataframe tbody tr th:only-of-type {\n",
       "        vertical-align: middle;\n",
       "    }\n",
       "\n",
       "    .dataframe tbody tr th {\n",
       "        vertical-align: top;\n",
       "    }\n",
       "\n",
       "    .dataframe thead th {\n",
       "        text-align: right;\n",
       "    }\n",
       "</style>\n",
       "<table border=\"1\" class=\"dataframe\">\n",
       "  <thead>\n",
       "    <tr style=\"text-align: right;\">\n",
       "      <th></th>\n",
       "      <th>age</th>\n",
       "      <th>sex</th>\n",
       "      <th>cp</th>\n",
       "      <th>trestbps</th>\n",
       "      <th>chol</th>\n",
       "      <th>fbs</th>\n",
       "      <th>restecg</th>\n",
       "      <th>thalach</th>\n",
       "      <th>exang</th>\n",
       "      <th>oldpeak</th>\n",
       "      <th>slope</th>\n",
       "      <th>ca</th>\n",
       "      <th>thal</th>\n",
       "      <th>target</th>\n",
       "    </tr>\n",
       "  </thead>\n",
       "  <tbody>\n",
       "    <tr>\n",
       "      <th>0</th>\n",
       "      <td>63</td>\n",
       "      <td>1</td>\n",
       "      <td>3</td>\n",
       "      <td>145</td>\n",
       "      <td>233</td>\n",
       "      <td>1</td>\n",
       "      <td>0</td>\n",
       "      <td>150</td>\n",
       "      <td>0</td>\n",
       "      <td>2.3</td>\n",
       "      <td>0</td>\n",
       "      <td>0</td>\n",
       "      <td>1</td>\n",
       "      <td>1</td>\n",
       "    </tr>\n",
       "    <tr>\n",
       "      <th>1</th>\n",
       "      <td>37</td>\n",
       "      <td>1</td>\n",
       "      <td>2</td>\n",
       "      <td>130</td>\n",
       "      <td>250</td>\n",
       "      <td>0</td>\n",
       "      <td>1</td>\n",
       "      <td>187</td>\n",
       "      <td>0</td>\n",
       "      <td>3.5</td>\n",
       "      <td>0</td>\n",
       "      <td>0</td>\n",
       "      <td>2</td>\n",
       "      <td>1</td>\n",
       "    </tr>\n",
       "    <tr>\n",
       "      <th>2</th>\n",
       "      <td>41</td>\n",
       "      <td>0</td>\n",
       "      <td>1</td>\n",
       "      <td>130</td>\n",
       "      <td>204</td>\n",
       "      <td>0</td>\n",
       "      <td>0</td>\n",
       "      <td>172</td>\n",
       "      <td>0</td>\n",
       "      <td>1.4</td>\n",
       "      <td>2</td>\n",
       "      <td>0</td>\n",
       "      <td>2</td>\n",
       "      <td>1</td>\n",
       "    </tr>\n",
       "    <tr>\n",
       "      <th>3</th>\n",
       "      <td>56</td>\n",
       "      <td>1</td>\n",
       "      <td>1</td>\n",
       "      <td>120</td>\n",
       "      <td>236</td>\n",
       "      <td>0</td>\n",
       "      <td>1</td>\n",
       "      <td>178</td>\n",
       "      <td>0</td>\n",
       "      <td>0.8</td>\n",
       "      <td>2</td>\n",
       "      <td>0</td>\n",
       "      <td>2</td>\n",
       "      <td>1</td>\n",
       "    </tr>\n",
       "    <tr>\n",
       "      <th>4</th>\n",
       "      <td>57</td>\n",
       "      <td>0</td>\n",
       "      <td>0</td>\n",
       "      <td>120</td>\n",
       "      <td>354</td>\n",
       "      <td>0</td>\n",
       "      <td>1</td>\n",
       "      <td>163</td>\n",
       "      <td>1</td>\n",
       "      <td>0.6</td>\n",
       "      <td>2</td>\n",
       "      <td>0</td>\n",
       "      <td>2</td>\n",
       "      <td>1</td>\n",
       "    </tr>\n",
       "  </tbody>\n",
       "</table>\n",
       "</div>"
      ],
      "text/plain": [
       "   age  sex  cp  trestbps  chol  fbs  restecg  thalach  exang  oldpeak  slope  \\\n",
       "0   63    1   3       145   233    1        0      150      0      2.3      0   \n",
       "1   37    1   2       130   250    0        1      187      0      3.5      0   \n",
       "2   41    0   1       130   204    0        0      172      0      1.4      2   \n",
       "3   56    1   1       120   236    0        1      178      0      0.8      2   \n",
       "4   57    0   0       120   354    0        1      163      1      0.6      2   \n",
       "\n",
       "   ca  thal  target  \n",
       "0   0     1       1  \n",
       "1   0     2       1  \n",
       "2   0     2       1  \n",
       "3   0     2       1  \n",
       "4   0     2       1  "
      ]
     },
     "execution_count": 6,
     "metadata": {},
     "output_type": "execute_result"
    }
   ],
   "source": [
    "df.head()"
   ]
  },
  {
   "cell_type": "code",
   "execution_count": 7,
   "id": "0e34cae0-488b-4138-9c40-b15c059cec40",
   "metadata": {
    "scrolled": true
   },
   "outputs": [],
   "source": [
    "X_data = data[:, :-1]\n",
    "y_data = data[:, -1]"
   ]
  },
  {
   "cell_type": "markdown",
   "id": "bf78842b-3858-4392-a360-bfb9ac4e96b4",
   "metadata": {},
   "source": [
    "## **1. Data Preprocessing**"
   ]
  },
  {
   "cell_type": "markdown",
   "id": "244a58ab-730d-4c1d-b53b-856636a19a5a",
   "metadata": {},
   "source": [
    "### 1.1. Splitting data\n",
    "We divide our dataset into a training set and a testing set:\n",
    "- **Training Set**: 80%\n",
    "- **Testing Set**: 20%\n",
    "\n",
    "Use the `train_test_split` function to achieve this split:\n",
    "- Assign results to: `X_train`, `X_test`, `y_train`, `y_test`\n",
    "- Set `random_state` to 42 to ensure reproducibility.\n"
   ]
  },
  {
   "cell_type": "code",
   "execution_count": 58,
   "id": "fef40450-a9a1-4882-a44e-52f2a4473262",
   "metadata": {},
   "outputs": [
    {
     "data": {
      "text/plain": [
       "(242, 13)"
      ]
     },
     "execution_count": 58,
     "metadata": {},
     "output_type": "execute_result"
    }
   ],
   "source": [
    "X_train, X_test, y_train, y_test = train_test_split(X_data, y_data, test_size=0.2, random_state=42)"
   ]
  },
  {
   "cell_type": "markdown",
   "id": "51d3c6a1-a695-4476-a175-bd2dd6351b66",
   "metadata": {},
   "source": [
    "### 1.2. Scaling the Data Using Standard Scaler"
   ]
  },
  {
   "cell_type": "code",
   "execution_count": 17,
   "id": "931d232a-c4ac-44d0-a6ba-3a57a368ddb3",
   "metadata": {},
   "outputs": [],
   "source": [
    "from sklearn import preprocessing\n",
    "\n",
    "scaler = preprocessing.StandardScaler() # Reshape `y_train` into 2D array, and `y_test` into 2D array \n",
    "y_2d_train = np.reshape(y_train, (-1, 1))\n",
    "y_2d_test = np.reshape(y_test, (-1, 1))\n",
    "X_train_unscaled = X_train\n",
    "X_test_unscaled = X_test\n",
    "X_train = scaler.fit_transform(X_train)\n",
    "X_test = scaler.transform(X_test)"
   ]
  },
  {
   "cell_type": "markdown",
   "id": "22cc689d-8a81-4e09-b292-23ac67f09bdd",
   "metadata": {},
   "source": [
    "### 1.3. Adding a Bias Term to Design Matrix $X_{\\text{train}}$ and $X_{\\text{test}}$\n",
    "To account for the intercept term in our logistic regression model, we augment our feature matrices with a column of ones. This is often referred to as the bias term.\n"
   ]
  },
  {
   "cell_type": "code",
   "execution_count": 18,
   "id": "15202d11-c8ee-4ccd-a25f-e1187fc08e33",
   "metadata": {
    "scrolled": true
   },
   "outputs": [],
   "source": [
    "ones = np.ones((X_train.shape[0], 1))\n",
    "X_train_1 = np.hstack((ones,X_train))"
   ]
  },
  {
   "cell_type": "markdown",
   "id": "4cc9d997-9407-47ae-a434-cf7481c61f56",
   "metadata": {},
   "source": [
    "### 1.4. Initialize w"
   ]
  },
  {
   "cell_type": "code",
   "execution_count": 20,
   "id": "ee9ec417-d7d9-490b-a312-c1602437f266",
   "metadata": {},
   "outputs": [],
   "source": [
    "w_init = np.zeros((X_train_1.shape[1], 1))"
   ]
  },
  {
   "cell_type": "code",
   "execution_count": 59,
   "id": "dd690fda",
   "metadata": {},
   "outputs": [
    {
     "data": {
      "text/plain": [
       "(14, 1)"
      ]
     },
     "execution_count": 59,
     "metadata": {},
     "output_type": "execute_result"
    }
   ],
   "source": [
    "w_init.shape"
   ]
  },
  {
   "cell_type": "markdown",
   "id": "3ef1f8af-7bf0-49c2-94c4-d0141b40977e",
   "metadata": {
    "scrolled": true
   },
   "source": [
    "## **Logistic Regression Functions**"
   ]
  },
  {
   "cell_type": "markdown",
   "id": "b5544c4e-e3ce-4a11-9b54-0c241b7da330",
   "metadata": {},
   "source": [
    "#### 3.1.3. Sigmoid(z)"
   ]
  },
  {
   "cell_type": "markdown",
   "id": "f34d1af0-5075-4261-bb61-6b441392079f",
   "metadata": {},
   "source": [
    "$$\\sigma (z) = \\frac{1}{1 + e^{-z}}$$"
   ]
  },
  {
   "cell_type": "code",
   "execution_count": 22,
   "id": "402bd2cb-194a-48de-9334-9b8beecc97cc",
   "metadata": {},
   "outputs": [],
   "source": [
    "def sigmoid(z):\n",
    "    return 1 / (1 + np.exp(-z))"
   ]
  },
  {
   "cell_type": "markdown",
   "id": "36935ebd-016c-45ec-9b82-586fd9540b78",
   "metadata": {},
   "source": [
    "#### 3.1.4. Prediction Function"
   ]
  },
  {
   "cell_type": "markdown",
   "id": "5e6d8874-50c4-4396-b7de-d0ba035bca7b",
   "metadata": {},
   "source": [
    "$$ h(x) = \\frac{1}{1 + e^{-(w_0+w_1x_1+w_2x_2+...+w_dx_d)}} $$"
   ]
  },
  {
   "cell_type": "markdown",
   "id": "4ad2733a-7b30-4730-86a0-7d999651928e",
   "metadata": {},
   "source": [
    "$$ h(x) = \\frac{1}{1 + e^{-Xw}} $$"
   ]
  },
  {
   "cell_type": "code",
   "execution_count": 23,
   "id": "5dfd935c-2046-49d9-a055-2f13af82702c",
   "metadata": {},
   "outputs": [],
   "source": [
    "def hypothesis(X, w):\n",
    "    return sigmoid(np.dot(X, w))"
   ]
  },
  {
   "cell_type": "code",
   "execution_count": 24,
   "id": "d86fcb5f-b8ba-4c4b-ac99-019ae4e6ef04",
   "metadata": {},
   "outputs": [
    {
     "data": {
      "text/plain": [
       "(242, 1)"
      ]
     },
     "execution_count": 24,
     "metadata": {},
     "output_type": "execute_result"
    }
   ],
   "source": [
    "y_hat_init = hypothesis(X_train_1, w_init)\n",
    "y_hat_init.shape"
   ]
  },
  {
   "cell_type": "markdown",
   "id": "aca3a60e-5fc9-4ca1-a747-d235b78bd510",
   "metadata": {},
   "source": [
    "#### 3.1.5. Log_likelihood Function"
   ]
  },
  {
   "cell_type": "markdown",
   "id": "d82f51e9-4128-4560-91fb-928aece8f334",
   "metadata": {},
   "source": [
    "$$ l(w) = \\sum_{i=1}^{N} y^{(i)}ln(h(x^{(i)})) + (1 - y^{(i)})ln(1 - h(x^{(i)})) $$"
   ]
  },
  {
   "cell_type": "code",
   "execution_count": 25,
   "id": "1002962f-f401-48d5-a54c-dd002c0e78f0",
   "metadata": {},
   "outputs": [
    {
     "data": {
      "text/plain": [
       "((242, 1), (242, 1))"
      ]
     },
     "execution_count": 25,
     "metadata": {},
     "output_type": "execute_result"
    }
   ],
   "source": [
    "def log_likelihood(X, y, w):\n",
    "    y_hat = hypothesis(X, w)\n",
    "    return np.dot(y.T, np.log(1-y_hat)) + np.dot((1-y).T, np.log(y_hat))\n",
    "\n",
    "y_2d_train.shape, hypothesis(X_train_1, w_init).shape"
   ]
  },
  {
   "cell_type": "code",
   "execution_count": 26,
   "id": "6dd05bbd-afc6-49aa-a841-5539d87c758e",
   "metadata": {},
   "outputs": [
    {
     "data": {
      "text/plain": [
       "array([[-167.7416177]])"
      ]
     },
     "execution_count": 26,
     "metadata": {},
     "output_type": "execute_result"
    }
   ],
   "source": [
    "log_likelihood(X_train_1, y_2d_train, w_init)"
   ]
  },
  {
   "cell_type": "markdown",
   "id": "0a5c1c1a-2a37-4daa-b30d-0a3968ed1a37",
   "metadata": {},
   "source": [
    "#### 3.1.6. Gradient Ascent"
   ]
  },
  {
   "cell_type": "code",
   "execution_count": 27,
   "id": "6b9d2c55-f672-463b-bf86-a975832b9045",
   "metadata": {},
   "outputs": [],
   "source": [
    "def gradient_ascent(X, y, learning_rate, num_iters):\n",
    "    N = X.shape[0]\n",
    "    w = np.zeros((X.shape[1], 1))\n",
    "    \n",
    "    log_likelihood_values = []\n",
    "    X_transpose = np.transpose(X)\n",
    "\n",
    "    # Gradient Ascent - local optimization technique\n",
    "    i = 0\n",
    "    while i < num_iters:\n",
    "        w += (learning_rate / N) * (X_transpose @ (y - hypothesis(X, w)))\n",
    "        i += 1\n",
    "\n",
    "        # Computing log likelihood of seeing examples for current value of w\n",
    "        if (i % 10) == 0:\n",
    "            log_likelihood_values.append(log_likelihood(X, y, w))\n",
    "\n",
    "    return w, log_likelihood_values"
   ]
  },
  {
   "cell_type": "code",
   "execution_count": 28,
   "id": "ee89e4e4-c7a8-47bc-866c-d783a5e59826",
   "metadata": {
    "scrolled": true
   },
   "outputs": [
    {
     "data": {
      "text/plain": [
       "(array([[ 4.95248445e-04],\n",
       "        [-1.15817901e-03],\n",
       "        [-1.50969379e-03],\n",
       "        [ 2.02291593e-03],\n",
       "        [-5.16964627e-04],\n",
       "        [-2.85928173e-04],\n",
       "        [-4.23626500e-06],\n",
       "        [ 4.17035130e-04],\n",
       "        [ 1.95008763e-03],\n",
       "        [-2.19783051e-03],\n",
       "        [-2.21782539e-03],\n",
       "        [ 1.69333416e-03],\n",
       "        [-1.86249814e-03],\n",
       "        [-1.67700686e-03]]),\n",
       " [array([[-167.74169364]]),\n",
       "  array([[-167.74176959]]),\n",
       "  array([[-167.74184554]]),\n",
       "  array([[-167.74192149]]),\n",
       "  array([[-167.74199744]]),\n",
       "  array([[-167.74207338]]),\n",
       "  array([[-167.74214933]]),\n",
       "  array([[-167.74222528]]),\n",
       "  array([[-167.74230123]]),\n",
       "  array([[-167.74237717]]),\n",
       "  array([[-167.74245312]]),\n",
       "  array([[-167.74252907]]),\n",
       "  array([[-167.74260502]]),\n",
       "  array([[-167.74268097]]),\n",
       "  array([[-167.74275691]]),\n",
       "  array([[-167.74283286]]),\n",
       "  array([[-167.74290881]]),\n",
       "  array([[-167.74298476]]),\n",
       "  array([[-167.74306071]]),\n",
       "  array([[-167.74313665]]),\n",
       "  array([[-167.7432126]]),\n",
       "  array([[-167.74328855]]),\n",
       "  array([[-167.7433645]]),\n",
       "  array([[-167.74344045]]),\n",
       "  array([[-167.74351639]]),\n",
       "  array([[-167.74359234]]),\n",
       "  array([[-167.74366829]]),\n",
       "  array([[-167.74374424]]),\n",
       "  array([[-167.74382019]]),\n",
       "  array([[-167.74389613]]),\n",
       "  array([[-167.74397208]]),\n",
       "  array([[-167.74404803]]),\n",
       "  array([[-167.74412398]]),\n",
       "  array([[-167.74419992]]),\n",
       "  array([[-167.74427587]]),\n",
       "  array([[-167.74435182]]),\n",
       "  array([[-167.74442777]]),\n",
       "  array([[-167.74450372]]),\n",
       "  array([[-167.74457966]]),\n",
       "  array([[-167.74465561]]),\n",
       "  array([[-167.74473156]]),\n",
       "  array([[-167.74480751]]),\n",
       "  array([[-167.74488346]]),\n",
       "  array([[-167.7449594]]),\n",
       "  array([[-167.74503535]]),\n",
       "  array([[-167.7451113]]),\n",
       "  array([[-167.74518725]]),\n",
       "  array([[-167.7452632]]),\n",
       "  array([[-167.74533914]]),\n",
       "  array([[-167.74541509]]),\n",
       "  array([[-167.74549104]]),\n",
       "  array([[-167.74556699]]),\n",
       "  array([[-167.74564294]]),\n",
       "  array([[-167.74571888]]),\n",
       "  array([[-167.74579483]]),\n",
       "  array([[-167.74587078]]),\n",
       "  array([[-167.74594673]]),\n",
       "  array([[-167.74602267]]),\n",
       "  array([[-167.74609862]]),\n",
       "  array([[-167.74617457]]),\n",
       "  array([[-167.74625052]]),\n",
       "  array([[-167.74632647]]),\n",
       "  array([[-167.74640241]]),\n",
       "  array([[-167.74647836]]),\n",
       "  array([[-167.74655431]]),\n",
       "  array([[-167.74663026]]),\n",
       "  array([[-167.74670621]]),\n",
       "  array([[-167.74678215]]),\n",
       "  array([[-167.7468581]]),\n",
       "  array([[-167.74693405]]),\n",
       "  array([[-167.74701]]),\n",
       "  array([[-167.74708595]]),\n",
       "  array([[-167.74716189]]),\n",
       "  array([[-167.74723784]]),\n",
       "  array([[-167.74731379]]),\n",
       "  array([[-167.74738974]]),\n",
       "  array([[-167.74746569]]),\n",
       "  array([[-167.74754163]]),\n",
       "  array([[-167.74761758]]),\n",
       "  array([[-167.74769353]]),\n",
       "  array([[-167.74776948]]),\n",
       "  array([[-167.74784542]]),\n",
       "  array([[-167.74792137]]),\n",
       "  array([[-167.74799732]]),\n",
       "  array([[-167.74807327]]),\n",
       "  array([[-167.74814922]]),\n",
       "  array([[-167.74822516]]),\n",
       "  array([[-167.74830111]]),\n",
       "  array([[-167.74837706]]),\n",
       "  array([[-167.74845301]]),\n",
       "  array([[-167.74852896]]),\n",
       "  array([[-167.7486049]]),\n",
       "  array([[-167.74868085]]),\n",
       "  array([[-167.7487568]]),\n",
       "  array([[-167.74883275]]),\n",
       "  array([[-167.7489087]]),\n",
       "  array([[-167.74898464]]),\n",
       "  array([[-167.74906059]]),\n",
       "  array([[-167.74913654]]),\n",
       "  array([[-167.74921249]]),\n",
       "  array([[-167.74928843]]),\n",
       "  array([[-167.74936438]]),\n",
       "  array([[-167.74944033]]),\n",
       "  array([[-167.74951628]]),\n",
       "  array([[-167.74959223]]),\n",
       "  array([[-167.74966817]]),\n",
       "  array([[-167.74974412]]),\n",
       "  array([[-167.74982007]]),\n",
       "  array([[-167.74989602]]),\n",
       "  array([[-167.74997197]]),\n",
       "  array([[-167.75004791]]),\n",
       "  array([[-167.75012386]]),\n",
       "  array([[-167.75019981]]),\n",
       "  array([[-167.75027576]]),\n",
       "  array([[-167.75035171]]),\n",
       "  array([[-167.75042765]]),\n",
       "  array([[-167.7505036]]),\n",
       "  array([[-167.75057955]]),\n",
       "  array([[-167.7506555]]),\n",
       "  array([[-167.75073145]]),\n",
       "  array([[-167.75080739]]),\n",
       "  array([[-167.75088334]]),\n",
       "  array([[-167.75095929]]),\n",
       "  array([[-167.75103524]]),\n",
       "  array([[-167.75111118]]),\n",
       "  array([[-167.75118713]]),\n",
       "  array([[-167.75126308]]),\n",
       "  array([[-167.75133903]]),\n",
       "  array([[-167.75141498]]),\n",
       "  array([[-167.75149092]]),\n",
       "  array([[-167.75156687]]),\n",
       "  array([[-167.75164282]]),\n",
       "  array([[-167.75171877]]),\n",
       "  array([[-167.75179472]]),\n",
       "  array([[-167.75187066]]),\n",
       "  array([[-167.75194661]]),\n",
       "  array([[-167.75202256]]),\n",
       "  array([[-167.75209851]]),\n",
       "  array([[-167.75217446]]),\n",
       "  array([[-167.7522504]]),\n",
       "  array([[-167.75232635]]),\n",
       "  array([[-167.7524023]]),\n",
       "  array([[-167.75247825]]),\n",
       "  array([[-167.7525542]]),\n",
       "  array([[-167.75263014]]),\n",
       "  array([[-167.75270609]]),\n",
       "  array([[-167.75278204]]),\n",
       "  array([[-167.75285799]]),\n",
       "  array([[-167.75293393]]),\n",
       "  array([[-167.75300988]]),\n",
       "  array([[-167.75308583]]),\n",
       "  array([[-167.75316178]]),\n",
       "  array([[-167.75323773]]),\n",
       "  array([[-167.75331367]]),\n",
       "  array([[-167.75338962]]),\n",
       "  array([[-167.75346557]]),\n",
       "  array([[-167.75354152]]),\n",
       "  array([[-167.75361747]]),\n",
       "  array([[-167.75369341]]),\n",
       "  array([[-167.75376936]]),\n",
       "  array([[-167.75384531]]),\n",
       "  array([[-167.75392126]]),\n",
       "  array([[-167.75399721]]),\n",
       "  array([[-167.75407315]]),\n",
       "  array([[-167.7541491]]),\n",
       "  array([[-167.75422505]]),\n",
       "  array([[-167.754301]]),\n",
       "  array([[-167.75437695]]),\n",
       "  array([[-167.75445289]]),\n",
       "  array([[-167.75452884]]),\n",
       "  array([[-167.75460479]]),\n",
       "  array([[-167.75468074]]),\n",
       "  array([[-167.75475668]]),\n",
       "  array([[-167.75483263]]),\n",
       "  array([[-167.75490858]]),\n",
       "  array([[-167.75498453]]),\n",
       "  array([[-167.75506048]]),\n",
       "  array([[-167.75513642]]),\n",
       "  array([[-167.75521237]]),\n",
       "  array([[-167.75528832]]),\n",
       "  array([[-167.75536427]]),\n",
       "  array([[-167.75544022]]),\n",
       "  array([[-167.75551616]]),\n",
       "  array([[-167.75559211]]),\n",
       "  array([[-167.75566806]]),\n",
       "  array([[-167.75574401]]),\n",
       "  array([[-167.75581996]]),\n",
       "  array([[-167.7558959]]),\n",
       "  array([[-167.75597185]]),\n",
       "  array([[-167.7560478]]),\n",
       "  array([[-167.75612375]]),\n",
       "  array([[-167.7561997]]),\n",
       "  array([[-167.75627564]]),\n",
       "  array([[-167.75635159]]),\n",
       "  array([[-167.75642754]]),\n",
       "  array([[-167.75650349]]),\n",
       "  array([[-167.75657943]]),\n",
       "  array([[-167.75665538]]),\n",
       "  array([[-167.75673133]]),\n",
       "  array([[-167.75680728]]),\n",
       "  array([[-167.75688323]]),\n",
       "  array([[-167.75695917]]),\n",
       "  array([[-167.75703512]]),\n",
       "  array([[-167.75711107]]),\n",
       "  array([[-167.75718702]]),\n",
       "  array([[-167.75726297]]),\n",
       "  array([[-167.75733891]]),\n",
       "  array([[-167.75741486]]),\n",
       "  array([[-167.75749081]]),\n",
       "  array([[-167.75756676]]),\n",
       "  array([[-167.75764271]]),\n",
       "  array([[-167.75771865]]),\n",
       "  array([[-167.7577946]]),\n",
       "  array([[-167.75787055]]),\n",
       "  array([[-167.7579465]]),\n",
       "  array([[-167.75802245]]),\n",
       "  array([[-167.75809839]]),\n",
       "  array([[-167.75817434]]),\n",
       "  array([[-167.75825029]]),\n",
       "  array([[-167.75832624]]),\n",
       "  array([[-167.75840218]]),\n",
       "  array([[-167.75847813]]),\n",
       "  array([[-167.75855408]]),\n",
       "  array([[-167.75863003]]),\n",
       "  array([[-167.75870598]]),\n",
       "  array([[-167.75878192]]),\n",
       "  array([[-167.75885787]]),\n",
       "  array([[-167.75893382]]),\n",
       "  array([[-167.75900977]]),\n",
       "  array([[-167.75908572]]),\n",
       "  array([[-167.75916166]]),\n",
       "  array([[-167.75923761]]),\n",
       "  array([[-167.75931356]]),\n",
       "  array([[-167.75938951]]),\n",
       "  array([[-167.75946546]]),\n",
       "  array([[-167.7595414]]),\n",
       "  array([[-167.75961735]]),\n",
       "  array([[-167.7596933]]),\n",
       "  array([[-167.75976925]]),\n",
       "  array([[-167.7598452]]),\n",
       "  array([[-167.75992114]]),\n",
       "  array([[-167.75999709]]),\n",
       "  array([[-167.76007304]]),\n",
       "  array([[-167.76014899]]),\n",
       "  array([[-167.76022493]]),\n",
       "  array([[-167.76030088]]),\n",
       "  array([[-167.76037683]]),\n",
       "  array([[-167.76045278]]),\n",
       "  array([[-167.76052873]]),\n",
       "  array([[-167.76060467]]),\n",
       "  array([[-167.76068062]]),\n",
       "  array([[-167.76075657]]),\n",
       "  array([[-167.76083252]]),\n",
       "  array([[-167.76090847]]),\n",
       "  array([[-167.76098441]]),\n",
       "  array([[-167.76106036]]),\n",
       "  array([[-167.76113631]]),\n",
       "  array([[-167.76121226]]),\n",
       "  array([[-167.76128821]]),\n",
       "  array([[-167.76136415]]),\n",
       "  array([[-167.7614401]]),\n",
       "  array([[-167.76151605]]),\n",
       "  array([[-167.761592]]),\n",
       "  array([[-167.76166795]]),\n",
       "  array([[-167.76174389]]),\n",
       "  array([[-167.76181984]]),\n",
       "  array([[-167.76189579]]),\n",
       "  array([[-167.76197174]]),\n",
       "  array([[-167.76204768]]),\n",
       "  array([[-167.76212363]]),\n",
       "  array([[-167.76219958]]),\n",
       "  array([[-167.76227553]]),\n",
       "  array([[-167.76235148]]),\n",
       "  array([[-167.76242742]]),\n",
       "  array([[-167.76250337]]),\n",
       "  array([[-167.76257932]]),\n",
       "  array([[-167.76265527]]),\n",
       "  array([[-167.76273122]]),\n",
       "  array([[-167.76280716]]),\n",
       "  array([[-167.76288311]]),\n",
       "  array([[-167.76295906]]),\n",
       "  array([[-167.76303501]]),\n",
       "  array([[-167.76311096]]),\n",
       "  array([[-167.7631869]]),\n",
       "  array([[-167.76326285]]),\n",
       "  array([[-167.7633388]]),\n",
       "  array([[-167.76341475]]),\n",
       "  array([[-167.76349069]]),\n",
       "  array([[-167.76356664]]),\n",
       "  array([[-167.76364259]]),\n",
       "  array([[-167.76371854]]),\n",
       "  array([[-167.76379449]]),\n",
       "  array([[-167.76387043]]),\n",
       "  array([[-167.76394638]]),\n",
       "  array([[-167.76402233]]),\n",
       "  array([[-167.76409828]]),\n",
       "  array([[-167.76417423]]),\n",
       "  array([[-167.76425017]]),\n",
       "  array([[-167.76432612]]),\n",
       "  array([[-167.76440207]]),\n",
       "  array([[-167.76447802]]),\n",
       "  array([[-167.76455397]]),\n",
       "  array([[-167.76462991]]),\n",
       "  array([[-167.76470586]]),\n",
       "  array([[-167.76478181]]),\n",
       "  array([[-167.76485776]]),\n",
       "  array([[-167.76493371]]),\n",
       "  array([[-167.76500965]]),\n",
       "  array([[-167.7650856]]),\n",
       "  array([[-167.76516155]]),\n",
       "  array([[-167.7652375]]),\n",
       "  array([[-167.76531344]]),\n",
       "  array([[-167.76538939]]),\n",
       "  array([[-167.76546534]]),\n",
       "  array([[-167.76554129]]),\n",
       "  array([[-167.76561724]]),\n",
       "  array([[-167.76569318]]),\n",
       "  array([[-167.76576913]]),\n",
       "  array([[-167.76584508]]),\n",
       "  array([[-167.76592103]]),\n",
       "  array([[-167.76599698]]),\n",
       "  array([[-167.76607292]]),\n",
       "  array([[-167.76614887]]),\n",
       "  array([[-167.76622482]]),\n",
       "  array([[-167.76630077]]),\n",
       "  array([[-167.76637672]]),\n",
       "  array([[-167.76645266]]),\n",
       "  array([[-167.76652861]]),\n",
       "  array([[-167.76660456]]),\n",
       "  array([[-167.76668051]]),\n",
       "  array([[-167.76675646]]),\n",
       "  array([[-167.7668324]]),\n",
       "  array([[-167.76690835]]),\n",
       "  array([[-167.7669843]]),\n",
       "  array([[-167.76706025]]),\n",
       "  array([[-167.76713619]]),\n",
       "  array([[-167.76721214]]),\n",
       "  array([[-167.76728809]]),\n",
       "  array([[-167.76736404]]),\n",
       "  array([[-167.76743999]]),\n",
       "  array([[-167.76751593]]),\n",
       "  array([[-167.76759188]]),\n",
       "  array([[-167.76766783]]),\n",
       "  array([[-167.76774378]]),\n",
       "  array([[-167.76781973]]),\n",
       "  array([[-167.76789567]]),\n",
       "  array([[-167.76797162]]),\n",
       "  array([[-167.76804757]]),\n",
       "  array([[-167.76812352]]),\n",
       "  array([[-167.76819947]]),\n",
       "  array([[-167.76827541]]),\n",
       "  array([[-167.76835136]]),\n",
       "  array([[-167.76842731]]),\n",
       "  array([[-167.76850326]]),\n",
       "  array([[-167.76857921]]),\n",
       "  array([[-167.76865515]]),\n",
       "  array([[-167.7687311]]),\n",
       "  array([[-167.76880705]]),\n",
       "  array([[-167.768883]]),\n",
       "  array([[-167.76895894]]),\n",
       "  array([[-167.76903489]]),\n",
       "  array([[-167.76911084]]),\n",
       "  array([[-167.76918679]]),\n",
       "  array([[-167.76926274]]),\n",
       "  array([[-167.76933868]]),\n",
       "  array([[-167.76941463]]),\n",
       "  array([[-167.76949058]]),\n",
       "  array([[-167.76956653]]),\n",
       "  array([[-167.76964248]]),\n",
       "  array([[-167.76971842]]),\n",
       "  array([[-167.76979437]]),\n",
       "  array([[-167.76987032]]),\n",
       "  array([[-167.76994627]]),\n",
       "  array([[-167.77002222]]),\n",
       "  array([[-167.77009816]]),\n",
       "  array([[-167.77017411]]),\n",
       "  array([[-167.77025006]]),\n",
       "  array([[-167.77032601]]),\n",
       "  array([[-167.77040195]]),\n",
       "  array([[-167.7704779]]),\n",
       "  array([[-167.77055385]]),\n",
       "  array([[-167.7706298]]),\n",
       "  array([[-167.77070575]]),\n",
       "  array([[-167.77078169]]),\n",
       "  array([[-167.77085764]]),\n",
       "  array([[-167.77093359]]),\n",
       "  array([[-167.77100954]]),\n",
       "  array([[-167.77108549]]),\n",
       "  array([[-167.77116143]]),\n",
       "  array([[-167.77123738]]),\n",
       "  array([[-167.77131333]]),\n",
       "  array([[-167.77138928]]),\n",
       "  array([[-167.77146523]]),\n",
       "  array([[-167.77154117]]),\n",
       "  array([[-167.77161712]]),\n",
       "  array([[-167.77169307]]),\n",
       "  array([[-167.77176902]]),\n",
       "  array([[-167.77184497]]),\n",
       "  array([[-167.77192091]]),\n",
       "  array([[-167.77199686]]),\n",
       "  array([[-167.77207281]]),\n",
       "  array([[-167.77214876]]),\n",
       "  array([[-167.7722247]]),\n",
       "  array([[-167.77230065]]),\n",
       "  array([[-167.7723766]]),\n",
       "  array([[-167.77245255]]),\n",
       "  array([[-167.7725285]]),\n",
       "  array([[-167.77260444]]),\n",
       "  array([[-167.77268039]]),\n",
       "  array([[-167.77275634]]),\n",
       "  array([[-167.77283229]]),\n",
       "  array([[-167.77290824]]),\n",
       "  array([[-167.77298418]]),\n",
       "  array([[-167.77306013]]),\n",
       "  array([[-167.77313608]]),\n",
       "  array([[-167.77321203]]),\n",
       "  array([[-167.77328798]]),\n",
       "  array([[-167.77336392]]),\n",
       "  array([[-167.77343987]]),\n",
       "  array([[-167.77351582]]),\n",
       "  array([[-167.77359177]]),\n",
       "  array([[-167.77366772]]),\n",
       "  array([[-167.77374366]]),\n",
       "  array([[-167.77381961]]),\n",
       "  array([[-167.77389556]]),\n",
       "  array([[-167.77397151]]),\n",
       "  array([[-167.77404745]]),\n",
       "  array([[-167.7741234]]),\n",
       "  array([[-167.77419935]]),\n",
       "  array([[-167.7742753]]),\n",
       "  array([[-167.77435125]]),\n",
       "  array([[-167.77442719]]),\n",
       "  array([[-167.77450314]]),\n",
       "  array([[-167.77457909]]),\n",
       "  array([[-167.77465504]]),\n",
       "  array([[-167.77473099]]),\n",
       "  array([[-167.77480693]]),\n",
       "  array([[-167.77488288]]),\n",
       "  array([[-167.77495883]]),\n",
       "  array([[-167.77503478]]),\n",
       "  array([[-167.77511073]]),\n",
       "  array([[-167.77518667]]),\n",
       "  array([[-167.77526262]]),\n",
       "  array([[-167.77533857]]),\n",
       "  array([[-167.77541452]]),\n",
       "  array([[-167.77549046]]),\n",
       "  array([[-167.77556641]]),\n",
       "  array([[-167.77564236]]),\n",
       "  array([[-167.77571831]]),\n",
       "  array([[-167.77579426]]),\n",
       "  array([[-167.7758702]]),\n",
       "  array([[-167.77594615]]),\n",
       "  array([[-167.7760221]]),\n",
       "  array([[-167.77609805]]),\n",
       "  array([[-167.776174]]),\n",
       "  array([[-167.77624994]]),\n",
       "  array([[-167.77632589]]),\n",
       "  array([[-167.77640184]]),\n",
       "  array([[-167.77647779]]),\n",
       "  array([[-167.77655374]]),\n",
       "  array([[-167.77662968]]),\n",
       "  array([[-167.77670563]]),\n",
       "  array([[-167.77678158]]),\n",
       "  array([[-167.77685753]]),\n",
       "  array([[-167.77693348]]),\n",
       "  array([[-167.77700942]]),\n",
       "  array([[-167.77708537]]),\n",
       "  array([[-167.77716132]]),\n",
       "  array([[-167.77723727]]),\n",
       "  array([[-167.77731321]]),\n",
       "  array([[-167.77738916]]),\n",
       "  array([[-167.77746511]]),\n",
       "  array([[-167.77754106]]),\n",
       "  array([[-167.77761701]]),\n",
       "  array([[-167.77769295]]),\n",
       "  array([[-167.7777689]]),\n",
       "  array([[-167.77784485]]),\n",
       "  array([[-167.7779208]]),\n",
       "  array([[-167.77799675]]),\n",
       "  array([[-167.77807269]]),\n",
       "  array([[-167.77814864]]),\n",
       "  array([[-167.77822459]]),\n",
       "  array([[-167.77830054]]),\n",
       "  array([[-167.77837649]]),\n",
       "  array([[-167.77845243]]),\n",
       "  array([[-167.77852838]]),\n",
       "  array([[-167.77860433]]),\n",
       "  array([[-167.77868028]]),\n",
       "  array([[-167.77875623]]),\n",
       "  array([[-167.77883217]]),\n",
       "  array([[-167.77890812]]),\n",
       "  array([[-167.77898407]]),\n",
       "  array([[-167.77906002]]),\n",
       "  array([[-167.77913596]]),\n",
       "  array([[-167.77921191]]),\n",
       "  array([[-167.77928786]]),\n",
       "  array([[-167.77936381]]),\n",
       "  array([[-167.77943976]]),\n",
       "  array([[-167.7795157]]),\n",
       "  array([[-167.77959165]]),\n",
       "  array([[-167.7796676]]),\n",
       "  array([[-167.77974355]]),\n",
       "  array([[-167.7798195]]),\n",
       "  array([[-167.77989544]]),\n",
       "  array([[-167.77997139]]),\n",
       "  array([[-167.78004734]]),\n",
       "  array([[-167.78012329]]),\n",
       "  array([[-167.78019924]]),\n",
       "  array([[-167.78027518]]),\n",
       "  array([[-167.78035113]]),\n",
       "  array([[-167.78042708]]),\n",
       "  array([[-167.78050303]]),\n",
       "  array([[-167.78057897]]),\n",
       "  array([[-167.78065492]]),\n",
       "  array([[-167.78073087]]),\n",
       "  array([[-167.78080682]]),\n",
       "  array([[-167.78088277]]),\n",
       "  array([[-167.78095871]]),\n",
       "  array([[-167.78103466]]),\n",
       "  array([[-167.78111061]]),\n",
       "  array([[-167.78118656]]),\n",
       "  array([[-167.78126251]]),\n",
       "  array([[-167.78133845]]),\n",
       "  array([[-167.7814144]]),\n",
       "  array([[-167.78149035]]),\n",
       "  array([[-167.7815663]]),\n",
       "  array([[-167.78164225]]),\n",
       "  array([[-167.78171819]]),\n",
       "  array([[-167.78179414]]),\n",
       "  array([[-167.78187009]]),\n",
       "  array([[-167.78194604]]),\n",
       "  array([[-167.78202199]]),\n",
       "  array([[-167.78209793]]),\n",
       "  array([[-167.78217388]]),\n",
       "  array([[-167.78224983]]),\n",
       "  array([[-167.78232578]]),\n",
       "  array([[-167.78240172]]),\n",
       "  array([[-167.78247767]]),\n",
       "  array([[-167.78255362]]),\n",
       "  array([[-167.78262957]]),\n",
       "  array([[-167.78270552]]),\n",
       "  array([[-167.78278146]]),\n",
       "  array([[-167.78285741]]),\n",
       "  array([[-167.78293336]]),\n",
       "  array([[-167.78300931]]),\n",
       "  array([[-167.78308526]]),\n",
       "  array([[-167.7831612]]),\n",
       "  array([[-167.78323715]]),\n",
       "  array([[-167.7833131]]),\n",
       "  array([[-167.78338905]]),\n",
       "  array([[-167.783465]]),\n",
       "  array([[-167.78354094]]),\n",
       "  array([[-167.78361689]]),\n",
       "  array([[-167.78369284]]),\n",
       "  array([[-167.78376879]]),\n",
       "  array([[-167.78384473]]),\n",
       "  array([[-167.78392068]]),\n",
       "  array([[-167.78399663]]),\n",
       "  array([[-167.78407258]]),\n",
       "  array([[-167.78414853]]),\n",
       "  array([[-167.78422447]]),\n",
       "  array([[-167.78430042]]),\n",
       "  array([[-167.78437637]]),\n",
       "  array([[-167.78445232]]),\n",
       "  array([[-167.78452827]]),\n",
       "  array([[-167.78460421]]),\n",
       "  array([[-167.78468016]]),\n",
       "  array([[-167.78475611]]),\n",
       "  array([[-167.78483206]]),\n",
       "  array([[-167.78490801]]),\n",
       "  array([[-167.78498395]]),\n",
       "  array([[-167.7850599]]),\n",
       "  array([[-167.78513585]]),\n",
       "  array([[-167.7852118]]),\n",
       "  array([[-167.78528774]]),\n",
       "  array([[-167.78536369]]),\n",
       "  array([[-167.78543964]]),\n",
       "  array([[-167.78551559]]),\n",
       "  array([[-167.78559154]]),\n",
       "  array([[-167.78566748]]),\n",
       "  array([[-167.78574343]]),\n",
       "  array([[-167.78581938]]),\n",
       "  array([[-167.78589533]]),\n",
       "  array([[-167.78597128]]),\n",
       "  array([[-167.78604722]]),\n",
       "  array([[-167.78612317]]),\n",
       "  array([[-167.78619912]]),\n",
       "  array([[-167.78627507]]),\n",
       "  array([[-167.78635102]]),\n",
       "  array([[-167.78642696]]),\n",
       "  array([[-167.78650291]]),\n",
       "  array([[-167.78657886]]),\n",
       "  array([[-167.78665481]]),\n",
       "  array([[-167.78673076]]),\n",
       "  array([[-167.7868067]]),\n",
       "  array([[-167.78688265]]),\n",
       "  array([[-167.7869586]]),\n",
       "  array([[-167.78703455]]),\n",
       "  array([[-167.78711049]]),\n",
       "  array([[-167.78718644]]),\n",
       "  array([[-167.78726239]]),\n",
       "  array([[-167.78733834]]),\n",
       "  array([[-167.78741429]]),\n",
       "  array([[-167.78749023]]),\n",
       "  array([[-167.78756618]]),\n",
       "  array([[-167.78764213]]),\n",
       "  array([[-167.78771808]]),\n",
       "  array([[-167.78779403]]),\n",
       "  array([[-167.78786997]]),\n",
       "  array([[-167.78794592]]),\n",
       "  array([[-167.78802187]]),\n",
       "  array([[-167.78809782]]),\n",
       "  array([[-167.78817377]]),\n",
       "  array([[-167.78824971]]),\n",
       "  array([[-167.78832566]]),\n",
       "  array([[-167.78840161]]),\n",
       "  array([[-167.78847756]]),\n",
       "  array([[-167.7885535]]),\n",
       "  array([[-167.78862945]]),\n",
       "  array([[-167.7887054]]),\n",
       "  array([[-167.78878135]]),\n",
       "  array([[-167.7888573]]),\n",
       "  array([[-167.78893324]]),\n",
       "  array([[-167.78900919]]),\n",
       "  array([[-167.78908514]]),\n",
       "  array([[-167.78916109]]),\n",
       "  array([[-167.78923704]]),\n",
       "  array([[-167.78931298]]),\n",
       "  array([[-167.78938893]]),\n",
       "  array([[-167.78946488]]),\n",
       "  array([[-167.78954083]]),\n",
       "  array([[-167.78961678]]),\n",
       "  array([[-167.78969272]]),\n",
       "  array([[-167.78976867]]),\n",
       "  array([[-167.78984462]]),\n",
       "  array([[-167.78992057]]),\n",
       "  array([[-167.78999652]]),\n",
       "  array([[-167.79007246]]),\n",
       "  array([[-167.79014841]]),\n",
       "  array([[-167.79022436]]),\n",
       "  array([[-167.79030031]]),\n",
       "  array([[-167.79037625]]),\n",
       "  array([[-167.7904522]]),\n",
       "  array([[-167.79052815]]),\n",
       "  array([[-167.7906041]]),\n",
       "  array([[-167.79068005]]),\n",
       "  array([[-167.79075599]]),\n",
       "  array([[-167.79083194]]),\n",
       "  array([[-167.79090789]]),\n",
       "  array([[-167.79098384]]),\n",
       "  array([[-167.79105979]]),\n",
       "  array([[-167.79113573]]),\n",
       "  array([[-167.79121168]]),\n",
       "  array([[-167.79128763]]),\n",
       "  array([[-167.79136358]]),\n",
       "  array([[-167.79143953]]),\n",
       "  array([[-167.79151547]]),\n",
       "  array([[-167.79159142]]),\n",
       "  array([[-167.79166737]]),\n",
       "  array([[-167.79174332]]),\n",
       "  array([[-167.79181926]]),\n",
       "  array([[-167.79189521]]),\n",
       "  array([[-167.79197116]]),\n",
       "  array([[-167.79204711]]),\n",
       "  array([[-167.79212306]]),\n",
       "  array([[-167.792199]]),\n",
       "  array([[-167.79227495]]),\n",
       "  array([[-167.7923509]]),\n",
       "  array([[-167.79242685]]),\n",
       "  array([[-167.7925028]]),\n",
       "  array([[-167.79257874]]),\n",
       "  array([[-167.79265469]]),\n",
       "  array([[-167.79273064]]),\n",
       "  array([[-167.79280659]]),\n",
       "  array([[-167.79288254]]),\n",
       "  array([[-167.79295848]]),\n",
       "  array([[-167.79303443]]),\n",
       "  array([[-167.79311038]]),\n",
       "  array([[-167.79318633]]),\n",
       "  array([[-167.79326227]]),\n",
       "  array([[-167.79333822]]),\n",
       "  array([[-167.79341417]]),\n",
       "  array([[-167.79349012]]),\n",
       "  array([[-167.79356607]]),\n",
       "  array([[-167.79364201]]),\n",
       "  array([[-167.79371796]]),\n",
       "  array([[-167.79379391]]),\n",
       "  array([[-167.79386986]]),\n",
       "  array([[-167.79394581]]),\n",
       "  array([[-167.79402175]]),\n",
       "  array([[-167.7940977]]),\n",
       "  array([[-167.79417365]]),\n",
       "  array([[-167.7942496]]),\n",
       "  array([[-167.79432555]]),\n",
       "  array([[-167.79440149]]),\n",
       "  array([[-167.79447744]]),\n",
       "  array([[-167.79455339]]),\n",
       "  array([[-167.79462934]]),\n",
       "  array([[-167.79470528]]),\n",
       "  array([[-167.79478123]]),\n",
       "  array([[-167.79485718]]),\n",
       "  array([[-167.79493313]]),\n",
       "  array([[-167.79500908]]),\n",
       "  array([[-167.79508502]]),\n",
       "  array([[-167.79516097]]),\n",
       "  array([[-167.79523692]]),\n",
       "  array([[-167.79531287]]),\n",
       "  array([[-167.79538882]]),\n",
       "  array([[-167.79546476]]),\n",
       "  array([[-167.79554071]]),\n",
       "  array([[-167.79561666]]),\n",
       "  array([[-167.79569261]]),\n",
       "  array([[-167.79576856]]),\n",
       "  array([[-167.7958445]]),\n",
       "  array([[-167.79592045]]),\n",
       "  array([[-167.7959964]]),\n",
       "  array([[-167.79607235]]),\n",
       "  array([[-167.79614829]]),\n",
       "  array([[-167.79622424]]),\n",
       "  array([[-167.79630019]]),\n",
       "  array([[-167.79637614]]),\n",
       "  array([[-167.79645209]]),\n",
       "  array([[-167.79652803]]),\n",
       "  array([[-167.79660398]]),\n",
       "  array([[-167.79667993]]),\n",
       "  array([[-167.79675588]]),\n",
       "  array([[-167.79683183]]),\n",
       "  array([[-167.79690777]]),\n",
       "  array([[-167.79698372]]),\n",
       "  array([[-167.79705967]]),\n",
       "  array([[-167.79713562]]),\n",
       "  array([[-167.79721157]]),\n",
       "  array([[-167.79728751]]),\n",
       "  array([[-167.79736346]]),\n",
       "  array([[-167.79743941]]),\n",
       "  array([[-167.79751536]]),\n",
       "  array([[-167.79759131]]),\n",
       "  array([[-167.79766725]]),\n",
       "  array([[-167.7977432]]),\n",
       "  array([[-167.79781915]]),\n",
       "  array([[-167.7978951]]),\n",
       "  array([[-167.79797104]]),\n",
       "  array([[-167.79804699]]),\n",
       "  array([[-167.79812294]]),\n",
       "  array([[-167.79819889]]),\n",
       "  array([[-167.79827484]]),\n",
       "  array([[-167.79835078]]),\n",
       "  array([[-167.79842673]]),\n",
       "  array([[-167.79850268]]),\n",
       "  array([[-167.79857863]]),\n",
       "  array([[-167.79865458]]),\n",
       "  array([[-167.79873052]]),\n",
       "  array([[-167.79880647]]),\n",
       "  array([[-167.79888242]]),\n",
       "  array([[-167.79895837]]),\n",
       "  array([[-167.79903432]]),\n",
       "  array([[-167.79911026]]),\n",
       "  array([[-167.79918621]]),\n",
       "  array([[-167.79926216]]),\n",
       "  array([[-167.79933811]]),\n",
       "  array([[-167.79941405]]),\n",
       "  array([[-167.79949]]),\n",
       "  array([[-167.79956595]]),\n",
       "  array([[-167.7996419]]),\n",
       "  array([[-167.79971785]]),\n",
       "  array([[-167.79979379]]),\n",
       "  array([[-167.79986974]]),\n",
       "  array([[-167.79994569]]),\n",
       "  array([[-167.80002164]]),\n",
       "  array([[-167.80009759]]),\n",
       "  array([[-167.80017353]]),\n",
       "  array([[-167.80024948]]),\n",
       "  array([[-167.80032543]]),\n",
       "  array([[-167.80040138]]),\n",
       "  array([[-167.80047733]]),\n",
       "  array([[-167.80055327]]),\n",
       "  array([[-167.80062922]]),\n",
       "  array([[-167.80070517]]),\n",
       "  array([[-167.80078112]]),\n",
       "  array([[-167.80085706]]),\n",
       "  array([[-167.80093301]]),\n",
       "  array([[-167.80100896]]),\n",
       "  array([[-167.80108491]]),\n",
       "  array([[-167.80116086]]),\n",
       "  array([[-167.8012368]]),\n",
       "  array([[-167.80131275]]),\n",
       "  array([[-167.8013887]]),\n",
       "  array([[-167.80146465]]),\n",
       "  array([[-167.8015406]]),\n",
       "  array([[-167.80161654]]),\n",
       "  array([[-167.80169249]]),\n",
       "  array([[-167.80176844]]),\n",
       "  array([[-167.80184439]]),\n",
       "  array([[-167.80192034]]),\n",
       "  array([[-167.80199628]]),\n",
       "  array([[-167.80207223]]),\n",
       "  array([[-167.80214818]]),\n",
       "  array([[-167.80222413]]),\n",
       "  array([[-167.80230007]]),\n",
       "  array([[-167.80237602]]),\n",
       "  array([[-167.80245197]]),\n",
       "  array([[-167.80252792]]),\n",
       "  array([[-167.80260387]]),\n",
       "  array([[-167.80267981]]),\n",
       "  array([[-167.80275576]]),\n",
       "  array([[-167.80283171]]),\n",
       "  array([[-167.80290766]]),\n",
       "  array([[-167.80298361]]),\n",
       "  array([[-167.80305955]]),\n",
       "  array([[-167.8031355]]),\n",
       "  array([[-167.80321145]]),\n",
       "  array([[-167.8032874]]),\n",
       "  array([[-167.80336335]]),\n",
       "  array([[-167.80343929]]),\n",
       "  array([[-167.80351524]]),\n",
       "  array([[-167.80359119]]),\n",
       "  array([[-167.80366714]]),\n",
       "  array([[-167.80374308]]),\n",
       "  array([[-167.80381903]]),\n",
       "  array([[-167.80389498]]),\n",
       "  array([[-167.80397093]]),\n",
       "  array([[-167.80404688]]),\n",
       "  array([[-167.80412282]]),\n",
       "  array([[-167.80419877]]),\n",
       "  array([[-167.80427472]]),\n",
       "  array([[-167.80435067]]),\n",
       "  array([[-167.80442662]]),\n",
       "  array([[-167.80450256]]),\n",
       "  array([[-167.80457851]]),\n",
       "  array([[-167.80465446]]),\n",
       "  array([[-167.80473041]]),\n",
       "  array([[-167.80480636]]),\n",
       "  array([[-167.8048823]]),\n",
       "  array([[-167.80495825]]),\n",
       "  array([[-167.8050342]]),\n",
       "  array([[-167.80511015]]),\n",
       "  array([[-167.80518609]]),\n",
       "  array([[-167.80526204]]),\n",
       "  array([[-167.80533799]]),\n",
       "  array([[-167.80541394]]),\n",
       "  array([[-167.80548989]]),\n",
       "  array([[-167.80556583]]),\n",
       "  array([[-167.80564178]]),\n",
       "  array([[-167.80571773]]),\n",
       "  array([[-167.80579368]]),\n",
       "  array([[-167.80586963]]),\n",
       "  array([[-167.80594557]]),\n",
       "  array([[-167.80602152]]),\n",
       "  array([[-167.80609747]]),\n",
       "  array([[-167.80617342]]),\n",
       "  array([[-167.80624937]]),\n",
       "  array([[-167.80632531]]),\n",
       "  array([[-167.80640126]]),\n",
       "  array([[-167.80647721]]),\n",
       "  array([[-167.80655316]]),\n",
       "  array([[-167.8066291]]),\n",
       "  array([[-167.80670505]]),\n",
       "  array([[-167.806781]]),\n",
       "  array([[-167.80685695]]),\n",
       "  array([[-167.8069329]]),\n",
       "  array([[-167.80700884]]),\n",
       "  array([[-167.80708479]]),\n",
       "  array([[-167.80716074]]),\n",
       "  array([[-167.80723669]]),\n",
       "  array([[-167.80731264]]),\n",
       "  array([[-167.80738858]]),\n",
       "  array([[-167.80746453]]),\n",
       "  array([[-167.80754048]]),\n",
       "  array([[-167.80761643]]),\n",
       "  array([[-167.80769238]]),\n",
       "  array([[-167.80776832]]),\n",
       "  array([[-167.80784427]]),\n",
       "  array([[-167.80792022]]),\n",
       "  array([[-167.80799617]]),\n",
       "  array([[-167.80807211]]),\n",
       "  array([[-167.80814806]]),\n",
       "  array([[-167.80822401]]),\n",
       "  array([[-167.80829996]]),\n",
       "  array([[-167.80837591]]),\n",
       "  array([[-167.80845185]]),\n",
       "  array([[-167.8085278]]),\n",
       "  array([[-167.80860375]]),\n",
       "  array([[-167.8086797]]),\n",
       "  array([[-167.80875565]]),\n",
       "  array([[-167.80883159]]),\n",
       "  array([[-167.80890754]]),\n",
       "  array([[-167.80898349]]),\n",
       "  array([[-167.80905944]]),\n",
       "  array([[-167.80913539]]),\n",
       "  array([[-167.80921133]]),\n",
       "  array([[-167.80928728]]),\n",
       "  array([[-167.80936323]]),\n",
       "  array([[-167.80943918]]),\n",
       "  array([[-167.80951512]]),\n",
       "  array([[-167.80959107]]),\n",
       "  array([[-167.80966702]]),\n",
       "  array([[-167.80974297]]),\n",
       "  array([[-167.80981892]]),\n",
       "  array([[-167.80989486]]),\n",
       "  array([[-167.80997081]]),\n",
       "  array([[-167.81004676]]),\n",
       "  array([[-167.81012271]]),\n",
       "  array([[-167.81019866]]),\n",
       "  array([[-167.8102746]]),\n",
       "  array([[-167.81035055]]),\n",
       "  array([[-167.8104265]]),\n",
       "  array([[-167.81050245]]),\n",
       "  array([[-167.81057839]]),\n",
       "  array([[-167.81065434]]),\n",
       "  array([[-167.81073029]]),\n",
       "  array([[-167.81080624]]),\n",
       "  array([[-167.81088219]]),\n",
       "  array([[-167.81095813]]),\n",
       "  array([[-167.81103408]]),\n",
       "  array([[-167.81111003]]),\n",
       "  array([[-167.81118598]]),\n",
       "  array([[-167.81126193]]),\n",
       "  array([[-167.81133787]]),\n",
       "  array([[-167.81141382]]),\n",
       "  array([[-167.81148977]]),\n",
       "  array([[-167.81156572]]),\n",
       "  array([[-167.81164167]]),\n",
       "  array([[-167.81171761]]),\n",
       "  array([[-167.81179356]]),\n",
       "  array([[-167.81186951]]),\n",
       "  array([[-167.81194546]]),\n",
       "  array([[-167.8120214]]),\n",
       "  array([[-167.81209735]]),\n",
       "  array([[-167.8121733]]),\n",
       "  array([[-167.81224925]]),\n",
       "  array([[-167.8123252]]),\n",
       "  array([[-167.81240114]]),\n",
       "  array([[-167.81247709]]),\n",
       "  array([[-167.81255304]]),\n",
       "  array([[-167.81262899]]),\n",
       "  array([[-167.81270494]]),\n",
       "  array([[-167.81278088]]),\n",
       "  array([[-167.81285683]]),\n",
       "  array([[-167.81293278]]),\n",
       "  array([[-167.81300873]]),\n",
       "  array([[-167.81308468]]),\n",
       "  array([[-167.81316062]]),\n",
       "  array([[-167.81323657]]),\n",
       "  array([[-167.81331252]]),\n",
       "  array([[-167.81338847]]),\n",
       "  array([[-167.81346441]]),\n",
       "  array([[-167.81354036]]),\n",
       "  array([[-167.81361631]]),\n",
       "  array([[-167.81369226]]),\n",
       "  array([[-167.81376821]]),\n",
       "  array([[-167.81384415]]),\n",
       "  array([[-167.8139201]]),\n",
       "  array([[-167.81399605]]),\n",
       "  array([[-167.814072]]),\n",
       "  array([[-167.81414795]]),\n",
       "  array([[-167.81422389]]),\n",
       "  array([[-167.81429984]]),\n",
       "  array([[-167.81437579]]),\n",
       "  array([[-167.81445174]]),\n",
       "  array([[-167.81452769]]),\n",
       "  array([[-167.81460363]]),\n",
       "  array([[-167.81467958]]),\n",
       "  array([[-167.81475553]]),\n",
       "  array([[-167.81483148]]),\n",
       "  array([[-167.81490742]]),\n",
       "  array([[-167.81498337]]),\n",
       "  array([[-167.81505932]]),\n",
       "  array([[-167.81513527]]),\n",
       "  array([[-167.81521122]]),\n",
       "  array([[-167.81528716]]),\n",
       "  array([[-167.81536311]]),\n",
       "  array([[-167.81543906]]),\n",
       "  array([[-167.81551501]]),\n",
       "  array([[-167.81559096]]),\n",
       "  array([[-167.8156669]]),\n",
       "  array([[-167.81574285]]),\n",
       "  array([[-167.8158188]]),\n",
       "  array([[-167.81589475]]),\n",
       "  array([[-167.81597069]]),\n",
       "  array([[-167.81604664]]),\n",
       "  array([[-167.81612259]]),\n",
       "  array([[-167.81619854]]),\n",
       "  array([[-167.81627449]]),\n",
       "  array([[-167.81635043]]),\n",
       "  array([[-167.81642638]]),\n",
       "  array([[-167.81650233]]),\n",
       "  array([[-167.81657828]]),\n",
       "  array([[-167.81665423]]),\n",
       "  array([[-167.81673017]]),\n",
       "  array([[-167.81680612]]),\n",
       "  array([[-167.81688207]]),\n",
       "  array([[-167.81695802]]),\n",
       "  array([[-167.81703397]]),\n",
       "  array([[-167.81710991]]),\n",
       "  array([[-167.81718586]]),\n",
       "  array([[-167.81726181]]),\n",
       "  array([[-167.81733776]]),\n",
       "  array([[-167.8174137]]),\n",
       "  array([[-167.81748965]]),\n",
       "  array([[-167.8175656]]),\n",
       "  ...])"
      ]
     },
     "execution_count": 28,
     "metadata": {},
     "output_type": "execute_result"
    }
   ],
   "source": [
    "learning_rate = 0.0000001\n",
    "num_iters = 100000\n",
    "w, log_likelihood_values = gradient_ascent(X_train_1, y_2d_train, learning_rate, num_iters)\n",
    "w, log_likelihood_values"
   ]
  },
  {
   "cell_type": "markdown",
   "id": "11f9e690-255b-4a45-b452-eb04da8ff0dc",
   "metadata": {},
   "source": [
    "#### 3.1.7. Predict the Class Label"
   ]
  },
  {
   "cell_type": "code",
   "execution_count": 29,
   "id": "871b08c6-5c6a-4098-8138-19d849ef4a71",
   "metadata": {},
   "outputs": [],
   "source": [
    "def predict_class(X, w, t = 0.5):\n",
    "    p = hypothesis(X, w)\n",
    "    p_class = np.zeros(p.shape)  \n",
    "    p_class[p >= t] = 1\n",
    "    return p_class"
   ]
  },
  {
   "cell_type": "markdown",
   "id": "8fed4aff-b9b7-4c0d-a4d6-f3683b33250b",
   "metadata": {},
   "source": [
    "#### 3.1.8. Evaluating our hypothesis using the test dataset"
   ]
  },
  {
   "cell_type": "code",
   "execution_count": 30,
   "id": "f3aa033c-1f66-4162-a224-786273d3dd5e",
   "metadata": {
    "scrolled": true
   },
   "outputs": [],
   "source": [
    "t = 0.5\n",
    "# First augment the test dataset with a column of ones.\n",
    "ones = np.ones((X_test.shape[0], 1))\n",
    "X_test_1 = np.hstack((ones, X_test))\n",
    "# Now predict the label of each example in your test set\n",
    "y_hat = predict_class(X_test_1, w, t)"
   ]
  },
  {
   "cell_type": "code",
   "execution_count": 31,
   "id": "5491cf69-6202-4e3a-9af3-08bb2bd92f67",
   "metadata": {},
   "outputs": [
    {
     "name": "stderr",
     "output_type": "stream",
     "text": [
      "c:\\Users\\vnmt1\\anaconda3\\Lib\\site-packages\\statsmodels\\genmod\\families\\links.py:198: RuntimeWarning: overflow encountered in exp\n",
      "  t = np.exp(-z)\n",
      "c:\\Users\\vnmt1\\anaconda3\\Lib\\site-packages\\statsmodels\\genmod\\generalized_linear_model.py:1257: PerfectSeparationWarning: Perfect separation or prediction detected, parameter may not be identified\n",
      "  warnings.warn(msg, category=PerfectSeparationWarning)\n",
      "c:\\Users\\vnmt1\\anaconda3\\Lib\\site-packages\\statsmodels\\genmod\\generalized_linear_model.py:1257: PerfectSeparationWarning: Perfect separation or prediction detected, parameter may not be identified\n",
      "  warnings.warn(msg, category=PerfectSeparationWarning)\n",
      "c:\\Users\\vnmt1\\anaconda3\\Lib\\site-packages\\statsmodels\\genmod\\generalized_linear_model.py:1257: PerfectSeparationWarning: Perfect separation or prediction detected, parameter may not be identified\n",
      "  warnings.warn(msg, category=PerfectSeparationWarning)\n"
     ]
    },
    {
     "data": {
      "text/plain": [
       "<Axes: >"
      ]
     },
     "execution_count": 31,
     "metadata": {},
     "output_type": "execute_result"
    },
    {
     "data": {
      "image/png": "[encoded data removed]",
      "text/plain": [
       "<Figure size 640x480 with 1 Axes>"
      ]
     },
     "metadata": {},
     "output_type": "display_data"
    }
   ],
   "source": [
    "sns.regplot(x=np.dot(X_test_1, w), y=y_hat, data=data, logistic=True, ci=None)"
   ]
  },
  {
   "cell_type": "markdown",
   "id": "23b7c708-2366-443e-bb88-dc9fed246522",
   "metadata": {},
   "source": [
    "#### 3.1.9. Precision, Recall and F1 Scores"
   ]
  },
  {
   "cell_type": "markdown",
   "id": "33722cdc-0cf3-4984-8e65-186ed431bea6",
   "metadata": {},
   "source": [
    "##### 3.1.9.1. Precision and Recall"
   ]
  },
  {
   "cell_type": "code",
   "execution_count": 32,
   "id": "3a2a5dda",
   "metadata": {},
   "outputs": [],
   "source": [
    "def precision_recall(y_hat, y):\n",
    "    \n",
    "    # Calculate false positive and false negative\n",
    "    # HINT: if done correctly, false_pos should be 1 and false_neg should be 1\n",
    "    false_pos = np.count_nonzero((y - y_hat) < 0)\n",
    "    false_neg = np.count_nonzero((y - y_hat) > 0)\n",
    "\n",
    "    # Calculate true positive and true negatives\n",
    "    # HINT: if done correctly, true_pos should be 88\n",
    "    true_pos = np.count_nonzero((y * y_hat) == 1)\n",
    "\n",
    "    precision = true_pos / (true_pos + false_pos)\n",
    "    recall = true_pos / (true_pos + false_neg)\n",
    "    return precision,recall"
   ]
  },
  {
   "cell_type": "code",
   "execution_count": 33,
   "id": "958c2237-8b0b-442b-9b0c-205a4990e76d",
   "metadata": {},
   "outputs": [],
   "source": [
    "prec, rec = precision_recall(y_hat, y_2d_test)"
   ]
  },
  {
   "cell_type": "markdown",
   "id": "43053fac-395d-49ca-a530-af0fdb22779d",
   "metadata": {},
   "source": [
    "##### 3.1.9.2. F1"
   ]
  },
  {
   "cell_type": "code",
   "execution_count": 34,
   "id": "c95fc3e2-67c5-4304-95da-633cc7bd5f81",
   "metadata": {},
   "outputs": [],
   "source": [
    "def f1(precision, recall):\n",
    "    if precision + recall > 0:\n",
    "        return 2 * (precision * recall) / (precision + recall)\n",
    "    return 0"
   ]
  },
  {
   "cell_type": "code",
   "execution_count": 35,
   "id": "d8f8e4f6-f71e-4965-89c0-7aaa88f73dcf",
   "metadata": {},
   "outputs": [
    {
     "name": "stdout",
     "output_type": "stream",
     "text": [
      "Precision:  0.875\n",
      "Recall:  0.875\n",
      "F1 Score:  0.875\n"
     ]
    }
   ],
   "source": [
    "f1_score = f1(prec, rec)\n",
    "print('Precision: ', prec)\n",
    "print('Recall: ', rec)\n",
    "print('F1 Score: ', f1_score)"
   ]
  },
  {
   "cell_type": "markdown",
   "id": "08249b77-636a-4773-8997-59d748832da8",
   "metadata": {},
   "source": [
    "#### Accuracy"
   ]
  },
  {
   "cell_type": "code",
   "execution_count": 36,
   "id": "c53e9e8f-dfa0-4e25-86c2-cefddd8e72f5",
   "metadata": {},
   "outputs": [],
   "source": [
    "def accuracy(y_hat, y):\n",
    "    correct = np.count_nonzero((y == y_hat))\n",
    "    return correct / y.shape[0]"
   ]
  },
  {
   "cell_type": "code",
   "execution_count": 37,
   "id": "24349782-b4a5-4fbe-84e7-1d02a58fa7ad",
   "metadata": {},
   "outputs": [
    {
     "name": "stdout",
     "output_type": "stream",
     "text": [
      "Accuracy:  0.8688524590163934\n"
     ]
    }
   ],
   "source": [
    "acc = accuracy(y_hat, y_2d_test)\n",
    "print('Accuracy: ', acc)"
   ]
  },
  {
   "cell_type": "markdown",
   "id": "3937e77b-4a25-4c03-96a6-f0e225488fab",
   "metadata": {},
   "source": [
    "##### 3.1.9.3. Confusion Matrix"
   ]
  },
  {
   "cell_type": "code",
   "execution_count": 38,
   "id": "ccaeeab0-941b-45a1-a820-18ccc185a4db",
   "metadata": {
    "scrolled": true
   },
   "outputs": [
    {
     "data": {
      "image/png": "[encoded data removed]",
      "text/plain": [
       "<Figure size 640x480 with 2 Axes>"
      ]
     },
     "metadata": {},
     "output_type": "display_data"
    }
   ],
   "source": [
    "cm = metrics.confusion_matrix(y_2d_test, y_hat)\n",
    "cm_display = metrics.ConfusionMatrixDisplay(confusion_matrix = cm, display_labels = [False, True])\n",
    "cm_display.plot()\n",
    "plt.show()"
   ]
  },
  {
   "cell_type": "markdown",
   "id": "208b1c5c-3aeb-4b3e-a0cf-0ec7d055ea73",
   "metadata": {},
   "source": [
    "### **3.2. Adding L1 Regularization**"
   ]
  },
  {
   "cell_type": "markdown",
   "id": "abe0ed0d",
   "metadata": {},
   "source": [
    "#### Sklearn's implementation of Logistic regression"
   ]
  },
  {
   "cell_type": "code",
   "execution_count": 39,
   "id": "9b4fffc1",
   "metadata": {},
   "outputs": [],
   "source": [
    "from sklearn import linear_model\n",
    "logreg = linear_model.LogisticRegression(penalty=None)\n",
    "\n",
    "# Fit the model\n",
    "logreg.fit(X_train, y_train)\n",
    "\n",
    "w_logreg = logreg.coef_\n",
    "intercept_logreg = logreg.intercept_"
   ]
  },
  {
   "cell_type": "markdown",
   "id": "9e7f315e",
   "metadata": {},
   "source": [
    "##### Performance measure: Accuracy"
   ]
  },
  {
   "cell_type": "code",
   "execution_count": 40,
   "id": "80ed31f3",
   "metadata": {},
   "outputs": [
    {
     "name": "stdout",
     "output_type": "stream",
     "text": [
      "Accuracy on training data = 0.852459\n"
     ]
    }
   ],
   "source": [
    "# Find the predicted values on test set (X_test not X_test_1) using logreg.predict\n",
    "y_hat_logreg = logreg.predict(X_test)\n",
    "\n",
    "# Find the accuracy achieved on test set using logreg.score and y_test \n",
    "acc_logreg = logreg.score(X_test, y_test)\n",
    "\n",
    "print(\"Accuracy on training data = %f\" % acc_logreg)"
   ]
  },
  {
   "cell_type": "markdown",
   "id": "1e686e7d",
   "metadata": {},
   "source": [
    "##### Performance Metrics: precision, recall, F1 score"
   ]
  },
  {
   "cell_type": "code",
   "execution_count": 41,
   "id": "18a16ca8",
   "metadata": {},
   "outputs": [
    {
     "name": "stdout",
     "output_type": "stream",
     "text": [
      "Precision: [0.83333333 0.87096774]\n",
      "Recall:  [0.86206897 0.84375   ]\n",
      "F1 Score:  [0.84745763 0.85714286]\n"
     ]
    }
   ],
   "source": [
    "from sklearn.metrics import precision_recall_fscore_support\n",
    "prec, recal, fscore, sup = precision_recall_fscore_support(y_test, y_hat_logreg)\n",
    "print('Precision:', prec)\n",
    "print('Recall: ', recal)\n",
    "print('F1 Score: ', fscore)"
   ]
  },
  {
   "cell_type": "code",
   "execution_count": 42,
   "id": "8564b1ff-c9bc-4af9-88d4-2dca34535dea",
   "metadata": {},
   "outputs": [
    {
     "name": "stdout",
     "output_type": "stream",
     "text": [
      "Using Lasso Regression\n",
      "Reg - Optimal λ: 0.3593813663804626\n",
      "Reg - Accuracy on validation data = 0.852459\n",
      "Reg - Accuracy on training data = 0.863636\n",
      "No reg - Accuracy on validation data = 0.852459\n",
      "No reg - Accuracy on training data = 0.863636\n"
     ]
    }
   ],
   "source": [
    "from sklearn.model_selection import KFold\n",
    "from sklearn.linear_model import LogisticRegressionCV\n",
    "\n",
    "\n",
    "# Initialize LogisticRegressionCV with 5-fold cross-validation and Lasso regularization\n",
    "logreg_cv_l1 = LogisticRegressionCV(penalty='l1', solver='liblinear', cv=5)\n",
    "\n",
    "# Fit the model to the training data\n",
    "logreg_cv_l1.fit(X_train, y_train)\n",
    "w_logreg_cv_l1 = logreg_cv_l1.coef_\n",
    "intercept_logreg_cv_l1 = logreg_cv_l1.intercept_\n",
    "\n",
    "# Get the optimal λ value\n",
    "optimal_lambda_l1 = 1/ (logreg_cv_l1.C_[0])\n",
    "y_hat_logreg_cv_l1 = logreg_cv_l1.predict(X_test)\n",
    "# Find the accuracy achieved on test set using logreg.score and y_test \n",
    "acc_valid_logreg_cv_l1 = logreg_cv_l1.score(X_test, y_test)\n",
    "acc_train_logreg_cv_l1 = logreg_cv_l1.score(X_train, y_train)\n",
    "acc_valid_logreg = logreg.score(X_test, y_test)\n",
    "acc_train_logregv = logreg.score(X_train, y_train)\n",
    "\n",
    "print(\"Using Lasso Regression\")\n",
    "print(\"Reg - Optimal λ:\", optimal_lambda_l1)\n",
    "print(\"Reg - Accuracy on validation data = %f\" % acc_valid_logreg_cv_l1)\n",
    "print(\"Reg - Accuracy on training data = %f\" % acc_train_logreg_cv_l1)\n",
    "print(\"No reg - Accuracy on validation data = %f\" % acc_valid_logreg)\n",
    "print(\"No reg - Accuracy on training data = %f\" % acc_train_logregv)"
   ]
  },
  {
   "cell_type": "markdown",
   "id": "7428348d-0e7f-4508-ab4f-906444cc757c",
   "metadata": {},
   "source": [
    "### **3.3. Adding L2 Regularization**"
   ]
  },
  {
   "cell_type": "code",
   "execution_count": 43,
   "id": "89a7fd1e-ebe5-4904-b1c2-d8251a538b79",
   "metadata": {},
   "outputs": [
    {
     "name": "stdout",
     "output_type": "stream",
     "text": [
      "Using Ridge Regression\n",
      "Reg - Optimal λ: 0.3593813663804626\n",
      "Reg - Accuracy on validation data = 0.852459\n",
      "Reg - Accuracy on training data = 0.863636\n",
      "No reg - Accuracy on validation data = 0.852459\n",
      "No reg - Accuracy on training data = 0.863636\n"
     ]
    }
   ],
   "source": [
    "# Initialize LogisticRegressionCV with 5-fold cross-validation and ridge regularization\n",
    "logreg_cv_l2 = LogisticRegressionCV(penalty='l2', cv=5)\n",
    "\n",
    "# Fit the model to the training data\n",
    "logreg_cv_l2.fit(X_train, y_train)\n",
    "w_logreg_cv_l2 = logreg_cv_l2.coef_\n",
    "intercept_logreg_cv_l2 = logreg_cv_l2.intercept_\n",
    "\n",
    "# Get the optimal λ value\n",
    "optimal_lambda_l2 = 1/ (logreg_cv_l2.C_[0])\n",
    "y_hat_logreg_cv_l2 = logreg_cv_l2.predict(X_test)\n",
    "# Find the accuracy achieved on test set using logreg.score and y_test \n",
    "acc_valid_logreg_cv_l2 = logreg_cv_l2.score(X_test, y_test)\n",
    "acc_train_logreg_cv_l2 = logreg_cv_l2.score(X_train, y_train)\n",
    "\n",
    "print(\"Using Ridge Regression\")\n",
    "print(\"Reg - Optimal λ:\", optimal_lambda_l2)\n",
    "print(\"Reg - Accuracy on validation data = %f\" % acc_valid_logreg_cv_l2)\n",
    "print(\"Reg - Accuracy on training data = %f\" % acc_train_logreg_cv_l2)\n",
    "print(\"No reg - Accuracy on validation data = %f\" % acc_valid_logreg)\n",
    "print(\"No reg - Accuracy on training data = %f\" % acc_train_logregv)"
   ]
  },
  {
   "cell_type": "markdown",
   "id": "5bdf03d2",
   "metadata": {},
   "source": [
    "Both Lasso (L1 regularization) and Ridge (L2 regularization) regression models yield the same optimal λ value and accuracy scores for both validation and training datasets.\n",
    "\n",
    "They both don't have any effect on the accuracy versus when there isn't regularization."
   ]
  },
  {
   "cell_type": "markdown",
   "id": "fd0c8195",
   "metadata": {},
   "source": [
    "## Comparision between with vs. without Regularization"
   ]
  },
  {
   "cell_type": "markdown",
   "id": "56ee57e8",
   "metadata": {},
   "source": [
    "### Plotting confusion matrix"
   ]
  },
  {
   "cell_type": "code",
   "execution_count": 44,
   "id": "5f2db1f7-89b1-495f-8450-7e7b39845269",
   "metadata": {},
   "outputs": [
    {
     "data": {
      "image/png": "[encoded data removed]",
      "text/plain": [
       "<Figure size 1200x600 with 6 Axes>"
      ]
     },
     "metadata": {},
     "output_type": "display_data"
    }
   ],
   "source": [
    "from sklearn.metrics import confusion_matrix, ConfusionMatrixDisplay\n",
    "\n",
    "# Plotting confusion matrix\n",
    "cm_l1 = confusion_matrix(y_test, y_hat_logreg_cv_l1)\n",
    "cm_l2 = confusion_matrix(y_test, y_hat_logreg_cv_l2)\n",
    "\n",
    "disp_noreg = ConfusionMatrixDisplay(confusion_matrix=cm)\n",
    "disp_l1 = ConfusionMatrixDisplay(confusion_matrix=cm_l1)\n",
    "disp_l2 = ConfusionMatrixDisplay(confusion_matrix=cm_l2)\n",
    "\n",
    "fig, ax = plt.subplots(1, 3, figsize=(12, 6))\n",
    "disp_l1.plot(ax=ax[0])\n",
    "ax[0].set_title('Confusion Matrix (L1 Regularization)')\n",
    "disp_l2.plot(ax=ax[1])\n",
    "ax[1].set_title('Confusion Matrix (L2 Regularization)')\n",
    "disp_noreg.plot(ax=ax[2])\n",
    "ax[2].set_title('Confusion Matrix without Regularization')\n",
    "plt.show()"
   ]
  },
  {
   "cell_type": "markdown",
   "id": "5149fcdc-8128-4186-8d6a-53e35b3093ae",
   "metadata": {},
   "source": [
    "### Feature Transformation: Polynomial"
   ]
  },
  {
   "cell_type": "markdown",
   "id": "0dedaa59-07d7-4d66-86ab-cb82482da986",
   "metadata": {},
   "source": [
    "#### Degree of 2"
   ]
  },
  {
   "cell_type": "code",
   "execution_count": 45,
   "id": "b6d6d0c7-ea0c-4da4-bc19-a4736b97cab4",
   "metadata": {},
   "outputs": [
    {
     "name": "stdout",
     "output_type": "stream",
     "text": [
      "X_poly_2.shape:  (242, 120)\n"
     ]
    }
   ],
   "source": [
    "from sklearn.preprocessing import PolynomialFeatures\n",
    "from sklearn.linear_model import LinearRegression\n",
    "poly_reg_2 = PolynomialFeatures(degree=2)\n",
    "X_poly_2 = poly_reg_2.fit_transform(X_train_1)\n",
    "print(\"X_poly_2.shape: \", X_poly_2.shape)"
   ]
  },
  {
   "cell_type": "code",
   "execution_count": 46,
   "id": "8949212a-2edb-4cd9-9a20-410af9e6a387",
   "metadata": {},
   "outputs": [],
   "source": [
    "w_init_poly_2 = np.zeros((X_poly_2.shape[1], 1))"
   ]
  },
  {
   "cell_type": "code",
   "execution_count": 47,
   "id": "7e94223a-b3b5-4da5-8513-0b7512630b47",
   "metadata": {},
   "outputs": [
    {
     "data": {
      "text/plain": [
       "(242, 1)"
      ]
     },
     "execution_count": 47,
     "metadata": {},
     "output_type": "execute_result"
    }
   ],
   "source": [
    "y_hat_poly_2 = hypothesis(X_poly_2, w_init_poly_2)\n",
    "y_hat_poly_2.shape"
   ]
  },
  {
   "cell_type": "code",
   "execution_count": 48,
   "id": "45bd33fb-5532-4079-b99a-aedebdc2991f",
   "metadata": {},
   "outputs": [],
   "source": [
    "learning_rate = 0.0000001\n",
    "num_iters = 100000\n",
    "w_poly_2, log_likelihood_values_poly_2 = gradient_ascent(X_poly_2, y_2d_train, learning_rate, num_iters)"
   ]
  },
  {
   "cell_type": "code",
   "execution_count": 49,
   "id": "50d192be-2f24-444c-b796-6d8c7ecca47e",
   "metadata": {
    "scrolled": true
   },
   "outputs": [],
   "source": [
    "t = 0.5\n",
    "ones = np.ones((X_test.shape[0], 1))\n",
    "X_test_poly_2 = poly_reg_2.fit_transform(np.hstack((ones, X_test)))\n",
    "y_hat_poly_2 = predict_class(X_test_poly_2, w_poly_2, t)"
   ]
  },
  {
   "cell_type": "code",
   "execution_count": 50,
   "id": "21d009c9-a1e5-4cbc-859c-98821fd118e0",
   "metadata": {},
   "outputs": [
    {
     "name": "stderr",
     "output_type": "stream",
     "text": [
      "c:\\Users\\vnmt1\\anaconda3\\Lib\\site-packages\\statsmodels\\genmod\\generalized_linear_model.py:1257: PerfectSeparationWarning: Perfect separation or prediction detected, parameter may not be identified\n",
      "  warnings.warn(msg, category=PerfectSeparationWarning)\n",
      "c:\\Users\\vnmt1\\anaconda3\\Lib\\site-packages\\statsmodels\\genmod\\generalized_linear_model.py:1257: PerfectSeparationWarning: Perfect separation or prediction detected, parameter may not be identified\n",
      "  warnings.warn(msg, category=PerfectSeparationWarning)\n",
      "c:\\Users\\vnmt1\\anaconda3\\Lib\\site-packages\\statsmodels\\genmod\\generalized_linear_model.py:1257: PerfectSeparationWarning: Perfect separation or prediction detected, parameter may not be identified\n",
      "  warnings.warn(msg, category=PerfectSeparationWarning)\n"
     ]
    },
    {
     "data": {
      "text/plain": [
       "<Axes: >"
      ]
     },
     "execution_count": 50,
     "metadata": {},
     "output_type": "execute_result"
    },
    {
     "data": {
      "image/png": "[encoded data removed]",
      "text/plain": [
       "<Figure size 640x480 with 1 Axes>"
      ]
     },
     "metadata": {},
     "output_type": "display_data"
    }
   ],
   "source": [
    "sns.regplot(x=np.dot(X_test_poly_2, w_poly_2), y=y_hat_poly_2, data=data, logistic=True, ci=None)"
   ]
  },
  {
   "cell_type": "code",
   "execution_count": 51,
   "id": "21e64dab-0887-4d6c-b32c-4b33b6de52f8",
   "metadata": {},
   "outputs": [
    {
     "name": "stdout",
     "output_type": "stream",
     "text": [
      "Precision:  0.90625\n",
      "Recall:  0.90625\n",
      "F1 Score:  0.90625\n",
      "Accuracy:  0.9016393442622951\n"
     ]
    }
   ],
   "source": [
    "precision_poly_2, recall_poly_2 = precision_recall(y_hat_poly_2, y_2d_test)\n",
    "f1_poly_2 = f1(precision_poly_2, recall_poly_2)\n",
    "acc = accuracy(y_hat_poly_2, y_2d_test)\n",
    "print('Precision: ', precision_poly_2)\n",
    "print('Recall: ', recall_poly_2)\n",
    "print('F1 Score: ', f1_poly_2)\n",
    "print('Accuracy: ', acc)"
   ]
  },
  {
   "cell_type": "markdown",
   "id": "59322d0f-6c3b-41a0-9e3e-2081a6e77468",
   "metadata": {},
   "source": [
    "#### Degree of 5 Not Done"
   ]
  },
  {
   "cell_type": "code",
   "execution_count": 52,
   "id": "4a66751e-8f77-4ac2-845e-2307a6d7b12f",
   "metadata": {},
   "outputs": [
    {
     "name": "stdout",
     "output_type": "stream",
     "text": [
      "X_poly_5.shape:  (242, 11628)\n"
     ]
    }
   ],
   "source": [
    "poly_reg_5 = PolynomialFeatures(degree=5)\n",
    "X_poly_5 = poly_reg_5.fit_transform(X_train_1)\n",
    "print(\"X_poly_5.shape: \", X_poly_5.shape)"
   ]
  },
  {
   "cell_type": "code",
   "execution_count": 53,
   "id": "e56d2cd7-2c89-41a3-8591-34e1b4a375b8",
   "metadata": {},
   "outputs": [],
   "source": [
    "w_init_poly_5 = np.zeros((X_poly_5.shape[1], 1))"
   ]
  },
  {
   "cell_type": "code",
   "execution_count": 54,
   "id": "a8517f5c-df74-4277-a552-e143e579d57d",
   "metadata": {},
   "outputs": [
    {
     "data": {
      "text/plain": [
       "(242, 1)"
      ]
     },
     "execution_count": 54,
     "metadata": {},
     "output_type": "execute_result"
    }
   ],
   "source": [
    "y_hat_poly_5 = hypothesis(X_poly_5, w_init_poly_5)\n",
    "y_hat_poly_5.shape"
   ]
  },
  {
   "cell_type": "code",
   "execution_count": 55,
   "id": "d63e7c6b-4a44-4f5c-9837-372b9d7a6e4b",
   "metadata": {},
   "outputs": [
    {
     "ename": "SyntaxError",
     "evalue": "invalid syntax (3226453521.py, line 1)",
     "output_type": "error",
     "traceback": [
      "\u001b[1;36m  Cell \u001b[1;32mIn[55], line 1\u001b[1;36m\u001b[0m\n\u001b[1;33m    Very Slow\u001b[0m\n\u001b[1;37m         ^\u001b[0m\n\u001b[1;31mSyntaxError\u001b[0m\u001b[1;31m:\u001b[0m invalid syntax\n"
     ]
    }
   ],
   "source": [
    "Very Slow"
   ]
  },
  {
   "cell_type": "code",
   "execution_count": null,
   "id": "50e4470c-519f-48e2-92eb-71a38bb84bdc",
   "metadata": {},
   "outputs": [
    {
     "name": "stderr",
     "output_type": "stream",
     "text": [
      "/var/folders/bz/7dw6ttj96dd44tddjq_0fpv80000gn/T/ipykernel_48672/1264073204.py:3: RuntimeWarning: divide by zero encountered in log\n",
      "  return np.dot(y.T, np.log(1-y_hat)) + np.dot((1-y).T, np.log(y_hat))\n"
     ]
    }
   ],
   "source": [
    "learning_rate = 0.0000001\n",
    "num_iters = 100000\n",
    "w_poly_5, log_likelihood_values_poly_5 = gradient_ascent(X_poly_5, y_2d_train, learning_rate, num_iters)"
   ]
  },
  {
   "cell_type": "code",
   "execution_count": null,
   "id": "2e4e7d05-4d3c-4806-819b-848567d4e7d0",
   "metadata": {},
   "outputs": [],
   "source": [
    "sns.regplot(x=np.dot(X_test_poly_2, w_poly_2), y=y_hat_poly_2, data=data, logistic=True, ci=None)"
   ]
  }
 ],
 "metadata": {
  "kernelspec": {
   "display_name": "Python 3 (ipykernel)",
   "language": "python",
   "name": "python3"
  },
  "language_info": {
   "codemirror_mode": {
    "name": "ipython",
    "version": 3
   },
   "file_extension": ".py",
   "mimetype": "text/x-python",
   "name": "python",
   "nbconvert_exporter": "python",
   "pygments_lexer": "ipython3",
   "version": "3.11.5"
  }
 },
 "nbformat": 4,
 "nbformat_minor": 5
}
