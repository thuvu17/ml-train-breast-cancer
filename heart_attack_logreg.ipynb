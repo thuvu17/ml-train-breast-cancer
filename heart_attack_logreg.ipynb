{
 "cells": [
  {
   "cell_type": "markdown",
   "id": "c113eaee-456e-4816-a8e2-c3c0be7e3ddd",
   "metadata": {},
   "source": [
    "# **Logistic Regression**"
   ]
  },
  {
   "cell_type": "markdown",
   "id": "585b1d09-f9ea-48f9-bb2a-9ea445d62a8a",
   "metadata": {},
   "source": [
    "## Importing Libraries"
   ]
  },
  {
   "cell_type": "code",
   "execution_count": 9,
   "id": "75a035b7-a8cf-4504-8140-c6258665f36e",
   "metadata": {},
   "outputs": [],
   "source": [
    "import numpy as np\n",
    "import pandas as pd\n",
    "import matplotlib.pyplot as plt\n",
    "from sklearn import metrics as metrics\n",
    "from sklearn.model_selection import train_test_split "
   ]
  },
  {
   "cell_type": "code",
   "execution_count": 10,
   "id": "e2959e98-99f6-4f91-916e-9a1db0df2b65",
   "metadata": {},
   "outputs": [],
   "source": [
    "from sklearn.metrics import roc_curve, auc\n",
    "import seaborn as sns"
   ]
  },
  {
   "cell_type": "code",
   "execution_count": 11,
   "id": "e0683e83-d1b7-415b-aaee-ea76dc2817d2",
   "metadata": {},
   "outputs": [],
   "source": [
    "import numpy.random as r # We will randomly initialize our weights\n",
    "from sklearn.metrics import accuracy_score # "
   ]
  },
  {
   "cell_type": "markdown",
   "id": "721d9d1c-02cd-4aff-9b5a-29121ab0cf93",
   "metadata": {},
   "source": [
    "## Loading Dataset"
   ]
  },
  {
   "cell_type": "code",
   "execution_count": 12,
   "id": "36808efc-6ace-495e-83b6-49433c65b951",
   "metadata": {
    "scrolled": true
   },
   "outputs": [],
   "source": [
    "df = pd.read_csv('heart.csv')\n",
    "data = df.to_numpy()"
   ]
  },
  {
   "cell_type": "code",
   "execution_count": 13,
   "id": "2ffd4fe1-8bde-4be9-a825-d091293f8694",
   "metadata": {},
   "outputs": [
    {
     "data": {
      "text/plain": [
       "(303, 14)"
      ]
     },
     "execution_count": 13,
     "metadata": {},
     "output_type": "execute_result"
    }
   ],
   "source": [
    "df.shape"
   ]
  },
  {
   "cell_type": "code",
   "execution_count": 14,
   "id": "0e1fda04-ccb5-44d2-bbc7-40cd8c07c9c6",
   "metadata": {},
   "outputs": [
    {
     "data": {
      "text/html": [
       "<div>\n",
       "<style scoped>\n",
       "    .dataframe tbody tr th:only-of-type {\n",
       "        vertical-align: middle;\n",
       "    }\n",
       "\n",
       "    .dataframe tbody tr th {\n",
       "        vertical-align: top;\n",
       "    }\n",
       "\n",
       "    .dataframe thead th {\n",
       "        text-align: right;\n",
       "    }\n",
       "</style>\n",
       "<table border=\"1\" class=\"dataframe\">\n",
       "  <thead>\n",
       "    <tr style=\"text-align: right;\">\n",
       "      <th></th>\n",
       "      <th>age</th>\n",
       "      <th>sex</th>\n",
       "      <th>cp</th>\n",
       "      <th>trestbps</th>\n",
       "      <th>chol</th>\n",
       "      <th>fbs</th>\n",
       "      <th>restecg</th>\n",
       "      <th>thalach</th>\n",
       "      <th>exang</th>\n",
       "      <th>oldpeak</th>\n",
       "      <th>slope</th>\n",
       "      <th>ca</th>\n",
       "      <th>thal</th>\n",
       "      <th>target</th>\n",
       "    </tr>\n",
       "  </thead>\n",
       "  <tbody>\n",
       "    <tr>\n",
       "      <th>0</th>\n",
       "      <td>63</td>\n",
       "      <td>1</td>\n",
       "      <td>3</td>\n",
       "      <td>145</td>\n",
       "      <td>233</td>\n",
       "      <td>1</td>\n",
       "      <td>0</td>\n",
       "      <td>150</td>\n",
       "      <td>0</td>\n",
       "      <td>2.3</td>\n",
       "      <td>0</td>\n",
       "      <td>0</td>\n",
       "      <td>1</td>\n",
       "      <td>1</td>\n",
       "    </tr>\n",
       "    <tr>\n",
       "      <th>1</th>\n",
       "      <td>37</td>\n",
       "      <td>1</td>\n",
       "      <td>2</td>\n",
       "      <td>130</td>\n",
       "      <td>250</td>\n",
       "      <td>0</td>\n",
       "      <td>1</td>\n",
       "      <td>187</td>\n",
       "      <td>0</td>\n",
       "      <td>3.5</td>\n",
       "      <td>0</td>\n",
       "      <td>0</td>\n",
       "      <td>2</td>\n",
       "      <td>1</td>\n",
       "    </tr>\n",
       "    <tr>\n",
       "      <th>2</th>\n",
       "      <td>41</td>\n",
       "      <td>0</td>\n",
       "      <td>1</td>\n",
       "      <td>130</td>\n",
       "      <td>204</td>\n",
       "      <td>0</td>\n",
       "      <td>0</td>\n",
       "      <td>172</td>\n",
       "      <td>0</td>\n",
       "      <td>1.4</td>\n",
       "      <td>2</td>\n",
       "      <td>0</td>\n",
       "      <td>2</td>\n",
       "      <td>1</td>\n",
       "    </tr>\n",
       "    <tr>\n",
       "      <th>3</th>\n",
       "      <td>56</td>\n",
       "      <td>1</td>\n",
       "      <td>1</td>\n",
       "      <td>120</td>\n",
       "      <td>236</td>\n",
       "      <td>0</td>\n",
       "      <td>1</td>\n",
       "      <td>178</td>\n",
       "      <td>0</td>\n",
       "      <td>0.8</td>\n",
       "      <td>2</td>\n",
       "      <td>0</td>\n",
       "      <td>2</td>\n",
       "      <td>1</td>\n",
       "    </tr>\n",
       "    <tr>\n",
       "      <th>4</th>\n",
       "      <td>57</td>\n",
       "      <td>0</td>\n",
       "      <td>0</td>\n",
       "      <td>120</td>\n",
       "      <td>354</td>\n",
       "      <td>0</td>\n",
       "      <td>1</td>\n",
       "      <td>163</td>\n",
       "      <td>1</td>\n",
       "      <td>0.6</td>\n",
       "      <td>2</td>\n",
       "      <td>0</td>\n",
       "      <td>2</td>\n",
       "      <td>1</td>\n",
       "    </tr>\n",
       "  </tbody>\n",
       "</table>\n",
       "</div>"
      ],
      "text/plain": [
       "   age  sex  cp  trestbps  chol  fbs  restecg  thalach  exang  oldpeak  slope  \\\n",
       "0   63    1   3       145   233    1        0      150      0      2.3      0   \n",
       "1   37    1   2       130   250    0        1      187      0      3.5      0   \n",
       "2   41    0   1       130   204    0        0      172      0      1.4      2   \n",
       "3   56    1   1       120   236    0        1      178      0      0.8      2   \n",
       "4   57    0   0       120   354    0        1      163      1      0.6      2   \n",
       "\n",
       "   ca  thal  target  \n",
       "0   0     1       1  \n",
       "1   0     2       1  \n",
       "2   0     2       1  \n",
       "3   0     2       1  \n",
       "4   0     2       1  "
      ]
     },
     "execution_count": 14,
     "metadata": {},
     "output_type": "execute_result"
    }
   ],
   "source": [
    "df.head()"
   ]
  },
  {
   "cell_type": "code",
   "execution_count": 15,
   "id": "0e34cae0-488b-4138-9c40-b15c059cec40",
   "metadata": {
    "scrolled": true
   },
   "outputs": [],
   "source": [
    "X_data = data[:, :-1]\n",
    "y_data = data[:, -1]"
   ]
  },
  {
   "cell_type": "markdown",
   "id": "bf78842b-3858-4392-a360-bfb9ac4e96b4",
   "metadata": {},
   "source": [
    "## **1. Data Preprocessing**"
   ]
  },
  {
   "cell_type": "markdown",
   "id": "244a58ab-730d-4c1d-b53b-856636a19a5a",
   "metadata": {},
   "source": [
    "### 1.1. Splitting data\n",
    "We divide our dataset into a training set and a testing set:\n",
    "- **Training Set**: 80%\n",
    "- **Testing Set**: 20%\n",
    "\n",
    "Use the `train_test_split` function to achieve this split:\n",
    "- Assign results to: `X_train`, `X_test`, `y_train`, `y_test`\n",
    "- Set `random_state` to 42 to ensure reproducibility.\n"
   ]
  },
  {
   "cell_type": "code",
   "execution_count": 16,
   "id": "fef40450-a9a1-4882-a44e-52f2a4473262",
   "metadata": {},
   "outputs": [],
   "source": [
    "X_train, X_test, y_train, y_test = train_test_split(X_data, y_data, test_size=0.2, random_state=42)"
   ]
  },
  {
   "cell_type": "markdown",
   "id": "51d3c6a1-a695-4476-a175-bd2dd6351b66",
   "metadata": {},
   "source": [
    "### 1.2. Scaling the Data Using Standard Scaler"
   ]
  },
  {
   "cell_type": "code",
   "execution_count": 17,
   "id": "931d232a-c4ac-44d0-a6ba-3a57a368ddb3",
   "metadata": {},
   "outputs": [],
   "source": [
    "from sklearn import preprocessing\n",
    "\n",
    "scaler = preprocessing.StandardScaler() # Reshape `y_train` into 2D array, and `y_test` into 2D array \n",
    "y_2d_train = np.reshape(y_train, (-1, 1))\n",
    "y_2d_test = np.reshape(y_test, (-1, 1))\n",
    "X_train_unscaled = X_train\n",
    "X_test_unscaled = X_test\n",
    "X_train = scaler.fit_transform(X_train)\n",
    "X_test = scaler.transform(X_test)"
   ]
  },
  {
   "cell_type": "markdown",
   "id": "22cc689d-8a81-4e09-b292-23ac67f09bdd",
   "metadata": {},
   "source": [
    "### 1.3. Adding a Bias Term to Design Matrix $X_{\\text{train}}$ and $X_{\\text{test}}$\n",
    "To account for the intercept term in our logistic regression model, we augment our feature matrices with a column of ones. This is often referred to as the bias term.\n"
   ]
  },
  {
   "cell_type": "code",
   "execution_count": 18,
   "id": "15202d11-c8ee-4ccd-a25f-e1187fc08e33",
   "metadata": {
    "scrolled": true
   },
   "outputs": [],
   "source": [
    "ones = np.ones((X_train.shape[0], 1))\n",
    "X_train_1 = np.hstack((ones,X_train))"
   ]
  },
  {
   "cell_type": "markdown",
   "id": "3ef1f8af-7bf0-49c2-94c4-d0141b40977e",
   "metadata": {
    "scrolled": true
   },
   "source": [
    "## **Logistic Regression Functions**"
   ]
  },
  {
   "cell_type": "markdown",
   "id": "b5544c4e-e3ce-4a11-9b54-0c241b7da330",
   "metadata": {},
   "source": [
    "#### 3.1.3. Sigmoid(z)"
   ]
  },
  {
   "cell_type": "markdown",
   "id": "f34d1af0-5075-4261-bb61-6b441392079f",
   "metadata": {},
   "source": [
    "$$\\sigma (z) = \\frac{1}{1 + e^{-z}}$$"
   ]
  },
  {
   "cell_type": "code",
   "execution_count": 19,
   "id": "402bd2cb-194a-48de-9334-9b8beecc97cc",
   "metadata": {},
   "outputs": [],
   "source": [
    "def sigmoid(z):\n",
    "    return 1 / (1 + np.exp(-z))"
   ]
  },
  {
   "cell_type": "markdown",
   "id": "36935ebd-016c-45ec-9b82-586fd9540b78",
   "metadata": {},
   "source": [
    "#### 3.1.4. Prediction Function"
   ]
  },
  {
   "cell_type": "markdown",
   "id": "5e6d8874-50c4-4396-b7de-d0ba035bca7b",
   "metadata": {},
   "source": [
    "$$ h(x) = \\frac{1}{1 + e^{-(w_0+w_1x_1+w_2x_2+...+w_dx_d)}} $$"
   ]
  },
  {
   "cell_type": "markdown",
   "id": "4ad2733a-7b30-4730-86a0-7d999651928e",
   "metadata": {},
   "source": [
    "$$ h(x) = \\frac{1}{1 + e^{-Xw}} $$"
   ]
  },
  {
   "cell_type": "code",
   "execution_count": 20,
   "id": "5dfd935c-2046-49d9-a055-2f13af82702c",
   "metadata": {},
   "outputs": [],
   "source": [
    "def hypothesis(X, w):\n",
    "    return sigmoid(np.dot(X, w))"
   ]
  },
  {
   "cell_type": "markdown",
   "id": "aca3a60e-5fc9-4ca1-a747-d235b78bd510",
   "metadata": {},
   "source": [
    "#### 3.1.5. Log_likelihood Function"
   ]
  },
  {
   "cell_type": "markdown",
   "id": "d82f51e9-4128-4560-91fb-928aece8f334",
   "metadata": {},
   "source": [
    "$$ l(w) = \\sum_{i=1}^{N} y^{(i)}ln(h(x^{(i)})) + (1 - y^{(i)})ln(1 - h(x^{(i)})) $$"
   ]
  },
  {
   "cell_type": "code",
   "execution_count": 21,
   "id": "1002962f-f401-48d5-a54c-dd002c0e78f0",
   "metadata": {},
   "outputs": [],
   "source": [
    "def log_likelihood(X, y, w):\n",
    "    y_hat = hypothesis(X, w)\n",
    "    return np.dot(y.T, np.log(1-y_hat)) + np.dot((1-y).T, np.log(y_hat))"
   ]
  },
  {
   "cell_type": "markdown",
   "id": "0a5c1c1a-2a37-4daa-b30d-0a3968ed1a37",
   "metadata": {},
   "source": [
    "#### 3.1.6. Gradient Ascent"
   ]
  },
  {
   "cell_type": "code",
   "execution_count": 22,
   "id": "6b9d2c55-f672-463b-bf86-a975832b9045",
   "metadata": {},
   "outputs": [],
   "source": [
    "def gradient_ascent(X, y, learning_rate, num_iters):\n",
    "    N = X.shape[0]\n",
    "    w = np.zeros((X.shape[1], 1))\n",
    "    \n",
    "    log_likelihood_values = []\n",
    "    X_transpose = np.transpose(X)\n",
    "\n",
    "    # Gradient Ascent - local optimization technique\n",
    "    i = 0\n",
    "    while i < num_iters:\n",
    "        w += (learning_rate / N) * (X_transpose @ (y - hypothesis(X, w)))\n",
    "        i += 1\n",
    "\n",
    "        # Computing log likelihood of seeing examples for current value of w\n",
    "        if (i % 10) == 0:\n",
    "            log_likelihood_values.append(log_likelihood(X, y, w))\n",
    "\n",
    "    return w, log_likelihood_values"
   ]
  },
  {
   "cell_type": "code",
   "execution_count": 23,
   "id": "ee89e4e4-c7a8-47bc-866c-d783a5e59826",
   "metadata": {
    "scrolled": true
   },
   "outputs": [],
   "source": [
    "learning_rate = 0.0000001\n",
    "num_iters = 100000\n",
    "w, log_likelihood_values = gradient_ascent(X_train_1, y_2d_train, learning_rate, num_iters)"
   ]
  },
  {
   "cell_type": "markdown",
   "id": "11f9e690-255b-4a45-b452-eb04da8ff0dc",
   "metadata": {},
   "source": [
    "#### 3.1.7. Predict the Class Label"
   ]
  },
  {
   "cell_type": "code",
   "execution_count": 24,
   "id": "871b08c6-5c6a-4098-8138-19d849ef4a71",
   "metadata": {},
   "outputs": [],
   "source": [
    "def predict_class(X, w, t = 0.5):\n",
    "    p = hypothesis(X, w)\n",
    "    p_class = np.zeros(p.shape)  \n",
    "    p_class[p >= t] = 1\n",
    "    return p_class"
   ]
  },
  {
   "cell_type": "markdown",
   "id": "8fed4aff-b9b7-4c0d-a4d6-f3683b33250b",
   "metadata": {},
   "source": [
    "#### 3.1.8. Evaluating our hypothesis using the test dataset"
   ]
  },
  {
   "cell_type": "code",
   "execution_count": 25,
   "id": "f3aa033c-1f66-4162-a224-786273d3dd5e",
   "metadata": {
    "scrolled": true
   },
   "outputs": [],
   "source": [
    "t = 0.5\n",
    "# First augment the test dataset with a column of ones.\n",
    "ones = np.ones((X_test.shape[0], 1))\n",
    "X_test_1 = np.hstack((ones, X_test))\n",
    "# Now predict the label of each example in your test set\n",
    "y_hat = predict_class(X_test_1, w, t)"
   ]
  },
  {
   "cell_type": "code",
   "execution_count": 26,
   "id": "5491cf69-6202-4e3a-9af3-08bb2bd92f67",
   "metadata": {},
   "outputs": [
    {
     "name": "stderr",
     "output_type": "stream",
     "text": [
      "/Library/Frameworks/Python.framework/Versions/3.9/lib/python3.9/site-packages/statsmodels/genmod/families/links.py:198: RuntimeWarning: overflow encountered in exp\n",
      "  t = np.exp(-z)\n"
     ]
    },
    {
     "data": {
      "text/plain": [
       "<Axes: >"
      ]
     },
     "execution_count": 26,
     "metadata": {},
     "output_type": "execute_result"
    },
    {
     "data": {
      "image/png": "[encoded data removed]",
      "text/plain": [
       "<Figure size 640x480 with 1 Axes>"
      ]
     },
     "metadata": {},
     "output_type": "display_data"
    }
   ],
   "source": [
    "sns.regplot(x=np.dot(X_test_1, w), y=y_hat, data=data, logistic=True, ci=None)"
   ]
  },
  {
   "cell_type": "markdown",
   "id": "23b7c708-2366-443e-bb88-dc9fed246522",
   "metadata": {},
   "source": [
    "#### 3.1.9. Precision, Recall and F1 Scores"
   ]
  },
  {
   "cell_type": "markdown",
   "id": "33722cdc-0cf3-4984-8e65-186ed431bea6",
   "metadata": {},
   "source": [
    "##### 3.1.9.1. Precision and Recall"
   ]
  },
  {
   "cell_type": "code",
   "execution_count": 27,
   "id": "3a2a5dda",
   "metadata": {},
   "outputs": [],
   "source": [
    "def precision_recall(y_hat, y):\n",
    "    \n",
    "    # Calculate false positive and false negative\n",
    "    # HINT: if done correctly, false_pos should be 1 and false_neg should be 1\n",
    "    false_pos = np.count_nonzero((y - y_hat) < 0)\n",
    "    false_neg = np.count_nonzero((y - y_hat) > 0)\n",
    "\n",
    "    # Calculate true positive and true negatives\n",
    "    # HINT: if done correctly, true_pos should be 88\n",
    "    true_pos = np.count_nonzero((y * y_hat) == 1)\n",
    "\n",
    "    precision = true_pos / (true_pos + false_pos)\n",
    "    recall = true_pos / (true_pos + false_neg)\n",
    "    return precision,recall"
   ]
  },
  {
   "cell_type": "code",
   "execution_count": 28,
   "id": "958c2237-8b0b-442b-9b0c-205a4990e76d",
   "metadata": {},
   "outputs": [],
   "source": [
    "prec, rec = precision_recall(y_hat, y_2d_test)"
   ]
  },
  {
   "cell_type": "markdown",
   "id": "43053fac-395d-49ca-a530-af0fdb22779d",
   "metadata": {},
   "source": [
    "##### 3.1.9.2. F1"
   ]
  },
  {
   "cell_type": "code",
   "execution_count": 29,
   "id": "c95fc3e2-67c5-4304-95da-633cc7bd5f81",
   "metadata": {},
   "outputs": [],
   "source": [
    "def f1(precision, recall):\n",
    "    if precision + recall > 0:\n",
    "        return 2 * (precision * recall) / (precision + recall)\n",
    "    return 0"
   ]
  },
  {
   "cell_type": "code",
   "execution_count": 30,
   "id": "d8f8e4f6-f71e-4965-89c0-7aaa88f73dcf",
   "metadata": {},
   "outputs": [
    {
     "name": "stdout",
     "output_type": "stream",
     "text": [
      "Precision:  0.875\n",
      "Recall:  0.875\n",
      "F1 Score:  0.875\n"
     ]
    }
   ],
   "source": [
    "f1_score = f1(prec, rec)\n",
    "print('Precision: ', prec)\n",
    "print('Recall: ', rec)\n",
    "print('F1 Score: ', f1_score)"
   ]
  },
  {
   "cell_type": "markdown",
   "id": "08249b77-636a-4773-8997-59d748832da8",
   "metadata": {},
   "source": [
    "#### Accuracy"
   ]
  },
  {
   "cell_type": "code",
   "execution_count": 31,
   "id": "c53e9e8f-dfa0-4e25-86c2-cefddd8e72f5",
   "metadata": {},
   "outputs": [],
   "source": [
    "def accuracy(y_hat, y):\n",
    "    correct = np.count_nonzero((y == y_hat))\n",
    "    return correct / y.shape[0]"
   ]
  },
  {
   "cell_type": "code",
   "execution_count": 32,
   "id": "24349782-b4a5-4fbe-84e7-1d02a58fa7ad",
   "metadata": {},
   "outputs": [
    {
     "name": "stdout",
     "output_type": "stream",
     "text": [
      "Accuracy:  0.8688524590163934\n"
     ]
    }
   ],
   "source": [
    "acc = accuracy(y_hat, y_2d_test)\n",
    "print('Accuracy: ', acc)"
   ]
  },
  {
   "cell_type": "markdown",
   "id": "3937e77b-4a25-4c03-96a6-f0e225488fab",
   "metadata": {},
   "source": [
    "##### 3.1.9.3. Confusion Matrix"
   ]
  },
  {
   "cell_type": "code",
   "execution_count": 33,
   "id": "ccaeeab0-941b-45a1-a820-18ccc185a4db",
   "metadata": {
    "scrolled": true
   },
   "outputs": [
    {
     "data": {
      "image/png": "[encoded data removed]",
      "text/plain": [
       "<Figure size 640x480 with 2 Axes>"
      ]
     },
     "metadata": {},
     "output_type": "display_data"
    }
   ],
   "source": [
    "cm = metrics.confusion_matrix(y_2d_test, y_hat)\n",
    "cm_display = metrics.ConfusionMatrixDisplay(confusion_matrix = cm, display_labels = [False, True])\n",
    "cm_display.plot()\n",
    "plt.show()"
   ]
  },
  {
   "cell_type": "markdown",
   "id": "309415ab-5863-4e41-af6d-ac835389295b",
   "metadata": {},
   "source": [
    "#### Trying Different Learning Rate"
   ]
  },
  {
   "cell_type": "code",
   "execution_count": 34,
   "id": "52f326c3-217c-4fbf-8a6d-4cfd0ad110ae",
   "metadata": {},
   "outputs": [],
   "source": [
    "lr = [1e-7, 1e-6, 1e-5, 1e-4, 1e-3, 1e-2, 1e-1, 1, 5]\n",
    "num_iters = 100000"
   ]
  },
  {
   "cell_type": "code",
   "execution_count": 35,
   "id": "58a0af06-43d9-43de-b83c-ac80e6c12023",
   "metadata": {},
   "outputs": [
    {
     "name": "stdout",
     "output_type": "stream",
     "text": [
      "Best Alpha is 0.0001 with accuracy 0.8852459016393442\n"
     ]
    }
   ],
   "source": [
    "t = 0.5\n",
    "best_alpha = 0\n",
    "best_acc = 0\n",
    "best_prec = 0\n",
    "best_rec = 0\n",
    "best_f1 = 0\n",
    "for alpha in lr:\n",
    "    w, log_likelihood_values = gradient_ascent(X_train_1, y_2d_train, alpha, num_iters)\n",
    "    y_hat = predict_class(X_test_1, w, t)\n",
    "    precision, recall = precision_recall(y_hat, y_2d_test)\n",
    "    f1_score = f1(precision, recall)\n",
    "    acc = accuracy(y_hat, y_2d_test)\n",
    "    if acc > best_acc:\n",
    "        best_acc = acc\n",
    "        best_alpha = alpha\n",
    "        best_prec, best_rec, best_f1 = precision, recall, f1_score\n",
    "print(\"Best Alpha is\", best_alpha, \"with accuracy\", best_acc)"
   ]
  },
  {
   "cell_type": "markdown",
   "id": "208b1c5c-3aeb-4b3e-a0cf-0ec7d055ea73",
   "metadata": {},
   "source": [
    "### **3.2. Adding L1 Regularization**"
   ]
  },
  {
   "cell_type": "markdown",
   "id": "abe0ed0d",
   "metadata": {},
   "source": [
    "#### Sklearn's implementation of Logistic regression"
   ]
  },
  {
   "cell_type": "code",
   "execution_count": 36,
   "id": "9b4fffc1",
   "metadata": {},
   "outputs": [],
   "source": [
    "from sklearn import linear_model\n",
    "logreg = linear_model.LogisticRegression(penalty=None)\n",
    "\n",
    "# Fit the model\n",
    "logreg.fit(X_train, y_train)\n",
    "\n",
    "w_logreg = logreg.coef_\n",
    "intercept_logreg = logreg.intercept_"
   ]
  },
  {
   "cell_type": "markdown",
   "id": "9e7f315e",
   "metadata": {},
   "source": [
    "##### Performance measure: Accuracy"
   ]
  },
  {
   "cell_type": "code",
   "execution_count": 37,
   "id": "80ed31f3",
   "metadata": {},
   "outputs": [
    {
     "name": "stdout",
     "output_type": "stream",
     "text": [
      "Accuracy on training data = 0.852459\n"
     ]
    }
   ],
   "source": [
    "# Find the predicted values on test set (X_test not X_test_1) using logreg.predict\n",
    "y_hat_logreg = logreg.predict(X_test)\n",
    "\n",
    "# Find the accuracy achieved on test set using logreg.score and y_test \n",
    "acc_logreg = logreg.score(X_test, y_test)\n",
    "\n",
    "print(\"Accuracy on training data = %f\" % acc_logreg)"
   ]
  },
  {
   "cell_type": "markdown",
   "id": "1e686e7d",
   "metadata": {},
   "source": [
    "##### Performance Metrics: precision, recall, F1 score"
   ]
  },
  {
   "cell_type": "code",
   "execution_count": 38,
   "id": "18a16ca8",
   "metadata": {},
   "outputs": [
    {
     "name": "stdout",
     "output_type": "stream",
     "text": [
      "Precision: [0.83333333 0.87096774]\n",
      "Recall:  [0.86206897 0.84375   ]\n",
      "F1 Score:  [0.84745763 0.85714286]\n"
     ]
    }
   ],
   "source": [
    "from sklearn.metrics import precision_recall_fscore_support\n",
    "prec, recal, fscore, sup = precision_recall_fscore_support(y_test, y_hat_logreg)\n",
    "print('Precision:', prec)\n",
    "print('Recall: ', recal)\n",
    "print('F1 Score: ', fscore)"
   ]
  },
  {
   "cell_type": "code",
   "execution_count": 39,
   "id": "8564b1ff-c9bc-4af9-88d4-2dca34535dea",
   "metadata": {},
   "outputs": [
    {
     "name": "stdout",
     "output_type": "stream",
     "text": [
      "Using Lasso Regression\n",
      "Reg - Optimal λ: 0.3593813663804626\n",
      "Reg - Accuracy on validation data = 0.852459\n",
      "Reg - Accuracy on training data = 0.863636\n",
      "No reg - Accuracy on validation data = 0.852459\n",
      "No reg - Accuracy on training data = 0.863636\n"
     ]
    }
   ],
   "source": [
    "from sklearn.model_selection import KFold\n",
    "from sklearn.linear_model import LogisticRegressionCV\n",
    "\n",
    "\n",
    "# Initialize LogisticRegressionCV with 5-fold cross-validation and Lasso regularization\n",
    "logreg_cv_l1 = LogisticRegressionCV(penalty='l1', solver='liblinear', cv=5)\n",
    "\n",
    "# Fit the model to the training data\n",
    "logreg_cv_l1.fit(X_train, y_train)\n",
    "w_logreg_cv_l1 = logreg_cv_l1.coef_\n",
    "intercept_logreg_cv_l1 = logreg_cv_l1.intercept_\n",
    "\n",
    "# Get the optimal λ value\n",
    "optimal_lambda_l1 = 1/ (logreg_cv_l1.C_[0])\n",
    "y_hat_logreg_cv_l1 = logreg_cv_l1.predict(X_test)\n",
    "# Find the accuracy achieved on test set using logreg.score and y_test \n",
    "acc_valid_logreg_cv_l1 = logreg_cv_l1.score(X_test, y_test)\n",
    "acc_train_logreg_cv_l1 = logreg_cv_l1.score(X_train, y_train)\n",
    "acc_valid_logreg = logreg.score(X_test, y_test)\n",
    "acc_train_logregv = logreg.score(X_train, y_train)\n",
    "\n",
    "print(\"Using Lasso Regression\")\n",
    "print(\"Reg - Optimal λ:\", optimal_lambda_l1)\n",
    "print(\"Reg - Accuracy on validation data = %f\" % acc_valid_logreg_cv_l1)\n",
    "print(\"Reg - Accuracy on training data = %f\" % acc_train_logreg_cv_l1)\n",
    "print(\"No reg - Accuracy on validation data = %f\" % acc_valid_logreg)\n",
    "print(\"No reg - Accuracy on training data = %f\" % acc_train_logregv)"
   ]
  },
  {
   "cell_type": "markdown",
   "id": "7428348d-0e7f-4508-ab4f-906444cc757c",
   "metadata": {},
   "source": [
    "### **3.3. Adding L2 Regularization**"
   ]
  },
  {
   "cell_type": "code",
   "execution_count": 40,
   "id": "89a7fd1e-ebe5-4904-b1c2-d8251a538b79",
   "metadata": {},
   "outputs": [
    {
     "name": "stdout",
     "output_type": "stream",
     "text": [
      "Using Ridge Regression\n",
      "Reg - Optimal λ: 0.3593813663804626\n",
      "Reg - Accuracy on validation data = 0.852459\n",
      "Reg - Accuracy on training data = 0.863636\n",
      "No reg - Accuracy on validation data = 0.852459\n",
      "No reg - Accuracy on training data = 0.863636\n"
     ]
    }
   ],
   "source": [
    "# Initialize LogisticRegressionCV with 5-fold cross-validation and ridge regularization\n",
    "logreg_cv_l2 = LogisticRegressionCV(penalty='l2', cv=5)\n",
    "\n",
    "# Fit the model to the training data\n",
    "logreg_cv_l2.fit(X_train, y_train)\n",
    "w_logreg_cv_l2 = logreg_cv_l2.coef_\n",
    "intercept_logreg_cv_l2 = logreg_cv_l2.intercept_\n",
    "\n",
    "# Get the optimal λ value\n",
    "optimal_lambda_l2 = 1/ (logreg_cv_l2.C_[0])\n",
    "y_hat_logreg_cv_l2 = logreg_cv_l2.predict(X_test)\n",
    "# Find the accuracy achieved on test set using logreg.score and y_test \n",
    "acc_valid_logreg_cv_l2 = logreg_cv_l2.score(X_test, y_test)\n",
    "acc_train_logreg_cv_l2 = logreg_cv_l2.score(X_train, y_train)\n",
    "\n",
    "print(\"Using Ridge Regression\")\n",
    "print(\"Reg - Optimal λ:\", optimal_lambda_l2)\n",
    "print(\"Reg - Accuracy on validation data = %f\" % acc_valid_logreg_cv_l2)\n",
    "print(\"Reg - Accuracy on training data = %f\" % acc_train_logreg_cv_l2)\n",
    "print(\"No reg - Accuracy on validation data = %f\" % acc_valid_logreg)\n",
    "print(\"No reg - Accuracy on training data = %f\" % acc_train_logregv)"
   ]
  },
  {
   "cell_type": "markdown",
   "id": "5bdf03d2",
   "metadata": {},
   "source": [
    "Both Lasso (L1 regularization) and Ridge (L2 regularization) regression models yield the same optimal λ value and accuracy scores for both validation and training datasets.\n",
    "\n",
    "They both don't have any effect on the accuracy versus when there isn't regularization."
   ]
  },
  {
   "cell_type": "markdown",
   "id": "fd0c8195",
   "metadata": {},
   "source": [
    "## Comparision between with vs. without Regularization"
   ]
  },
  {
   "cell_type": "markdown",
   "id": "56ee57e8",
   "metadata": {},
   "source": [
    "### Plotting confusion matrix"
   ]
  },
  {
   "cell_type": "code",
   "execution_count": 41,
   "id": "5f2db1f7-89b1-495f-8450-7e7b39845269",
   "metadata": {},
   "outputs": [
    {
     "data": {
      "image/png": "[encoded data removed]",
      "text/plain": [
       "<Figure size 1200x600 with 6 Axes>"
      ]
     },
     "metadata": {},
     "output_type": "display_data"
    }
   ],
   "source": [
    "from sklearn.metrics import confusion_matrix, ConfusionMatrixDisplay\n",
    "\n",
    "# Plotting confusion matrix\n",
    "cm_l1 = confusion_matrix(y_test, y_hat_logreg_cv_l1)\n",
    "cm_l2 = confusion_matrix(y_test, y_hat_logreg_cv_l2)\n",
    "\n",
    "disp_noreg = ConfusionMatrixDisplay(confusion_matrix=cm)\n",
    "disp_l1 = ConfusionMatrixDisplay(confusion_matrix=cm_l1)\n",
    "disp_l2 = ConfusionMatrixDisplay(confusion_matrix=cm_l2)\n",
    "\n",
    "fig, ax = plt.subplots(1, 3, figsize=(12, 6))\n",
    "disp_l1.plot(ax=ax[0])\n",
    "ax[0].set_title('Confusion Matrix (L1 Regularization)')\n",
    "disp_l2.plot(ax=ax[1])\n",
    "ax[1].set_title('Confusion Matrix (L2 Regularization)')\n",
    "disp_noreg.plot(ax=ax[2])\n",
    "ax[2].set_title('Confusion Matrix without Regularization')\n",
    "plt.show()"
   ]
  },
  {
   "cell_type": "markdown",
   "id": "5149fcdc-8128-4186-8d6a-53e35b3093ae",
   "metadata": {},
   "source": [
    "### Feature Transformation: Polynomial"
   ]
  },
  {
   "cell_type": "markdown",
   "id": "0dedaa59-07d7-4d66-86ab-cb82482da986",
   "metadata": {},
   "source": [
    "#### Degree of 2"
   ]
  },
  {
   "cell_type": "code",
   "execution_count": 42,
   "id": "b6d6d0c7-ea0c-4da4-bc19-a4736b97cab4",
   "metadata": {},
   "outputs": [
    {
     "name": "stdout",
     "output_type": "stream",
     "text": [
      "X_train_deg2.shape:  (242, 120)\n"
     ]
    }
   ],
   "source": [
    "from sklearn.preprocessing import PolynomialFeatures\n",
    "from sklearn.linear_model import LinearRegression\n",
    "poly_reg_2 = PolynomialFeatures(degree=2)\n",
    "X_train_deg2 = poly_reg_2.fit_transform(X_train_1)\n",
    "print(\"X_train_deg2.shape: \", X_train_deg2.shape)"
   ]
  },
  {
   "cell_type": "code",
   "execution_count": 43,
   "id": "45bd33fb-5532-4079-b99a-aedebdc2991f",
   "metadata": {},
   "outputs": [],
   "source": [
    "learning_rate = 0.0001\n",
    "num_iters = 100000\n",
    "w_deg2, log_likelihood_values_deg2 = gradient_ascent(X_train_deg2, y_2d_train, learning_rate, num_iters)"
   ]
  },
  {
   "cell_type": "code",
   "execution_count": 44,
   "id": "50d192be-2f24-444c-b796-6d8c7ecca47e",
   "metadata": {
    "scrolled": true
   },
   "outputs": [],
   "source": [
    "t = 0.5\n",
    "ones = np.ones((X_test.shape[0], 1))\n",
    "X_test_deg2 = poly_reg_2.fit_transform(np.hstack((ones, X_test)))\n",
    "y_hat_deg2 = predict_class(X_test_deg2, w_deg2, t)"
   ]
  },
  {
   "cell_type": "code",
   "execution_count": 45,
   "id": "21d009c9-a1e5-4cbc-859c-98821fd118e0",
   "metadata": {},
   "outputs": [
    {
     "name": "stderr",
     "output_type": "stream",
     "text": [
      "/Library/Frameworks/Python.framework/Versions/3.9/lib/python3.9/site-packages/statsmodels/genmod/families/links.py:198: RuntimeWarning: overflow encountered in exp\n",
      "  t = np.exp(-z)\n"
     ]
    },
    {
     "data": {
      "text/plain": [
       "<Axes: >"
      ]
     },
     "execution_count": 45,
     "metadata": {},
     "output_type": "execute_result"
    },
    {
     "data": {
      "image/png": "[encoded data removed]",
      "text/plain": [
       "<Figure size 640x480 with 1 Axes>"
      ]
     },
     "metadata": {},
     "output_type": "display_data"
    }
   ],
   "source": [
    "sns.regplot(x=np.dot(X_test_deg2, w_deg2), y=y_hat_deg2, data=data, logistic=True, ci=None)"
   ]
  },
  {
   "cell_type": "code",
   "execution_count": 46,
   "id": "21e64dab-0887-4d6c-b32c-4b33b6de52f8",
   "metadata": {},
   "outputs": [
    {
     "name": "stdout",
     "output_type": "stream",
     "text": [
      "Precision:  0.9\n",
      "Recall:  0.84375\n",
      "F1 Score:  0.870967741935484\n",
      "Accuracy:  0.8688524590163934\n"
     ]
    }
   ],
   "source": [
    "precision_deg2, recall_deg2 = precision_recall(y_hat_deg2, y_2d_test)\n",
    "f1_deg2 = f1(precision_deg2, recall_deg2)\n",
    "acc_deg2 = accuracy(y_hat_deg2, y_2d_test)\n",
    "print('Precision: ', precision_deg2)\n",
    "print('Recall: ', recall_deg2)\n",
    "print('F1 Score: ', f1_deg2)\n",
    "print('Accuracy: ', acc_deg2)"
   ]
  },
  {
   "cell_type": "markdown",
   "id": "59322d0f-6c3b-41a0-9e3e-2081a6e77468",
   "metadata": {},
   "source": [
    "#### Degree of 3"
   ]
  },
  {
   "cell_type": "code",
   "execution_count": 47,
   "id": "4a66751e-8f77-4ac2-845e-2307a6d7b12f",
   "metadata": {},
   "outputs": [
    {
     "name": "stdout",
     "output_type": "stream",
     "text": [
      "X_train_deg3.shape:  (242, 680)\n"
     ]
    }
   ],
   "source": [
    "poly_reg_3 = PolynomialFeatures(degree=3)\n",
    "X_train_deg3 = poly_reg_3.fit_transform(X_train_1)\n",
    "print(\"X_train_deg3.shape: \", X_train_deg3.shape)"
   ]
  },
  {
   "cell_type": "code",
   "execution_count": 48,
   "id": "50e4470c-519f-48e2-92eb-71a38bb84bdc",
   "metadata": {},
   "outputs": [],
   "source": [
    "learning_rate = 0.0001\n",
    "num_iters = 100000\n",
    "w_deg3, log_likelihood_values_deg3 = gradient_ascent(X_train_deg3, y_2d_train, learning_rate, num_iters)"
   ]
  },
  {
   "cell_type": "code",
   "execution_count": 49,
   "id": "b4995ab3-54a6-4ccc-9666-d967db6d1acb",
   "metadata": {},
   "outputs": [],
   "source": [
    "t = 0.5\n",
    "ones = np.ones((X_test.shape[0], 1))\n",
    "X_test_deg3 = poly_reg_3.fit_transform(np.hstack((ones, X_test)))\n",
    "y_hat_deg3 = predict_class(X_test_deg3, w_deg3, t)"
   ]
  },
  {
   "cell_type": "code",
   "execution_count": 50,
   "id": "2e4e7d05-4d3c-4806-819b-848567d4e7d0",
   "metadata": {},
   "outputs": [
    {
     "data": {
      "text/plain": [
       "<Axes: >"
      ]
     },
     "execution_count": 50,
     "metadata": {},
     "output_type": "execute_result"
    },
    {
     "data": {
      "image/png": "[encoded data removed]",
      "text/plain": [
       "<Figure size 640x480 with 1 Axes>"
      ]
     },
     "metadata": {},
     "output_type": "display_data"
    }
   ],
   "source": [
    "sns.regplot(x=np.dot(X_test_deg3, w_deg3), y=y_hat_deg3, data=data, logistic=True, ci=None)"
   ]
  },
  {
   "cell_type": "code",
   "execution_count": 51,
   "id": "97779ebf-4099-4462-bf23-39dd7155b1c7",
   "metadata": {},
   "outputs": [
    {
     "name": "stdout",
     "output_type": "stream",
     "text": [
      "Precision:  0.9333333333333333\n",
      "Recall:  0.875\n",
      "F1 Score:  0.9032258064516129\n",
      "Accuracy:  0.9016393442622951\n"
     ]
    }
   ],
   "source": [
    "precision_deg3, recall_deg3 = precision_recall(y_hat_deg3, y_2d_test)\n",
    "f1_deg3 = f1(precision_deg3, recall_deg3)\n",
    "acc_deg3 = accuracy(y_hat_deg3, y_2d_test)\n",
    "print('Precision: ', precision_deg3)\n",
    "print('Recall: ', recall_deg3)\n",
    "print('F1 Score: ', f1_deg3)\n",
    "print('Accuracy: ', acc_deg3)"
   ]
  },
  {
   "cell_type": "markdown",
   "id": "c6546ac7-d07e-4590-8eff-1ef2bb7d9406",
   "metadata": {},
   "source": [
    "#### Degree of 4"
   ]
  },
  {
   "cell_type": "code",
   "execution_count": 52,
   "id": "df366590-b44c-4990-a672-aefc08f9c488",
   "metadata": {},
   "outputs": [
    {
     "name": "stdout",
     "output_type": "stream",
     "text": [
      "X_train_deg4.shape:  (242, 3060)\n"
     ]
    }
   ],
   "source": [
    "poly_reg_4 = PolynomialFeatures(degree=4)\n",
    "X_train_deg4 = poly_reg_4.fit_transform(X_train_1)\n",
    "print(\"X_train_deg4.shape: \", X_train_deg4.shape)"
   ]
  },
  {
   "cell_type": "code",
   "execution_count": 53,
   "id": "3c2dda4a-2e32-43f2-adc1-c8a2ba19f382",
   "metadata": {},
   "outputs": [
    {
     "name": "stderr",
     "output_type": "stream",
     "text": [
      "/var/folders/bz/7dw6ttj96dd44tddjq_0fpv80000gn/T/ipykernel_51796/3442206285.py:3: RuntimeWarning: divide by zero encountered in log\n",
      "  return np.dot(y.T, np.log(1-y_hat)) + np.dot((1-y).T, np.log(y_hat))\n"
     ]
    }
   ],
   "source": [
    "learning_rate = 0.0001\n",
    "num_iters = 100000\n",
    "w_deg4, log_likelihood_values_deg4 = gradient_ascent(X_train_deg4, y_2d_train, learning_rate, num_iters)"
   ]
  },
  {
   "cell_type": "code",
   "execution_count": 54,
   "id": "8357f7b1-0a0a-458b-98a3-002a3273a520",
   "metadata": {},
   "outputs": [],
   "source": [
    "t = 0.5\n",
    "ones = np.ones((X_test.shape[0], 1))\n",
    "X_test_deg4 = poly_reg_4.fit_transform(np.hstack((ones, X_test)))\n",
    "y_hat_deg4 = predict_class(X_test_deg4, w_deg4, t)"
   ]
  },
  {
   "cell_type": "code",
   "execution_count": 55,
   "id": "207e9396-87bf-4e85-a784-090854329aef",
   "metadata": {},
   "outputs": [
    {
     "name": "stderr",
     "output_type": "stream",
     "text": [
      "/Library/Frameworks/Python.framework/Versions/3.9/lib/python3.9/site-packages/statsmodels/genmod/families/links.py:198: RuntimeWarning: overflow encountered in exp\n",
      "  t = np.exp(-z)\n"
     ]
    },
    {
     "data": {
      "text/plain": [
       "<Axes: >"
      ]
     },
     "execution_count": 55,
     "metadata": {},
     "output_type": "execute_result"
    },
    {
     "data": {
      "image/png": "[encoded data removed]",
      "text/plain": [
       "<Figure size 640x480 with 1 Axes>"
      ]
     },
     "metadata": {},
     "output_type": "display_data"
    }
   ],
   "source": [
    "sns.regplot(x=np.dot(X_test_deg4, w_deg4), y=y_hat_deg4, data=data, logistic=True, ci=None)"
   ]
  },
  {
   "cell_type": "code",
   "execution_count": 56,
   "id": "ad367805-267f-4f74-881f-8756c9fd3168",
   "metadata": {},
   "outputs": [
    {
     "name": "stdout",
     "output_type": "stream",
     "text": [
      "Precision:  0.8666666666666667\n",
      "Recall:  0.8125\n",
      "F1 Score:  0.8387096774193549\n",
      "Accuracy:  0.8360655737704918\n"
     ]
    }
   ],
   "source": [
    "precision_deg4, recall_deg4 = precision_recall(y_hat_deg4, y_2d_test)\n",
    "f1_deg4 = f1(precision_deg4, recall_deg4)\n",
    "acc_deg4 = accuracy(y_hat_deg4, y_2d_test)\n",
    "print('Precision: ', precision_deg4)\n",
    "print('Recall: ', recall_deg4)\n",
    "print('F1 Score: ', f1_deg4)\n",
    "print('Accuracy: ', acc_deg4)"
   ]
  },
  {
   "cell_type": "markdown",
   "id": "5ae609e4-6540-43c5-b41b-a53760b8ecdb",
   "metadata": {},
   "source": [
    "### Comparison between Different Degree of Polynomial Feature Transfomation"
   ]
  },
  {
   "cell_type": "code",
   "execution_count": 57,
   "id": "97edb5dc-c540-4a9b-a900-1a74f94c0303",
   "metadata": {},
   "outputs": [],
   "source": [
    "import matplotlib.pyplot as plt\n",
    "import numpy as np"
   ]
  },
  {
   "cell_type": "code",
   "execution_count": 61,
   "id": "c7f6aa3c-24c0-4f28-a8b6-3e1779f93e60",
   "metadata": {},
   "outputs": [
    {
     "name": "stdout",
     "output_type": "stream",
     "text": [
      "             Without Transformation         2         3         4\n",
      "---------  ------------------------  --------  --------  --------\n",
      "Precision                  0.878788  0.9       0.933333  0.866667\n",
      "Recall                     0.90625   0.84375   0.875     0.8125\n",
      "F1                         0.892308  0.870968  0.903226  0.83871\n",
      "Accuracy                   0.885246  0.868852  0.901639  0.836066\n"
     ]
    }
   ],
   "source": [
    "data = [['Precision', best_prec, precision_deg2, precision_deg3, precision_deg4],\n",
    "        ['Recall', best_rec, recall_deg2, recall_deg3, recall_deg4],\n",
    "        ['F1', best_f1, f1_deg2, f1_deg3, f1_deg4],\n",
    "        ['Accuracy', best_acc, acc_deg2, acc_deg3, acc_deg4]]\n",
    "\n",
    "column = (\" \", 'Without Transformation', '2', '3', '4')\n",
    "from tabulate import tabulate\n",
    "print(tabulate([['Precision', best_prec, precision_deg2, precision_deg3, precision_deg4], \\\n",
    "                ['Recall', best_rec, recall_deg2, recall_deg3, recall_deg4], \\\n",
    "                ['F1', best_f1, f1_deg2, f1_deg3, f1_deg4], \\\n",
    "                ['Accuracy', best_acc, acc_deg2, acc_deg3, acc_deg4]], headers=['Without Transformation', '2', '3', '4']))"
   ]
  },
  {
   "cell_type": "markdown",
   "id": "7d293f5a-1030-4344-8408-b16b48363265",
   "metadata": {},
   "source": [
    "With polynomial feature transformation of 3rd degree, the model gives the highest accuracy, precision, and F1 score. For recall, model without transformation gets highest."
   ]
  },
  {
   "cell_type": "code",
   "execution_count": null,
   "id": "2658a415-f141-4e5a-a517-2f0e13054b31",
   "metadata": {},
   "outputs": [],
   "source": []
  },
  {
   "cell_type": "code",
   "execution_count": null,
   "id": "8f65542e-aada-4001-adb1-700c3d7eed80",
   "metadata": {},
   "outputs": [],
   "source": []
  },
  {
   "cell_type": "code",
   "execution_count": null,
   "id": "0967e05e-8f4f-46a5-8a98-feac3e08d0b5",
   "metadata": {},
   "outputs": [],
   "source": []
  },
  {
   "cell_type": "code",
   "execution_count": null,
   "id": "f19b07b1-278f-4a6f-970a-c4d5880a6f73",
   "metadata": {},
   "outputs": [],
   "source": []
  },
  {
   "cell_type": "code",
   "execution_count": null,
   "id": "b6c04907-f8c9-4912-8956-28b97b233d7b",
   "metadata": {},
   "outputs": [],
   "source": []
  }
 ],
 "metadata": {
  "kernelspec": {
   "display_name": "Python 3 (ipykernel)",
   "language": "python",
   "name": "python3"
  },
  "language_info": {
   "codemirror_mode": {
    "name": "ipython",
    "version": 3
   },
   "file_extension": ".py",
   "mimetype": "text/x-python",
   "name": "python",
   "nbconvert_exporter": "python",
   "pygments_lexer": "ipython3",
   "version": "3.9.7"
  }
 },
 "nbformat": 4,
 "nbformat_minor": 5
}
