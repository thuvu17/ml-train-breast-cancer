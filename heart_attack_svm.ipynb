{
 "cells": [
  {
   "cell_type": "markdown",
   "id": "3c600952",
   "metadata": {},
   "source": [
    "# Support Vector Machine"
   ]
  },
  {
   "cell_type": "markdown",
   "id": "469361d9",
   "metadata": {},
   "source": [
    "## Importing Libraries"
   ]
  },
  {
   "cell_type": "code",
   "execution_count": 1,
   "id": "e5b624ce",
   "metadata": {},
   "outputs": [],
   "source": [
    "import numpy as np\n",
    "import pandas as pd\n",
    "import matplotlib.pyplot as plt\n",
    "from sklearn import metrics as metrics\n",
    "\n",
    "from sklearn.model_selection import train_test_split\n",
    "from sklearn.model_selection import StratifiedShuffleSplit\n",
    "from sklearn.model_selection import GridSearchCV\n",
    "\n",
    "from sklearn.preprocessing import MinMaxScaler\n",
    "from sklearn.preprocessing import StandardScaler\n",
    "\n",
    "from sklearn.svm import SVC\n",
    "from sklearn.metrics import accuracy_score\n",
    "from sklearn.datasets import make_classification"
   ]
  },
  {
   "cell_type": "markdown",
   "id": "e89b83e7",
   "metadata": {},
   "source": [
    "## Loading Dataset"
   ]
  },
  {
   "cell_type": "code",
   "execution_count": 2,
   "id": "dfd7a6a9",
   "metadata": {},
   "outputs": [],
   "source": [
    "df = pd.read_csv('heart.csv')\n",
    "data = df.to_numpy()"
   ]
  },
  {
   "cell_type": "code",
   "execution_count": 3,
   "id": "005bff74",
   "metadata": {},
   "outputs": [
    {
     "data": {
      "text/html": [
       "<div>\n",
       "<style scoped>\n",
       "    .dataframe tbody tr th:only-of-type {\n",
       "        vertical-align: middle;\n",
       "    }\n",
       "\n",
       "    .dataframe tbody tr th {\n",
       "        vertical-align: top;\n",
       "    }\n",
       "\n",
       "    .dataframe thead th {\n",
       "        text-align: right;\n",
       "    }\n",
       "</style>\n",
       "<table border=\"1\" class=\"dataframe\">\n",
       "  <thead>\n",
       "    <tr style=\"text-align: right;\">\n",
       "      <th></th>\n",
       "      <th>age</th>\n",
       "      <th>sex</th>\n",
       "      <th>cp</th>\n",
       "      <th>trestbps</th>\n",
       "      <th>chol</th>\n",
       "      <th>fbs</th>\n",
       "      <th>restecg</th>\n",
       "      <th>thalach</th>\n",
       "      <th>exang</th>\n",
       "      <th>oldpeak</th>\n",
       "      <th>slope</th>\n",
       "      <th>ca</th>\n",
       "      <th>thal</th>\n",
       "      <th>target</th>\n",
       "    </tr>\n",
       "  </thead>\n",
       "  <tbody>\n",
       "    <tr>\n",
       "      <th>0</th>\n",
       "      <td>63</td>\n",
       "      <td>1</td>\n",
       "      <td>3</td>\n",
       "      <td>145</td>\n",
       "      <td>233</td>\n",
       "      <td>1</td>\n",
       "      <td>0</td>\n",
       "      <td>150</td>\n",
       "      <td>0</td>\n",
       "      <td>2.3</td>\n",
       "      <td>0</td>\n",
       "      <td>0</td>\n",
       "      <td>1</td>\n",
       "      <td>1</td>\n",
       "    </tr>\n",
       "    <tr>\n",
       "      <th>1</th>\n",
       "      <td>37</td>\n",
       "      <td>1</td>\n",
       "      <td>2</td>\n",
       "      <td>130</td>\n",
       "      <td>250</td>\n",
       "      <td>0</td>\n",
       "      <td>1</td>\n",
       "      <td>187</td>\n",
       "      <td>0</td>\n",
       "      <td>3.5</td>\n",
       "      <td>0</td>\n",
       "      <td>0</td>\n",
       "      <td>2</td>\n",
       "      <td>1</td>\n",
       "    </tr>\n",
       "    <tr>\n",
       "      <th>2</th>\n",
       "      <td>41</td>\n",
       "      <td>0</td>\n",
       "      <td>1</td>\n",
       "      <td>130</td>\n",
       "      <td>204</td>\n",
       "      <td>0</td>\n",
       "      <td>0</td>\n",
       "      <td>172</td>\n",
       "      <td>0</td>\n",
       "      <td>1.4</td>\n",
       "      <td>2</td>\n",
       "      <td>0</td>\n",
       "      <td>2</td>\n",
       "      <td>1</td>\n",
       "    </tr>\n",
       "    <tr>\n",
       "      <th>3</th>\n",
       "      <td>56</td>\n",
       "      <td>1</td>\n",
       "      <td>1</td>\n",
       "      <td>120</td>\n",
       "      <td>236</td>\n",
       "      <td>0</td>\n",
       "      <td>1</td>\n",
       "      <td>178</td>\n",
       "      <td>0</td>\n",
       "      <td>0.8</td>\n",
       "      <td>2</td>\n",
       "      <td>0</td>\n",
       "      <td>2</td>\n",
       "      <td>1</td>\n",
       "    </tr>\n",
       "    <tr>\n",
       "      <th>4</th>\n",
       "      <td>57</td>\n",
       "      <td>0</td>\n",
       "      <td>0</td>\n",
       "      <td>120</td>\n",
       "      <td>354</td>\n",
       "      <td>0</td>\n",
       "      <td>1</td>\n",
       "      <td>163</td>\n",
       "      <td>1</td>\n",
       "      <td>0.6</td>\n",
       "      <td>2</td>\n",
       "      <td>0</td>\n",
       "      <td>2</td>\n",
       "      <td>1</td>\n",
       "    </tr>\n",
       "  </tbody>\n",
       "</table>\n",
       "</div>"
      ],
      "text/plain": [
       "   age  sex  cp  trestbps  chol  fbs  restecg  thalach  exang  oldpeak  slope  \\\n",
       "0   63    1   3       145   233    1        0      150      0      2.3      0   \n",
       "1   37    1   2       130   250    0        1      187      0      3.5      0   \n",
       "2   41    0   1       130   204    0        0      172      0      1.4      2   \n",
       "3   56    1   1       120   236    0        1      178      0      0.8      2   \n",
       "4   57    0   0       120   354    0        1      163      1      0.6      2   \n",
       "\n",
       "   ca  thal  target  \n",
       "0   0     1       1  \n",
       "1   0     2       1  \n",
       "2   0     2       1  \n",
       "3   0     2       1  \n",
       "4   0     2       1  "
      ]
     },
     "execution_count": 3,
     "metadata": {},
     "output_type": "execute_result"
    }
   ],
   "source": [
    "df.head()"
   ]
  },
  {
   "cell_type": "code",
   "execution_count": 4,
   "id": "b768d3e4",
   "metadata": {},
   "outputs": [],
   "source": [
    "X_data = data[:, :-1]\n",
    "y_data = data[:, -1]"
   ]
  },
  {
   "cell_type": "markdown",
   "id": "c5adba45",
   "metadata": {},
   "source": [
    "## 1. Data Preprocessing"
   ]
  },
  {
   "cell_type": "markdown",
   "id": "e27ea422",
   "metadata": {},
   "source": [
    "### 1.1. Splitting data"
   ]
  },
  {
   "cell_type": "code",
   "execution_count": 5,
   "id": "cb091fe0",
   "metadata": {},
   "outputs": [],
   "source": [
    "X_train_val, X_test, y_train_val, y_test = train_test_split(\n",
    "    X_data, y_data,   \n",
    "    test_size = 0.07, random_state=10, shuffle=True\n",
    ")\n",
    "X_train, X_val, y_train, y_val = train_test_split(\n",
    "    X_train_val, y_train_val, \n",
    "    test_size = 0.07, random_state=10, shuffle=True\n",
    ")"
   ]
  },
  {
   "cell_type": "code",
   "execution_count": 6,
   "id": "d6a49f5b",
   "metadata": {},
   "outputs": [
    {
     "name": "stdout",
     "output_type": "stream",
     "text": [
      "X_train:(261, 13)\n",
      "y_train:(261,)\n",
      "X_val: \t(20, 13)\n",
      "y_val: \t(20,)\n",
      "X_test: (22, 13)\n",
      "y_test: (22,)\n"
     ]
    }
   ],
   "source": [
    "print('X_train:' + str(X_train.shape))\n",
    "print('y_train:' + str(y_train.shape))\n",
    "print('X_val: \\t' + str(X_val.shape))\n",
    "print('y_val: \\t' + str(y_val.shape))\n",
    "print('X_test: '  + str(X_test.shape))\n",
    "print('y_test: '  + str(y_test.shape))"
   ]
  },
  {
   "cell_type": "markdown",
   "id": "3f2ce74e",
   "metadata": {},
   "source": [
    "### 1.2. Normalizing Features"
   ]
  },
  {
   "cell_type": "code",
   "execution_count": 7,
   "id": "f11f001b",
   "metadata": {},
   "outputs": [],
   "source": [
    "# Initializing scaler\n",
    "# scaler = MinMaxScaler(feature_range=(-1, 1))\n",
    "# scaler = MinMaxScaler()\n",
    "scaler = StandardScaler()\n",
    "\n",
    "# Fit the scaler to the training data and transform it\n",
    "X_train = scaler.fit_transform(X_train)\n",
    "\n",
    "# Transform the validation and test data using the same scaler\n",
    "X_val = scaler.transform(X_val)\n",
    "X_test = scaler.transform(X_test)"
   ]
  },
  {
   "cell_type": "markdown",
   "id": "6c2c7a5b",
   "metadata": {},
   "source": [
    "MinMaxScaler(feature_range=(-1, 1)) has a 55% accuracy on validation set\n",
    "\n",
    "MinMaxScaler has a 45% accuracy on validation set\n",
    "\n",
    "StandardScaler has a 75% accuracy on validation set"
   ]
  },
  {
   "cell_type": "markdown",
   "id": "86cd558a",
   "metadata": {},
   "source": [
    "## 2. Trying Different Optimization Techniques"
   ]
  },
  {
   "cell_type": "markdown",
   "id": "2bb05191",
   "metadata": {},
   "source": [
    "### 2.1. Pegasos (stochastic sub-gradient descent)"
   ]
  },
  {
   "cell_type": "markdown",
   "id": "0db06545",
   "metadata": {},
   "source": [
    "#### Pegasos Algorithm"
   ]
  },
  {
   "cell_type": "code",
   "execution_count": 8,
   "id": "3eefe38a",
   "metadata": {},
   "outputs": [],
   "source": [
    "def score(X, w):\n",
    "    return X@w\n",
    "\n",
    "\n",
    "def svm_objective(w, X, y, lambda1=.1):\n",
    "    min_verse = lambda1/2 * w@w\n",
    "    y = 1 - y*score(X, w)\n",
    "    zeros = np.zeros((np.shape(y)))\n",
    "    hinge_loss = np.maximum(zeros, y)\n",
    "    result = np.min(min_verse) + np.sum(hinge_loss)\n",
    "    return result\n",
    "\n",
    "\n",
    "def pegasos(X_train, y_train, lambda1=0.08, num_iters = 3):\n",
    "\n",
    "    # Hyperparameters: threshold, lambda1\n",
    "    \n",
    "    # parameters\n",
    "    N = X_train.shape[0]\n",
    "    d = X_train.shape[1]\n",
    "\n",
    "    t = 0\n",
    "    # Initial weight vector\n",
    "    w = np.ones((d,))\n",
    "\n",
    "    for iter in range(num_iters):\n",
    "        # Calculate and print the objective value\n",
    "#         print('Iteration %d. J: %.6f' % (iter, svm_objective(w, X_train, y_train)))\n",
    "\n",
    "        for i in range(N):\n",
    "            t = t + 1\n",
    "            alpha = 1 / (lambda1 * t)\n",
    "            if y_train[i] * (w@X_train[i]) >= 1:\n",
    "                w -= alpha * lambda1 * w\n",
    "            else:\n",
    "                w -= alpha * (lambda1 * w - X_train[i] * y_train[i])\n",
    "        \n",
    "    return w"
   ]
  },
  {
   "cell_type": "markdown",
   "id": "26770b7b",
   "metadata": {},
   "source": [
    "#### Training the Pegasos algorithm on  $X_{\\text{train}}$ and $y_{\\text{train}}$ to get weight vector"
   ]
  },
  {
   "cell_type": "code",
   "execution_count": 9,
   "id": "6f290f84",
   "metadata": {},
   "outputs": [
    {
     "data": {
      "text/plain": [
       "array([ 0.37059052, -0.21082389,  0.75894773, -0.46405325, -0.08963237,\n",
       "        0.00374905,  0.07936874,  0.62022818, -0.52939569, -0.90897302,\n",
       "        0.33319363, -0.99032243, -0.86425678])"
      ]
     },
     "execution_count": 9,
     "metadata": {},
     "output_type": "execute_result"
    }
   ],
   "source": [
    "lambda1 = 0.005\n",
    "num_iters = 50\n",
    "\n",
    "w = pegasos(X_train, y_train, lambda1, num_iters)\n",
    "w"
   ]
  },
  {
   "cell_type": "markdown",
   "id": "a047eec1",
   "metadata": {},
   "source": [
    "#### Accuracy Estimation on the Validation Set "
   ]
  },
  {
   "cell_type": "code",
   "execution_count": 10,
   "id": "d0adbcf5",
   "metadata": {},
   "outputs": [
    {
     "name": "stdout",
     "output_type": "stream",
     "text": [
      "Accuracy: 70.0%\n"
     ]
    }
   ],
   "source": [
    "N_val = y_val.shape[0]\n",
    "threshold = 0\n",
    "\n",
    "scores = score(X_val, w)\n",
    "predictions = scores >= 0\n",
    "\n",
    "accuracy = np.count_nonzero(predictions == y_val) / N_val\n",
    "print('Accuracy: {}%'.format(accuracy * 100))"
   ]
  },
  {
   "cell_type": "markdown",
   "id": "50f1e692",
   "metadata": {},
   "source": [
    "### 2.2. Kernel Functions"
   ]
  },
  {
   "cell_type": "code",
   "execution_count": 11,
   "id": "a690b926",
   "metadata": {},
   "outputs": [],
   "source": [
    "# Define the subset size\n",
    "subset_size = 50\n",
    "\n",
    "# Take a subset of the original dataset\n",
    "X_train_subset, y_train_subset = X_train[:subset_size], y_train[:subset_size]\n",
    "X_val_subset, y_val_subset = X_val[:subset_size], y_val[:subset_size]\n",
    "X_test_subset, y_test_subset = X_test[:subset_size], y_test[:subset_size]"
   ]
  },
  {
   "cell_type": "code",
   "execution_count": 12,
   "id": "7e896000",
   "metadata": {},
   "outputs": [
    {
     "name": "stdout",
     "output_type": "stream",
     "text": [
      "Accuracy with Linear Kernel: 0.85\n"
     ]
    }
   ],
   "source": [
    "# Initialize SVC with linear kernel\n",
    "svm_linear = SVC(kernel='linear', C=1E10)  # Choosing C to be large to ensure no misclassification points\n",
    "svm_linear.fit(X_train_subset, y_train_subset)\n",
    "y_pred_linear = svm_linear.predict(X_val_subset)\n",
    "accuracy_linear = accuracy_score(y_val_subset, y_pred_linear)\n",
    "print(\"Accuracy with Linear Kernel:\", accuracy_linear)"
   ]
  },
  {
   "cell_type": "code",
   "execution_count": 13,
   "id": "dc9c9949",
   "metadata": {},
   "outputs": [
    {
     "name": "stdout",
     "output_type": "stream",
     "text": [
      "Accuracy with Polynomial Kernel: 0.75\n"
     ]
    }
   ],
   "source": [
    "# Initialize SVC with polynomial kernel\n",
    "svm_poly = SVC(kernel='poly', degree=3)  # You can adjust the degree parameter\n",
    "svm_poly.fit(X_train_subset, y_train_subset)\n",
    "y_pred_poly = svm_poly.predict(X_val_subset)\n",
    "accuracy_poly = accuracy_score(y_val_subset, y_pred_poly)\n",
    "print(\"Accuracy with Polynomial Kernel:\", accuracy_poly)"
   ]
  },
  {
   "cell_type": "code",
   "execution_count": 14,
   "id": "16423e15",
   "metadata": {},
   "outputs": [
    {
     "name": "stdout",
     "output_type": "stream",
     "text": [
      "Accuracy with RBF Kernel: 0.75\n"
     ]
    }
   ],
   "source": [
    "# Initialize SVC with RBF kernel\n",
    "svm_rbf = SVC(kernel='rbf', C=1E6)\n",
    "svm_rbf.fit(X_train, y_train)\n",
    "y_pred_rbf = svm_rbf.predict(X_val)\n",
    "accuracy_rbf = accuracy_score(y_val, y_pred_rbf)\n",
    "print(\"Accuracy with RBF Kernel:\", accuracy_rbf)\n"
   ]
  },
  {
   "cell_type": "code",
   "execution_count": 18,
   "id": "8533dbb9",
   "metadata": {},
   "outputs": [
    {
     "data": {
      "image/png": "[encoded data removed]",
      "text/plain": [
       "<Figure size 800x600 with 2 Axes>"
      ]
     },
     "metadata": {},
     "output_type": "display_data"
    }
   ],
   "source": [
    "# Select two features for visualization\n",
    "feature1_index = 0\n",
    "feature2_index = 1\n",
    "selected_features = [feature1_index, feature2_index]  # Replace with the indices of the two features you want to use\n",
    "\n",
    "# Retain only the selected features from the training data\n",
    "X_train_selected = X_train_subset[:, selected_features]\n",
    "\n",
    "# Train a new SVM model using only the selected features\n",
    "svm_linear_selected = SVC(kernel='linear', C=1E10)\n",
    "svm_linear_selected.fit(X_train_selected, y_train_subset)\n",
    "\n",
    "# Generate synthetic 13-dimensional dataset\n",
    "X, y = make_classification(n_samples=100, n_features=13, n_classes=2, n_clusters_per_class=1, random_state=42)\n",
    "\n",
    "# Plot decision boundary\n",
    "plt.figure(figsize=(8, 6))\n",
    "plt.scatter(X[:, feature1_index], X[:, feature2_index], c=y, cmap='viridis', marker='o', edgecolors='k', label='Data Points')\n",
    "\n",
    "# Create a mesh grid to plot decision boundary\n",
    "xx, yy = np.meshgrid(np.linspace(X[:, feature1_index].min() - 1, X[:, feature1_index].max() + 1, 500),\n",
    "                     np.linspace(X[:, feature2_index].min() - 1, X[:, feature2_index].max() + 1, 500))\n",
    "Z = svm_linear_selected.predict(np.c_[xx.ravel(), yy.ravel()]).reshape(xx.shape)\n",
    "plt.contourf(xx, yy, Z, alpha=0.3, cmap='viridis', levels=[0, 0.5, 1])\n",
    "plt.colorbar(label='Class')\n",
    "\n",
    "plt.xlabel(f'Feature {feature1_index + 1}')\n",
    "plt.ylabel(f'Feature {feature2_index + 1}')\n",
    "plt.title('Decision Boundary with Linear SVM')\n",
    "plt.legend()\n",
    "plt.show()"
   ]
  },
  {
   "cell_type": "code",
   "execution_count": null,
   "id": "1721c839",
   "metadata": {},
   "outputs": [],
   "source": []
  }
 ],
 "metadata": {
  "kernelspec": {
   "display_name": "Python 3 (ipykernel)",
   "language": "python",
   "name": "python3"
  },
  "language_info": {
   "codemirror_mode": {
    "name": "ipython",
    "version": 3
   },
   "file_extension": ".py",
   "mimetype": "text/x-python",
   "name": "python",
   "nbconvert_exporter": "python",
   "pygments_lexer": "ipython3",
   "version": "3.11.5"
  }
 },
 "nbformat": 4,
 "nbformat_minor": 5
}
