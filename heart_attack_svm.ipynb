{
 "cells": [
  {
   "cell_type": "markdown",
   "id": "3c600952",
   "metadata": {},
   "source": [
    "# **Support Vector Machine**"
   ]
  },
  {
   "cell_type": "markdown",
   "id": "469361d9",
   "metadata": {},
   "source": [
    "## Importing Libraries"
   ]
  },
  {
   "cell_type": "code",
   "execution_count": 1,
   "id": "e5b624ce",
   "metadata": {},
   "outputs": [],
   "source": [
    "import numpy as np\n",
    "import pandas as pd\n",
    "import matplotlib.pyplot as plt\n",
    "from sklearn import metrics as metrics\n",
    "\n",
    "from sklearn.model_selection import train_test_split\n",
    "from sklearn.model_selection import StratifiedShuffleSplit\n",
    "from sklearn.model_selection import GridSearchCV\n",
    "\n",
    "from sklearn.preprocessing import MinMaxScaler\n",
    "from sklearn.preprocessing import StandardScaler\n",
    "\n",
    "from sklearn.svm import SVC\n",
    "from sklearn.metrics import accuracy_score\n",
    "from sklearn.datasets import make_classification"
   ]
  },
  {
   "cell_type": "markdown",
   "id": "e89b83e7",
   "metadata": {},
   "source": [
    "## Loading Dataset"
   ]
  },
  {
   "cell_type": "code",
   "execution_count": 2,
   "id": "dfd7a6a9",
   "metadata": {},
   "outputs": [],
   "source": [
    "df = pd.read_csv('heart.csv')\n",
    "data = df.to_numpy()"
   ]
  },
  {
   "cell_type": "code",
   "execution_count": 3,
   "id": "005bff74",
   "metadata": {},
   "outputs": [
    {
     "data": {
      "text/html": [
       "<div>\n",
       "<style scoped>\n",
       "    .dataframe tbody tr th:only-of-type {\n",
       "        vertical-align: middle;\n",
       "    }\n",
       "\n",
       "    .dataframe tbody tr th {\n",
       "        vertical-align: top;\n",
       "    }\n",
       "\n",
       "    .dataframe thead th {\n",
       "        text-align: right;\n",
       "    }\n",
       "</style>\n",
       "<table border=\"1\" class=\"dataframe\">\n",
       "  <thead>\n",
       "    <tr style=\"text-align: right;\">\n",
       "      <th></th>\n",
       "      <th>age</th>\n",
       "      <th>sex</th>\n",
       "      <th>cp</th>\n",
       "      <th>trestbps</th>\n",
       "      <th>chol</th>\n",
       "      <th>fbs</th>\n",
       "      <th>restecg</th>\n",
       "      <th>thalach</th>\n",
       "      <th>exang</th>\n",
       "      <th>oldpeak</th>\n",
       "      <th>slope</th>\n",
       "      <th>ca</th>\n",
       "      <th>thal</th>\n",
       "      <th>target</th>\n",
       "    </tr>\n",
       "  </thead>\n",
       "  <tbody>\n",
       "    <tr>\n",
       "      <th>0</th>\n",
       "      <td>63</td>\n",
       "      <td>1</td>\n",
       "      <td>3</td>\n",
       "      <td>145</td>\n",
       "      <td>233</td>\n",
       "      <td>1</td>\n",
       "      <td>0</td>\n",
       "      <td>150</td>\n",
       "      <td>0</td>\n",
       "      <td>2.3</td>\n",
       "      <td>0</td>\n",
       "      <td>0</td>\n",
       "      <td>1</td>\n",
       "      <td>1</td>\n",
       "    </tr>\n",
       "    <tr>\n",
       "      <th>1</th>\n",
       "      <td>37</td>\n",
       "      <td>1</td>\n",
       "      <td>2</td>\n",
       "      <td>130</td>\n",
       "      <td>250</td>\n",
       "      <td>0</td>\n",
       "      <td>1</td>\n",
       "      <td>187</td>\n",
       "      <td>0</td>\n",
       "      <td>3.5</td>\n",
       "      <td>0</td>\n",
       "      <td>0</td>\n",
       "      <td>2</td>\n",
       "      <td>1</td>\n",
       "    </tr>\n",
       "    <tr>\n",
       "      <th>2</th>\n",
       "      <td>41</td>\n",
       "      <td>0</td>\n",
       "      <td>1</td>\n",
       "      <td>130</td>\n",
       "      <td>204</td>\n",
       "      <td>0</td>\n",
       "      <td>0</td>\n",
       "      <td>172</td>\n",
       "      <td>0</td>\n",
       "      <td>1.4</td>\n",
       "      <td>2</td>\n",
       "      <td>0</td>\n",
       "      <td>2</td>\n",
       "      <td>1</td>\n",
       "    </tr>\n",
       "    <tr>\n",
       "      <th>3</th>\n",
       "      <td>56</td>\n",
       "      <td>1</td>\n",
       "      <td>1</td>\n",
       "      <td>120</td>\n",
       "      <td>236</td>\n",
       "      <td>0</td>\n",
       "      <td>1</td>\n",
       "      <td>178</td>\n",
       "      <td>0</td>\n",
       "      <td>0.8</td>\n",
       "      <td>2</td>\n",
       "      <td>0</td>\n",
       "      <td>2</td>\n",
       "      <td>1</td>\n",
       "    </tr>\n",
       "    <tr>\n",
       "      <th>4</th>\n",
       "      <td>57</td>\n",
       "      <td>0</td>\n",
       "      <td>0</td>\n",
       "      <td>120</td>\n",
       "      <td>354</td>\n",
       "      <td>0</td>\n",
       "      <td>1</td>\n",
       "      <td>163</td>\n",
       "      <td>1</td>\n",
       "      <td>0.6</td>\n",
       "      <td>2</td>\n",
       "      <td>0</td>\n",
       "      <td>2</td>\n",
       "      <td>1</td>\n",
       "    </tr>\n",
       "  </tbody>\n",
       "</table>\n",
       "</div>"
      ],
      "text/plain": [
       "   age  sex  cp  trestbps  chol  fbs  restecg  thalach  exang  oldpeak  slope  \\\n",
       "0   63    1   3       145   233    1        0      150      0      2.3      0   \n",
       "1   37    1   2       130   250    0        1      187      0      3.5      0   \n",
       "2   41    0   1       130   204    0        0      172      0      1.4      2   \n",
       "3   56    1   1       120   236    0        1      178      0      0.8      2   \n",
       "4   57    0   0       120   354    0        1      163      1      0.6      2   \n",
       "\n",
       "   ca  thal  target  \n",
       "0   0     1       1  \n",
       "1   0     2       1  \n",
       "2   0     2       1  \n",
       "3   0     2       1  \n",
       "4   0     2       1  "
      ]
     },
     "execution_count": 3,
     "metadata": {},
     "output_type": "execute_result"
    }
   ],
   "source": [
    "df.head()"
   ]
  },
  {
   "cell_type": "code",
   "execution_count": 4,
   "id": "b768d3e4",
   "metadata": {},
   "outputs": [],
   "source": [
    "X_data = data[:, :-1]\n",
    "y_data = data[:, -1]"
   ]
  },
  {
   "cell_type": "markdown",
   "id": "c5adba45",
   "metadata": {},
   "source": [
    "## **1. Data Preprocessing**"
   ]
  },
  {
   "cell_type": "markdown",
   "id": "e27ea422",
   "metadata": {},
   "source": [
    "### 1.1. Splitting data"
   ]
  },
  {
   "cell_type": "code",
   "execution_count": 5,
   "id": "cb091fe0",
   "metadata": {},
   "outputs": [],
   "source": [
    "X_train_val, X_test, y_train_val, y_test = train_test_split(\n",
    "    X_data, y_data,   \n",
    "    test_size = 0.07, random_state=10, shuffle=True\n",
    ")\n",
    "X_train, X_val, y_train, y_val = train_test_split(\n",
    "    X_train_val, y_train_val, \n",
    "    test_size = 0.07, random_state=10, shuffle=True\n",
    ")"
   ]
  },
  {
   "cell_type": "code",
   "execution_count": 6,
   "id": "d6a49f5b",
   "metadata": {},
   "outputs": [
    {
     "name": "stdout",
     "output_type": "stream",
     "text": [
      "X_train:(261, 13)\n",
      "y_train:(261,)\n",
      "X_val: \t(20, 13)\n",
      "y_val: \t(20,)\n",
      "X_test: (22, 13)\n",
      "y_test: (22,)\n"
     ]
    }
   ],
   "source": [
    "print('X_train:' + str(X_train.shape))\n",
    "print('y_train:' + str(y_train.shape))\n",
    "print('X_val: \\t' + str(X_val.shape))\n",
    "print('y_val: \\t' + str(y_val.shape))\n",
    "print('X_test: '  + str(X_test.shape))\n",
    "print('y_test: '  + str(y_test.shape))"
   ]
  },
  {
   "cell_type": "markdown",
   "id": "3f2ce74e",
   "metadata": {},
   "source": [
    "### 1.2. Feature Scaling"
   ]
  },
  {
   "cell_type": "code",
   "execution_count": 7,
   "id": "f11f001b",
   "metadata": {},
   "outputs": [],
   "source": [
    "# Initializing scaler\n",
    "# scaler = MinMaxScaler(feature_range=(-1, 1))\n",
    "# scaler = MinMaxScaler()\n",
    "scaler = StandardScaler()\n",
    "\n",
    "# Fit the scaler to the training data and transform it\n",
    "X_train = scaler.fit_transform(X_train)\n",
    "\n",
    "# Transform the validation and test data using the same scaler\n",
    "X_val = scaler.transform(X_val)\n",
    "X_test = scaler.transform(X_test)"
   ]
  },
  {
   "cell_type": "markdown",
   "id": "6c2c7a5b",
   "metadata": {},
   "source": [
    "MinMaxScaler(feature_range=(-1, 1)) has a 55% accuracy on validation set\n",
    "\n",
    "MinMaxScaler has a 45% accuracy on validation set\n",
    "\n",
    "StandardScaler has a 75% accuracy on validation set\n",
    "\n",
    "StandardScaler yielded the highest accuracy on the validation set, so we use it as the scaler for our dataset."
   ]
  },
  {
   "cell_type": "markdown",
   "id": "86cd558a",
   "metadata": {},
   "source": [
    "## **2. Trying Different Optimization Techniques**"
   ]
  },
  {
   "cell_type": "markdown",
   "id": "2bb05191",
   "metadata": {},
   "source": [
    "### **2.1. Pegasos (stochastic sub-gradient descent)**"
   ]
  },
  {
   "cell_type": "markdown",
   "id": "0db06545",
   "metadata": {},
   "source": [
    "#### Pegasos Algorithm"
   ]
  },
  {
   "cell_type": "code",
   "execution_count": 8,
   "id": "3eefe38a",
   "metadata": {},
   "outputs": [],
   "source": [
    "def score(X, w):\n",
    "    return X@w\n",
    "\n",
    "\n",
    "def svm_objective(w, X, y, lambda1=.1):\n",
    "    reg_term = lambda1/2 * w@w\n",
    "    zeros = np.zeros((np.shape(y)))\n",
    "    hinge_loss = np.maximum(zeros, 1 - y*score(X, w))\n",
    "    result = np.min(reg_term) + np.sum(hinge_loss)\n",
    "    return result\n",
    "\n",
    "\n",
    "def pegasos(X_train, y_train, lambda1=0.08, num_iters = 3):\n",
    "\n",
    "    # Hyperparameters: threshold, lambda1\n",
    "    \n",
    "    # parameters\n",
    "    N = X_train.shape[0]\n",
    "    d = X_train.shape[1]\n",
    "\n",
    "    t = 0\n",
    "    # Initial weight vector\n",
    "    w = np.ones((d,))\n",
    "\n",
    "    for iter in range(num_iters):\n",
    "        # Calculate and print the objective value\n",
    "#         print('Iteration %d. J: %.6f' % (iter, svm_objective(w, X_train, y_train)))\n",
    "\n",
    "        for i in range(N):\n",
    "            t = t + 1\n",
    "            alpha = 1 / (lambda1 * t)\n",
    "            if y_train[i] * (w@X_train[i]) >= 1:\n",
    "                w -= alpha * lambda1 * w\n",
    "            else:\n",
    "                w -= alpha * (lambda1 * w - X_train[i] * y_train[i])\n",
    "        \n",
    "    return w"
   ]
  },
  {
   "cell_type": "markdown",
   "id": "64a29564",
   "metadata": {},
   "source": [
    "#### Performance Metrics Functions"
   ]
  },
  {
   "cell_type": "code",
   "execution_count": 31,
   "id": "3cac9dc9",
   "metadata": {},
   "outputs": [],
   "source": [
    "def precision_recall(y_hat, y):\n",
    "    # Calculate false positive and false negative\n",
    "    false_pos = np.count_nonzero((y - y_hat) < 0)\n",
    "    false_neg = np.count_nonzero((y - y_hat) > 0)\n",
    "\n",
    "    # Calculate true positive and true negatives\n",
    "    true_pos = np.count_nonzero((y * y_hat) == 1)\n",
    "\n",
    "    precision = true_pos / (true_pos + false_pos)\n",
    "    recall = true_pos / (true_pos + false_neg)\n",
    "    return precision,recall\n",
    "\n",
    "\n",
    "def f1(precision, recall):\n",
    "    if precision + recall > 0:\n",
    "        return 2 * (precision * recall) / (precision + recall)\n",
    "    return 0\n",
    "\n",
    "\n",
    "def get_accuracy(y_hat, y):\n",
    "    correct = np.count_nonzero((y == y_hat))\n",
    "    return correct / y.shape[0]\n",
    "\n",
    "\n",
    "def perf_metrics(X_val, y_val, w):\n",
    "    scores = score(X_val, w)\n",
    "    predictions = scores >= 0\n",
    "\n",
    "    prec, rec = precision_recall(predictions, y_val)\n",
    "    print(\"Precision: {}\\nRecall: {}\".format(prec, rec))\n",
    "\n",
    "    f1_score = f1(prec, rec)\n",
    "    print(\"F1 score: {}\".format(f1_score))\n",
    "\n",
    "    accuracy = get_accuracy(predictions, y_val)\n",
    "    print('Accuracy: {}%'.format(accuracy * 100))\n",
    "    return accuracy"
   ]
  },
  {
   "cell_type": "code",
   "execution_count": 36,
   "id": "91ad92fd",
   "metadata": {},
   "outputs": [],
   "source": [
    "def tune_hyperparameters(X_train, y_train, X_val, y_val, lambda_values, num_iters_values):\n",
    "    max_accuracy = 0\n",
    "    best_lambda1 = 0\n",
    "    best_num_iters = 0\n",
    "\n",
    "    for lambda1 in lambda_values:\n",
    "        for num_iters in num_iters_values:\n",
    "            print(\"lambda1= {}, num_iter= {}\".format(lambda1, num_iters))\n",
    "            w = pegasos(X_train, y_train, lambda1, num_iters)\n",
    "            curr_accuracy = perf_metrics(X_val, y_val, w)\n",
    "            if curr_accuracy > max_accuracy:\n",
    "                max_accuracy = curr_accuracy\n",
    "                best_lambda1, best_num_iters = lambda1, num_iters\n",
    "            print(\"==================================\")\n",
    "            \n",
    "\n",
    "    return \"Best lambda1 = {}\\nBest num_iter = {}\\nBest accuracy = {}%\".format(best_lambda1, best_num_iters, max_accuracy*100)\n"
   ]
  },
  {
   "cell_type": "markdown",
   "id": "26770b7b",
   "metadata": {},
   "source": [
    "#### Training the Pegasos algorithm on  $X_{\\text{train}}$ and $y_{\\text{train}}$ to get weight vector"
   ]
  },
  {
   "cell_type": "code",
   "execution_count": 33,
   "id": "6f290f84",
   "metadata": {},
   "outputs": [
    {
     "data": {
      "text/plain": [
       "array([ 0.37059052, -0.21082389,  0.75894773, -0.46405325, -0.08963237,\n",
       "        0.00374905,  0.07936874,  0.62022818, -0.52939569, -0.90897302,\n",
       "        0.33319363, -0.99032243, -0.86425678])"
      ]
     },
     "execution_count": 33,
     "metadata": {},
     "output_type": "execute_result"
    }
   ],
   "source": [
    "lambda1 = 0.005\n",
    "num_iters = 50\n",
    "\n",
    "w = pegasos(X_train, y_train, lambda1, num_iters)\n",
    "w"
   ]
  },
  {
   "cell_type": "markdown",
   "id": "a047eec1",
   "metadata": {},
   "source": [
    "#### Accuracy Estimation on the Validation Set "
   ]
  },
  {
   "cell_type": "code",
   "execution_count": 34,
   "id": "d0adbcf5",
   "metadata": {},
   "outputs": [
    {
     "name": "stdout",
     "output_type": "stream",
     "text": [
      "Accuracy: 70.0%\n"
     ]
    }
   ],
   "source": [
    "N_val = y_val.shape[0]\n",
    "threshold = 0\n",
    "\n",
    "scores = score(X_val, w)\n",
    "predictions = scores >= 0\n",
    "\n",
    "accuracy = np.count_nonzero(predictions == y_val) / N_val\n",
    "print('Accuracy: {}%'.format(accuracy * 100))"
   ]
  },
  {
   "cell_type": "markdown",
   "id": "68afe469",
   "metadata": {},
   "source": [
    "#### Tuning Hyperparameters"
   ]
  },
  {
   "cell_type": "code",
   "execution_count": 37,
   "id": "84b1e8ad",
   "metadata": {},
   "outputs": [
    {
     "name": "stdout",
     "output_type": "stream",
     "text": [
      "lambda1= 0.001, num_iter= 10\n",
      "Precision: 0.8181818181818182\n",
      "Recall: 0.8181818181818182\n",
      "F1 score: 0.8181818181818182\n",
      "Accuracy: 80.0%\n",
      "==================================\n",
      "lambda1= 0.001, num_iter= 20\n",
      "Precision: 0.7272727272727273\n",
      "Recall: 0.7272727272727273\n",
      "F1 score: 0.7272727272727273\n",
      "Accuracy: 70.0%\n",
      "==================================\n",
      "lambda1= 0.001, num_iter= 30\n",
      "Precision: 0.6666666666666666\n",
      "Recall: 0.5454545454545454\n",
      "F1 score: 0.6\n",
      "Accuracy: 60.0%\n",
      "==================================\n",
      "lambda1= 0.001, num_iter= 40\n",
      "Precision: 0.7\n",
      "Recall: 0.6363636363636364\n",
      "F1 score: 0.6666666666666666\n",
      "Accuracy: 65.0%\n",
      "==================================\n",
      "lambda1= 0.001, num_iter= 50\n",
      "Precision: 0.75\n",
      "Recall: 0.8181818181818182\n",
      "F1 score: 0.7826086956521738\n",
      "Accuracy: 75.0%\n",
      "==================================\n",
      "lambda1= 0.005, num_iter= 10\n",
      "Precision: 0.75\n",
      "Recall: 0.8181818181818182\n",
      "F1 score: 0.7826086956521738\n",
      "Accuracy: 75.0%\n",
      "==================================\n",
      "lambda1= 0.005, num_iter= 20\n",
      "Precision: 0.7272727272727273\n",
      "Recall: 0.7272727272727273\n",
      "F1 score: 0.7272727272727273\n",
      "Accuracy: 70.0%\n",
      "==================================\n",
      "lambda1= 0.005, num_iter= 30\n",
      "Precision: 0.75\n",
      "Recall: 0.8181818181818182\n",
      "F1 score: 0.7826086956521738\n",
      "Accuracy: 75.0%\n",
      "==================================\n",
      "lambda1= 0.005, num_iter= 40\n",
      "Precision: 0.75\n",
      "Recall: 0.8181818181818182\n",
      "F1 score: 0.7826086956521738\n",
      "Accuracy: 75.0%\n",
      "==================================\n",
      "lambda1= 0.005, num_iter= 50\n",
      "Precision: 0.7272727272727273\n",
      "Recall: 0.7272727272727273\n",
      "F1 score: 0.7272727272727273\n",
      "Accuracy: 70.0%\n",
      "==================================\n",
      "lambda1= 0.01, num_iter= 10\n",
      "Precision: 0.75\n",
      "Recall: 0.8181818181818182\n",
      "F1 score: 0.7826086956521738\n",
      "Accuracy: 75.0%\n",
      "==================================\n",
      "lambda1= 0.01, num_iter= 20\n",
      "Precision: 0.75\n",
      "Recall: 0.8181818181818182\n",
      "F1 score: 0.7826086956521738\n",
      "Accuracy: 75.0%\n",
      "==================================\n",
      "lambda1= 0.01, num_iter= 30\n",
      "Precision: 0.75\n",
      "Recall: 0.8181818181818182\n",
      "F1 score: 0.7826086956521738\n",
      "Accuracy: 75.0%\n",
      "==================================\n",
      "lambda1= 0.01, num_iter= 40\n",
      "Precision: 0.75\n",
      "Recall: 0.8181818181818182\n",
      "F1 score: 0.7826086956521738\n",
      "Accuracy: 75.0%\n",
      "==================================\n",
      "lambda1= 0.01, num_iter= 50\n",
      "Precision: 0.75\n",
      "Recall: 0.8181818181818182\n",
      "F1 score: 0.7826086956521738\n",
      "Accuracy: 75.0%\n",
      "==================================\n",
      "lambda1= 0.05, num_iter= 10\n",
      "Precision: 0.75\n",
      "Recall: 0.8181818181818182\n",
      "F1 score: 0.7826086956521738\n",
      "Accuracy: 75.0%\n",
      "==================================\n",
      "lambda1= 0.05, num_iter= 20\n",
      "Precision: 0.75\n",
      "Recall: 0.8181818181818182\n",
      "F1 score: 0.7826086956521738\n",
      "Accuracy: 75.0%\n",
      "==================================\n",
      "lambda1= 0.05, num_iter= 30\n",
      "Precision: 0.75\n",
      "Recall: 0.8181818181818182\n",
      "F1 score: 0.7826086956521738\n",
      "Accuracy: 75.0%\n",
      "==================================\n",
      "lambda1= 0.05, num_iter= 40\n",
      "Precision: 0.75\n",
      "Recall: 0.8181818181818182\n",
      "F1 score: 0.7826086956521738\n",
      "Accuracy: 75.0%\n",
      "==================================\n",
      "lambda1= 0.05, num_iter= 50\n",
      "Precision: 0.75\n",
      "Recall: 0.8181818181818182\n",
      "F1 score: 0.7826086956521738\n",
      "Accuracy: 75.0%\n",
      "==================================\n",
      "lambda1= 0.1, num_iter= 10\n",
      "Precision: 0.75\n",
      "Recall: 0.8181818181818182\n",
      "F1 score: 0.7826086956521738\n",
      "Accuracy: 75.0%\n",
      "==================================\n",
      "lambda1= 0.1, num_iter= 20\n",
      "Precision: 0.75\n",
      "Recall: 0.8181818181818182\n",
      "F1 score: 0.7826086956521738\n",
      "Accuracy: 75.0%\n",
      "==================================\n",
      "lambda1= 0.1, num_iter= 30\n",
      "Precision: 0.75\n",
      "Recall: 0.8181818181818182\n",
      "F1 score: 0.7826086956521738\n",
      "Accuracy: 75.0%\n",
      "==================================\n",
      "lambda1= 0.1, num_iter= 40\n",
      "Precision: 0.75\n",
      "Recall: 0.8181818181818182\n",
      "F1 score: 0.7826086956521738\n",
      "Accuracy: 75.0%\n",
      "==================================\n",
      "lambda1= 0.1, num_iter= 50\n",
      "Precision: 0.75\n",
      "Recall: 0.8181818181818182\n",
      "F1 score: 0.7826086956521738\n",
      "Accuracy: 75.0%\n",
      "==================================\n"
     ]
    },
    {
     "data": {
      "text/plain": [
       "'Best lambda1 = 0.001\\nBest num_iter = 10\\nBest accuracy = 80.0%'"
      ]
     },
     "execution_count": 37,
     "metadata": {},
     "output_type": "execute_result"
    }
   ],
   "source": [
    "lambda_values = [0.001, 0.005, 0.01, 0.05, 0.1]\n",
    "num_iters_values = [10, 20, 30, 40, 50]\n",
    "\n",
    "tune_hyperparameters(X_train, y_train, X_val, y_val, lambda_values, num_iters_values)"
   ]
  },
  {
   "cell_type": "markdown",
   "id": "497250b9",
   "metadata": {},
   "source": [
    "Result after tuning hyperparameter for Pegasos algorithm:\n",
    "\n",
    "* Best lambda = 0.001\n",
    "* Best number of iterations = 10"
   ]
  },
  {
   "cell_type": "markdown",
   "id": "50f1e692",
   "metadata": {},
   "source": [
    "### **2.2. Kernel Functions**"
   ]
  },
  {
   "cell_type": "markdown",
   "id": "f7e41979",
   "metadata": {},
   "source": [
    "#### **Train on a subset**"
   ]
  },
  {
   "cell_type": "markdown",
   "id": "b1d029e3",
   "metadata": {},
   "source": [
    "Because training our model with kernels is quite computationally expensive, we first try to use a subset of 50 data points."
   ]
  },
  {
   "cell_type": "code",
   "execution_count": 11,
   "id": "a690b926",
   "metadata": {},
   "outputs": [],
   "source": [
    "# Define the subset size\n",
    "subset_size = 50\n",
    "\n",
    "# Take a subset of the original dataset\n",
    "X_train_subset, y_train_subset = X_train[:subset_size], y_train[:subset_size]\n",
    "X_val_subset, y_val_subset = X_val[:subset_size], y_val[:subset_size]\n",
    "X_test_subset, y_test_subset = X_test[:subset_size], y_test[:subset_size]"
   ]
  },
  {
   "cell_type": "markdown",
   "id": "7cac125e",
   "metadata": {},
   "source": [
    "##### **Linear Kernel**"
   ]
  },
  {
   "cell_type": "code",
   "execution_count": 12,
   "id": "7e896000",
   "metadata": {},
   "outputs": [
    {
     "name": "stdout",
     "output_type": "stream",
     "text": [
      "Accuracy with Linear Kernel: 0.85\n"
     ]
    }
   ],
   "source": [
    "# Initialize SVC with linear kernel\n",
    "svm_linear = SVC(kernel='linear', C=1E10)  # Choosing C to be large to ensure no misclassification points\n",
    "svm_linear.fit(X_train_subset, y_train_subset)\n",
    "y_pred_linear = svm_linear.predict(X_val_subset)\n",
    "accuracy_linear = accuracy_score(y_val_subset, y_pred_linear)\n",
    "print(\"Accuracy with Linear Kernel:\", accuracy_linear)"
   ]
  },
  {
   "cell_type": "markdown",
   "id": "6ca8fd2f",
   "metadata": {},
   "source": [
    "##### **Polynomial Kernel**"
   ]
  },
  {
   "cell_type": "code",
   "execution_count": 13,
   "id": "dc9c9949",
   "metadata": {},
   "outputs": [
    {
     "name": "stdout",
     "output_type": "stream",
     "text": [
      "Accuracy with Polynomial Kernel: 0.75\n"
     ]
    }
   ],
   "source": [
    "# Initialize SVC with polynomial kernel\n",
    "svm_poly = SVC(kernel='poly', degree=3)  # You can adjust the degree parameter\n",
    "svm_poly.fit(X_train_subset, y_train_subset)\n",
    "y_pred_poly = svm_poly.predict(X_val_subset)\n",
    "accuracy_poly = accuracy_score(y_val_subset, y_pred_poly)\n",
    "print(\"Accuracy with Polynomial Kernel:\", accuracy_poly)"
   ]
  },
  {
   "cell_type": "markdown",
   "id": "b4c7ed5d",
   "metadata": {},
   "source": [
    "##### **RBF Kernel**"
   ]
  },
  {
   "cell_type": "code",
   "execution_count": 14,
   "id": "16423e15",
   "metadata": {},
   "outputs": [
    {
     "name": "stdout",
     "output_type": "stream",
     "text": [
      "Accuracy with RBF Kernel: 0.75\n"
     ]
    }
   ],
   "source": [
    "# Initialize SVC with RBF kernel\n",
    "svm_rbf = SVC(kernel='rbf', C=1E6)\n",
    "svm_rbf.fit(X_train, y_train)\n",
    "y_pred_rbf = svm_rbf.predict(X_val)\n",
    "accuracy_rbf = accuracy_score(y_val, y_pred_rbf)\n",
    "print(\"Accuracy with RBF Kernel:\", accuracy_rbf)\n"
   ]
  },
  {
   "cell_type": "markdown",
   "id": "ede09660",
   "metadata": {},
   "source": [
    "#### **Use Grid-Search with Cross-Validation**"
   ]
  },
  {
   "cell_type": "markdown",
   "id": "b5e2017a",
   "metadata": {},
   "source": [
    "##### Define Parameter Grid"
   ]
  },
  {
   "cell_type": "code",
   "execution_count": 38,
   "id": "da5bbd86",
   "metadata": {},
   "outputs": [],
   "source": [
    "param_grid = {\n",
    "    'C': [0.1, 1, 10],                      # Regularization parameter\n",
    "    'kernel': ['linear', 'rbf', 'poly'],    # Kernel type\n",
    "    'gamma': [0.1, 1, 10],                  # Kernel coefficient for 'rbf' kernel\n",
    "    'degree': [2, 3, 4]                     # Degree of the polynomial kernel\n",
    "}\n"
   ]
  },
  {
   "cell_type": "markdown",
   "id": "8292327d",
   "metadata": {},
   "source": [
    "##### Training Model with GridSearchCV"
   ]
  },
  {
   "cell_type": "code",
   "execution_count": 41,
   "id": "9e78e114",
   "metadata": {},
   "outputs": [
    {
     "data": {
      "text/html": [
       "<style>#sk-container-id-1 {color: black;}#sk-container-id-1 pre{padding: 0;}#sk-container-id-1 div.sk-toggleable {background-color: white;}#sk-container-id-1 label.sk-toggleable__label {cursor: pointer;display: block;width: 100%;margin-bottom: 0;padding: 0.3em;box-sizing: border-box;text-align: center;}#sk-container-id-1 label.sk-toggleable__label-arrow:before {content: \"▸\";float: left;margin-right: 0.25em;color: #696969;}#sk-container-id-1 label.sk-toggleable__label-arrow:hover:before {color: black;}#sk-container-id-1 div.sk-estimator:hover label.sk-toggleable__label-arrow:before {color: black;}#sk-container-id-1 div.sk-toggleable__content {max-height: 0;max-width: 0;overflow: hidden;text-align: left;background-color: #f0f8ff;}#sk-container-id-1 div.sk-toggleable__content pre {margin: 0.2em;color: black;border-radius: 0.25em;background-color: #f0f8ff;}#sk-container-id-1 input.sk-toggleable__control:checked~div.sk-toggleable__content {max-height: 200px;max-width: 100%;overflow: auto;}#sk-container-id-1 input.sk-toggleable__control:checked~label.sk-toggleable__label-arrow:before {content: \"▾\";}#sk-container-id-1 div.sk-estimator input.sk-toggleable__control:checked~label.sk-toggleable__label {background-color: #d4ebff;}#sk-container-id-1 div.sk-label input.sk-toggleable__control:checked~label.sk-toggleable__label {background-color: #d4ebff;}#sk-container-id-1 input.sk-hidden--visually {border: 0;clip: rect(1px 1px 1px 1px);clip: rect(1px, 1px, 1px, 1px);height: 1px;margin: -1px;overflow: hidden;padding: 0;position: absolute;width: 1px;}#sk-container-id-1 div.sk-estimator {font-family: monospace;background-color: #f0f8ff;border: 1px dotted black;border-radius: 0.25em;box-sizing: border-box;margin-bottom: 0.5em;}#sk-container-id-1 div.sk-estimator:hover {background-color: #d4ebff;}#sk-container-id-1 div.sk-parallel-item::after {content: \"\";width: 100%;border-bottom: 1px solid gray;flex-grow: 1;}#sk-container-id-1 div.sk-label:hover label.sk-toggleable__label {background-color: #d4ebff;}#sk-container-id-1 div.sk-serial::before {content: \"\";position: absolute;border-left: 1px solid gray;box-sizing: border-box;top: 0;bottom: 0;left: 50%;z-index: 0;}#sk-container-id-1 div.sk-serial {display: flex;flex-direction: column;align-items: center;background-color: white;padding-right: 0.2em;padding-left: 0.2em;position: relative;}#sk-container-id-1 div.sk-item {position: relative;z-index: 1;}#sk-container-id-1 div.sk-parallel {display: flex;align-items: stretch;justify-content: center;background-color: white;position: relative;}#sk-container-id-1 div.sk-item::before, #sk-container-id-1 div.sk-parallel-item::before {content: \"\";position: absolute;border-left: 1px solid gray;box-sizing: border-box;top: 0;bottom: 0;left: 50%;z-index: -1;}#sk-container-id-1 div.sk-parallel-item {display: flex;flex-direction: column;z-index: 1;position: relative;background-color: white;}#sk-container-id-1 div.sk-parallel-item:first-child::after {align-self: flex-end;width: 50%;}#sk-container-id-1 div.sk-parallel-item:last-child::after {align-self: flex-start;width: 50%;}#sk-container-id-1 div.sk-parallel-item:only-child::after {width: 0;}#sk-container-id-1 div.sk-dashed-wrapped {border: 1px dashed gray;margin: 0 0.4em 0.5em 0.4em;box-sizing: border-box;padding-bottom: 0.4em;background-color: white;}#sk-container-id-1 div.sk-label label {font-family: monospace;font-weight: bold;display: inline-block;line-height: 1.2em;}#sk-container-id-1 div.sk-label-container {text-align: center;}#sk-container-id-1 div.sk-container {/* jupyter's `normalize.less` sets `[hidden] { display: none; }` but bootstrap.min.css set `[hidden] { display: none !important; }` so we also need the `!important` here to be able to override the default hidden behavior on the sphinx rendered scikit-learn.org. See: https://github.com/scikit-learn/scikit-learn/issues/21755 */display: inline-block !important;position: relative;}#sk-container-id-1 div.sk-text-repr-fallback {display: none;}</style><div id=\"sk-container-id-1\" class=\"sk-top-container\"><div class=\"sk-text-repr-fallback\"><pre>GridSearchCV(cv=5, estimator=SVC(),\n",
       "             param_grid={&#x27;C&#x27;: [0.1, 1, 10], &#x27;degree&#x27;: [2, 3, 4],\n",
       "                         &#x27;gamma&#x27;: [0.1, 1, 10],\n",
       "                         &#x27;kernel&#x27;: [&#x27;linear&#x27;, &#x27;rbf&#x27;, &#x27;poly&#x27;]})</pre><b>In a Jupyter environment, please rerun this cell to show the HTML representation or trust the notebook. <br />On GitHub, the HTML representation is unable to render, please try loading this page with nbviewer.org.</b></div><div class=\"sk-container\" hidden><div class=\"sk-item sk-dashed-wrapped\"><div class=\"sk-label-container\"><div class=\"sk-label sk-toggleable\"><input class=\"sk-toggleable__control sk-hidden--visually\" id=\"sk-estimator-id-1\" type=\"checkbox\" ><label for=\"sk-estimator-id-1\" class=\"sk-toggleable__label sk-toggleable__label-arrow\">GridSearchCV</label><div class=\"sk-toggleable__content\"><pre>GridSearchCV(cv=5, estimator=SVC(),\n",
       "             param_grid={&#x27;C&#x27;: [0.1, 1, 10], &#x27;degree&#x27;: [2, 3, 4],\n",
       "                         &#x27;gamma&#x27;: [0.1, 1, 10],\n",
       "                         &#x27;kernel&#x27;: [&#x27;linear&#x27;, &#x27;rbf&#x27;, &#x27;poly&#x27;]})</pre></div></div></div><div class=\"sk-parallel\"><div class=\"sk-parallel-item\"><div class=\"sk-item\"><div class=\"sk-label-container\"><div class=\"sk-label sk-toggleable\"><input class=\"sk-toggleable__control sk-hidden--visually\" id=\"sk-estimator-id-2\" type=\"checkbox\" ><label for=\"sk-estimator-id-2\" class=\"sk-toggleable__label sk-toggleable__label-arrow\">estimator: SVC</label><div class=\"sk-toggleable__content\"><pre>SVC()</pre></div></div></div><div class=\"sk-serial\"><div class=\"sk-item\"><div class=\"sk-estimator sk-toggleable\"><input class=\"sk-toggleable__control sk-hidden--visually\" id=\"sk-estimator-id-3\" type=\"checkbox\" ><label for=\"sk-estimator-id-3\" class=\"sk-toggleable__label sk-toggleable__label-arrow\">SVC</label><div class=\"sk-toggleable__content\"><pre>SVC()</pre></div></div></div></div></div></div></div></div></div></div>"
      ],
      "text/plain": [
       "GridSearchCV(cv=5, estimator=SVC(),\n",
       "             param_grid={'C': [0.1, 1, 10], 'degree': [2, 3, 4],\n",
       "                         'gamma': [0.1, 1, 10],\n",
       "                         'kernel': ['linear', 'rbf', 'poly']})"
      ]
     },
     "execution_count": 41,
     "metadata": {},
     "output_type": "execute_result"
    }
   ],
   "source": [
    "# Initialize\n",
    "svm = SVC()\n",
    "grid_search = GridSearchCV(svm, param_grid, cv=5)  # 5-fold cross-validation\n",
    "\n",
    "# Fit GridSearchCV\n",
    "grid_search.fit(X_train, y_train)"
   ]
  },
  {
   "cell_type": "markdown",
   "id": "95aa9376",
   "metadata": {},
   "source": [
    "##### Training Results"
   ]
  },
  {
   "cell_type": "code",
   "execution_count": 43,
   "id": "7eebc7d3",
   "metadata": {},
   "outputs": [
    {
     "name": "stdout",
     "output_type": "stream",
     "text": [
      "Mean accuracy for Linear kernel: [0.86211901 0.86211901 0.86211901 0.86211901 0.86211901 0.86211901\n",
      " 0.86211901 0.86211901 0.86211901 0.86204644 0.86204644 0.86204644\n",
      " 0.86204644 0.86204644 0.86204644 0.86204644 0.86204644 0.86204644\n",
      " 0.8658926  0.8658926  0.8658926  0.8658926  0.8658926  0.8658926\n",
      " 0.8658926  0.8658926  0.8658926 ]\n",
      "Mean accuracy for RBF kernel: [0.78940493 0.55174165 0.55174165 0.78940493 0.55174165 0.55174165\n",
      " 0.78940493 0.55174165 0.55174165 0.82772134 0.57111756 0.55174165\n",
      " 0.82772134 0.57111756 0.55174165 0.82772134 0.57111756 0.55174165\n",
      " 0.78563135 0.58265602 0.55174165 0.78563135 0.58265602 0.55174165\n",
      " 0.78563135 0.58265602 0.55174165]\n",
      "Mean accuracy for Polynomial kernel: [0.57467344 0.69738752 0.65130624 0.75101597 0.74738752 0.74738752\n",
      " 0.62082729 0.67859216 0.67859216 0.68976778 0.65522496 0.67438316\n",
      " 0.80087083 0.74738752 0.74738752 0.68207547 0.67859216 0.67859216\n",
      " 0.69738752 0.65130624 0.67438316 0.74731495 0.74738752 0.74738752\n",
      " 0.69782293 0.67859216 0.67859216]\n",
      "Best Parameters: {'C': 10, 'degree': 2, 'gamma': 0.1, 'kernel': 'linear'}\n",
      "Best Score: 0.8658925979680697\n"
     ]
    }
   ],
   "source": [
    "# Get the results for each kernel type\n",
    "results_linear = grid_search.cv_results_['mean_test_score'][grid_search.cv_results_['param_kernel'] == 'linear']\n",
    "results_rbf = grid_search.cv_results_['mean_test_score'][grid_search.cv_results_['param_kernel'] == 'rbf']\n",
    "results_poly = grid_search.cv_results_['mean_test_score'][grid_search.cv_results_['param_kernel'] == 'poly']\n",
    "\n",
    "print(\"Mean accuracy for Linear kernel:\", results_linear)\n",
    "print(\"Mean accuracy for RBF kernel:\", results_rbf)\n",
    "print(\"Mean accuracy for Polynomial kernel:\", results_poly)\n",
    "\n",
    "print(\"Best Parameters:\", grid_search.best_params_)\n",
    "print(\"Best Score:\", grid_search.best_score_)\n"
   ]
  },
  {
   "cell_type": "markdown",
   "id": "ccfdf12d",
   "metadata": {},
   "source": [
    "Training results show that linear kernel performs the best out of all 3, with the best regularization parameter C of 10."
   ]
  },
  {
   "cell_type": "markdown",
   "id": "5897836e",
   "metadata": {},
   "source": [
    "##### Validation Results"
   ]
  },
  {
   "cell_type": "code",
   "execution_count": 44,
   "id": "e221410e",
   "metadata": {},
   "outputs": [
    {
     "name": "stdout",
     "output_type": "stream",
     "text": [
      "Accuracy on validation set: 0.75\n"
     ]
    }
   ],
   "source": [
    "# Get the best performing model from the grid search\n",
    "best_model = grid_search.best_estimator_\n",
    "\n",
    "# Evaluate the best model on the validation data\n",
    "accuracy = best_model.score(X_val, y_val)\n",
    "print(\"Accuracy on validation set:\", accuracy)"
   ]
  },
  {
   "cell_type": "markdown",
   "id": "38e4fdb0",
   "metadata": {},
   "source": [
    "Linear kernel with C = 10 has a training accuracy of 86.6% and a validation accuracy of 75%"
   ]
  },
  {
   "cell_type": "markdown",
   "id": "b5e6f3d5",
   "metadata": {},
   "source": [
    "### **Data Visualization**"
   ]
  },
  {
   "cell_type": "code",
   "execution_count": 56,
   "id": "8533dbb9",
   "metadata": {},
   "outputs": [
    {
     "data": {
      "image/png": "[encoded data removed]",
      "text/plain": [
       "<Figure size 800x600 with 2 Axes>"
      ]
     },
     "metadata": {},
     "output_type": "display_data"
    }
   ],
   "source": [
    "# Select two features for visualization\n",
    "feature_1 = 'age'\n",
    "feature_2 = 'trestbps'\n",
    "label_1 = 'Age'\n",
    "label_2 = 'Resting Blood Pressure'\n",
    "# Get x,y column indices\n",
    "feature1_index = df.columns.get_loc(feature_1)\n",
    "feature2_index = df.columns.get_loc(feature_2)\n",
    "selected_features = [feature1_index, feature2_index]  # Replace with the indices of the two features you want to use\n",
    "\n",
    "# Retain only the selected features from the training data\n",
    "X_train_selected = X_train_subset[:, selected_features]\n",
    "\n",
    "# Train a new SVM model using only the selected features\n",
    "svm_linear_selected = SVC(kernel='linear', C=1E10)\n",
    "svm_linear_selected.fit(X_train_selected, y_train_subset)\n",
    "\n",
    "# Generate synthetic 13-dimensional dataset\n",
    "X, y = make_classification(n_samples=100, n_features=13, n_classes=2, n_clusters_per_class=1, random_state=42)\n",
    "\n",
    "# Plot decision boundary\n",
    "plt.figure(figsize=(8, 6))\n",
    "plt.scatter(X[:, feature1_index], X[:, feature2_index], c=y, cmap='viridis', marker='o', edgecolors='k', label='Data Points')\n",
    "\n",
    "# Create a mesh grid to plot decision boundary\n",
    "xx, yy = np.meshgrid(np.linspace(X[:, feature1_index].min() - 1, X[:, feature1_index].max() + 1, 500),\n",
    "                     np.linspace(X[:, feature2_index].min() - 1, X[:, feature2_index].max() + 1, 500))\n",
    "Z = svm_linear_selected.predict(np.c_[xx.ravel(), yy.ravel()]).reshape(xx.shape)\n",
    "plt.contourf(xx, yy, Z, alpha=0.3, cmap='viridis', levels=[0, 0.5, 1])\n",
    "plt.colorbar(label='Class')\n",
    "\n",
    "plt.xlabel(label_1)\n",
    "plt.ylabel(label_2)\n",
    "plt.title('Decision Boundary with Linear SVM')\n",
    "plt.legend()\n",
    "plt.show()"
   ]
  },
  {
   "cell_type": "code",
   "execution_count": null,
   "id": "1721c839",
   "metadata": {},
   "outputs": [],
   "source": []
  }
 ],
 "metadata": {
  "kernelspec": {
   "display_name": "Python 3 (ipykernel)",
   "language": "python",
   "name": "python3"
  },
  "language_info": {
   "codemirror_mode": {
    "name": "ipython",
    "version": 3
   },
   "file_extension": ".py",
   "mimetype": "text/x-python",
   "name": "python",
   "nbconvert_exporter": "python",
   "pygments_lexer": "ipython3",
   "version": "3.11.5"
  }
 },
 "nbformat": 4,
 "nbformat_minor": 5
}
